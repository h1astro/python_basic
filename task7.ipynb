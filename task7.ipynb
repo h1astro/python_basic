{
  "nbformat": 4,
  "nbformat_minor": 0,
  "metadata": {
    "colab": {
      "name": "task7_half.ipynb",
      "provenance": [],
      "collapsed_sections": []
    },
    "kernelspec": {
      "name": "python3",
      "display_name": "Python 3"
    }
  },
  "cells": [
    {
      "cell_type": "markdown",
      "metadata": {
        "id": "5ZxsEC8HjPSn",
        "colab_type": "text"
      },
      "source": [
        "# 类与对象\n",
        "1. 对象 = 属性 + 方法\n",
        "对象是类的实例。换句话说，类主要定义对象的结构，然后我们以类为模板创建对象。类不但包含方法定义，而且还包含所有实例共享的数据。\n",
        "\n",
        "* 封装：信息隐蔽技术\n",
        "\n",
        "我们可以使用关键字 class 定义 Python 类，关键字后面紧跟类的名称、分号和类的实现。"
      ]
    },
    {
      "cell_type": "code",
      "metadata": {
        "id": "HGLmAq5EjnJv",
        "colab_type": "code",
        "colab": {
          "base_uri": "https://localhost:8080/",
          "height": 153
        },
        "outputId": "5f9fe919-d0d4-407e-f786-b2c133a51be7"
      },
      "source": [
        "class Turtle:  # Python中的类名约定以大写字母开头\n",
        "    \"\"\"关于类的一个简单例子\"\"\"\n",
        "    # 属性\n",
        "    color = 'green'\n",
        "    weight = 10\n",
        "    legs = 4\n",
        "    shell = True\n",
        "    mouth = '大嘴'\n",
        "\n",
        "    # 方法\n",
        "    def climb(self):\n",
        "        print('我正在很努力的向前爬...')\n",
        "\n",
        "    def run(self):\n",
        "        print('我正在飞快的向前跑...')\n",
        "\n",
        "    def bite(self):\n",
        "        print('咬死你咬死你!!')\n",
        "\n",
        "    def eat(self):\n",
        "        print('有得吃，真满足...')\n",
        "\n",
        "    def sleep(self):\n",
        "        print('困了，睡了，晚安，zzz')\n",
        "\n",
        "\n",
        "tt = Turtle()\n",
        "print(tt)\n",
        "# <__main__.Turtle object at 0x0000007C32D67F98>\n",
        "\n",
        "print(type(tt))\n",
        "# <class '__main__.Turtle'>\n",
        "\n",
        "print(tt.__class__)\n",
        "# <class '__main__.Turtle'>\n",
        "\n",
        "print(tt.__class__.__name__)\n",
        "# Turtle\n",
        "\n",
        "tt.climb()\n",
        "# 我正在很努力的向前爬...\n",
        "\n",
        "tt.run()\n",
        "# 我正在飞快的向前跑...\n",
        "\n",
        "tt.bite()\n",
        "# 咬死你咬死你!!\n",
        "\n",
        "# Python类也是对象。它们是type的实例\n",
        "print(type(Turtle))\n",
        "# <class 'type'>"
      ],
      "execution_count": null,
      "outputs": [
        {
          "output_type": "stream",
          "text": [
            "<__main__.Turtle object at 0x7f4456e63438>\n",
            "<class '__main__.Turtle'>\n",
            "<class '__main__.Turtle'>\n",
            "Turtle\n",
            "我正在很努力的向前爬...\n",
            "我正在飞快的向前跑...\n",
            "咬死你咬死你!!\n",
            "<class 'type'>\n"
          ],
          "name": "stdout"
        }
      ]
    },
    {
      "cell_type": "markdown",
      "metadata": {
        "id": "OZ-fxiymovHf",
        "colab_type": "text"
      },
      "source": [
        "* 继承：子类自动共享父类之间数据和方法的机制"
      ]
    },
    {
      "cell_type": "code",
      "metadata": {
        "id": "Wl2YmM9fow7a",
        "colab_type": "code",
        "colab": {
          "base_uri": "https://localhost:8080/",
          "height": 33
        },
        "outputId": "fab86f7e-1e0e-490d-ea0e-29212c948270"
      },
      "source": [
        "class MyList(list):\n",
        "    pass\n",
        "\n",
        "\n",
        "lst = MyList([1, 5, 2, 7, 8])\n",
        "lst.append(9)\n",
        "lst.sort()\n",
        "print(lst)\n",
        "\n",
        "# [1, 2, 5, 7, 8, 9]"
      ],
      "execution_count": null,
      "outputs": [
        {
          "output_type": "stream",
          "text": [
            "[1, 2, 5, 7, 8, 9]\n"
          ],
          "name": "stdout"
        }
      ]
    },
    {
      "cell_type": "markdown",
      "metadata": {
        "id": "rwvICTXEo23z",
        "colab_type": "text"
      },
      "source": [
        "* 多态：不同对象对同一方法响应不同的行动"
      ]
    },
    {
      "cell_type": "code",
      "metadata": {
        "id": "pz_bzchfo4yF",
        "colab_type": "code",
        "colab": {
          "base_uri": "https://localhost:8080/",
          "height": 50
        },
        "outputId": "923282c5-005e-4807-8b85-bac13c51d465"
      },
      "source": [
        "class Animal:\n",
        "    def run(self):\n",
        "        raise AttributeError('子类必须实现这个方法')\n",
        "\n",
        "\n",
        "class People(Animal):\n",
        "    def run(self):\n",
        "        print('人正在走')\n",
        "\n",
        "\n",
        "class Pig(Animal):\n",
        "    def run(self):\n",
        "        print('pig is walking')\n",
        "\n",
        "\n",
        "class Dog(Animal):\n",
        "    def run(self):\n",
        "        print('dog is running')\n",
        "\n",
        "\n",
        "def func(animal):\n",
        "    animal.run()\n",
        "\n",
        "\n",
        "func(Pig())\n",
        "# pig is walking\n",
        "func(People())"
      ],
      "execution_count": null,
      "outputs": [
        {
          "output_type": "stream",
          "text": [
            "pig is walking\n",
            "人正在走\n"
          ],
          "name": "stdout"
        }
      ]
    },
    {
      "cell_type": "markdown",
      "metadata": {
        "id": "zREsAWNEpLeZ",
        "colab_type": "text"
      },
      "source": [
        "## 2. self 是什么？\n",
        "Python 的 self 相当于 C++ 的 this 指针。"
      ]
    },
    {
      "cell_type": "code",
      "metadata": {
        "id": "3QsUo-irpRFj",
        "colab_type": "code",
        "colab": {
          "base_uri": "https://localhost:8080/",
          "height": 50
        },
        "outputId": "ee700211-357e-4cb8-c6d0-9cc1cd06dbb5"
      },
      "source": [
        "class Test:\n",
        "    def prt(self):\n",
        "        print(self)\n",
        "        print(self.__class__)\n",
        "\n",
        "\n",
        "t = Test()\n",
        "t.prt()\n",
        "# <__main__.Test object at 0x000000BC5A351208>\n",
        "# <class '__main__.Test'>"
      ],
      "execution_count": null,
      "outputs": [
        {
          "output_type": "stream",
          "text": [
            "<__main__.Test object at 0x7f4456e63860>\n",
            "<class '__main__.Test'>\n"
          ],
          "name": "stdout"
        }
      ]
    },
    {
      "cell_type": "markdown",
      "metadata": {
        "id": "TJLy2HyCpU4_",
        "colab_type": "text"
      },
      "source": [
        "类的方法与普通的函数只有一个特别的区别 —— 它们必须有一个额外的第一个参数名称（对应于该实例，即该对象本身），按照惯例它的名称是 self。在调用方法时，我们无需明确提供与参数 self 相对应的参数。"
      ]
    },
    {
      "cell_type": "code",
      "metadata": {
        "id": "2MtxERcypbxa",
        "colab_type": "code",
        "colab": {
          "base_uri": "https://localhost:8080/",
          "height": 50
        },
        "outputId": "ca16200b-ed82-4548-8048-d58f6f1477fe"
      },
      "source": [
        "class Ball:\n",
        "    def setName(self, name):\n",
        "        self.name = name\n",
        "\n",
        "    def kick(self):\n",
        "        print(\"我叫%s,该死的，谁踢我...\" % self.name)\n",
        "\n",
        "\n",
        "a = Ball()\n",
        "a.setName(\"球A\")\n",
        "b = Ball()\n",
        "b.setName(\"球B\")\n",
        "c = Ball()\n",
        "c.setName(\"球C\")\n",
        "a.kick()\n",
        "# 我叫球A,该死的，谁踢我...\n",
        "b.kick()\n",
        "# 我叫球B,该死的，谁踢我...\n"
      ],
      "execution_count": null,
      "outputs": [
        {
          "output_type": "stream",
          "text": [
            "我叫球A,该死的，谁踢我...\n",
            "我叫球B,该死的，谁踢我...\n"
          ],
          "name": "stdout"
        }
      ]
    },
    {
      "cell_type": "markdown",
      "metadata": {
        "id": "beJ9OHxKqMdC",
        "colab_type": "text"
      },
      "source": [
        "## 3. Python 的魔法方法\n",
        "据说，Python 的对象天生拥有一些神奇的方法，它们是面向对象的 Python 的一切...\n",
        "\n",
        "它们是可以给你的类增加魔力的特殊方法...\n",
        "\n",
        "如果你的对象实现了这些方法中的某一个，那么这个方法就会在特殊的情况下被 Python 所调用，而这一切都是自动发生的...\n",
        "\n",
        "类有一个名为\\__init__\\(self[, param1, param2...])的魔法方法，该方法在类实例化时会自动调用。"
      ]
    },
    {
      "cell_type": "code",
      "metadata": {
        "id": "DCaKZCZsqT6X",
        "colab_type": "code",
        "colab": {
          "base_uri": "https://localhost:8080/",
          "height": 50
        },
        "outputId": "861b7672-918a-4292-b939-dfe7233bcf19"
      },
      "source": [
        "class Ball:\n",
        "    def __init__(self, name):\n",
        "        self.name = name\n",
        "\n",
        "    def kick(self):\n",
        "        print(\"我叫%s,该死的，谁踢我...\" % self.name)\n",
        "\n",
        "\n",
        "a = Ball(\"球A\")\n",
        "b = Ball(\"球B\")\n",
        "c = Ball(\"球C\")\n",
        "a.kick()\n",
        "# 我叫球A,该死的，谁踢我...\n",
        "b.kick()\n",
        "# 我叫球B,该死的，谁踢我..."
      ],
      "execution_count": null,
      "outputs": [
        {
          "output_type": "stream",
          "text": [
            "我叫球A,该死的，谁踢我...\n",
            "我叫球B,该死的，谁踢我...\n"
          ],
          "name": "stdout"
        }
      ]
    },
    {
      "cell_type": "markdown",
      "metadata": {
        "id": "cGFOntL2qejo",
        "colab_type": "text"
      },
      "source": [
        "## 4. 公有和私有\n",
        "在 Python 中定义私有变量只需要在变量名或函数名前加上“__”两个下划线，那么这个函数或变量就会为私有的了。\n",
        "\n",
        "【例子】类的私有属性实例"
      ]
    },
    {
      "cell_type": "code",
      "metadata": {
        "id": "-qp3iW53qg_E",
        "colab_type": "code",
        "colab": {
          "base_uri": "https://localhost:8080/",
          "height": 84
        },
        "outputId": "44bad961-dad6-4c94-bf66-768912aca386"
      },
      "source": [
        "class JustCounter:\n",
        "    __secretCount = 0  # 私有变量\n",
        "    publicCount = 0  # 公开变量\n",
        "\n",
        "    def count(self):\n",
        "        self.__secretCount += 1\n",
        "        self.publicCount += 1\n",
        "        print(self.__secretCount)\n",
        "\n",
        "\n",
        "counter = JustCounter()\n",
        "counter.count()  # 1\n",
        "counter.count()  # 2\n",
        "print(counter.publicCount)  # 2\n",
        "\n",
        "print(counter._JustCounter__secretCount)  # 2 Python的私有为伪私有\n",
        "# print(counter.__secretCount)  \n",
        "# AttributeError: 'JustCounter' object has no attribute '__secretCount'"
      ],
      "execution_count": null,
      "outputs": [
        {
          "output_type": "stream",
          "text": [
            "1\n",
            "2\n",
            "2\n",
            "2\n"
          ],
          "name": "stdout"
        }
      ]
    },
    {
      "cell_type": "markdown",
      "metadata": {
        "id": "34Y-ZD7AsCFA",
        "colab_type": "text"
      },
      "source": [
        "类的私有方法实例"
      ]
    },
    {
      "cell_type": "code",
      "metadata": {
        "id": "ph_B5GxjsCog",
        "colab_type": "code",
        "colab": {
          "base_uri": "https://localhost:8080/",
          "height": 84
        },
        "outputId": "b96a66f3-dfb6-4a64-fcc3-72adb570815e"
      },
      "source": [
        "class Site:\n",
        "    def __init__(self, name, url):\n",
        "        self.name = name  # public\n",
        "        self.__url = url  # private\n",
        "\n",
        "    def who(self):\n",
        "        print('name  : ', self.name)\n",
        "        print('url : ', self.__url)\n",
        "\n",
        "    def __foo(self):  # 私有方法\n",
        "        print('这是私有方法')\n",
        "\n",
        "    def foo(self):  # 公共方法\n",
        "        print('这是公共方法')\n",
        "        self.__foo()\n",
        "\n",
        "\n",
        "x = Site('老马的程序人生', 'https://blog.csdn.net/LSGO_MYP')\n",
        "x.who()\n",
        "# name  :  老马的程序人生\n",
        "# url :  https://blog.csdn.net/LSGO_MYP\n",
        "\n",
        "x.foo()\n",
        "# 这是公共方法\n",
        "# 这是私有方法\n",
        "\n",
        "# x.__foo()\n",
        "# AttributeError: 'Site' object has no attribute '__foo'"
      ],
      "execution_count": null,
      "outputs": [
        {
          "output_type": "stream",
          "text": [
            "name  :  老马的程序人生\n",
            "url :  https://blog.csdn.net/LSGO_MYP\n",
            "这是公共方法\n",
            "这是私有方法\n"
          ],
          "name": "stdout"
        }
      ]
    },
    {
      "cell_type": "markdown",
      "metadata": {
        "id": "gl4mGD_2sWE8",
        "colab_type": "text"
      },
      "source": [
        "## 5. 继承\n",
        "Python 同样支持类的继承，派生类的定义如下所示："
      ]
    },
    {
      "cell_type": "code",
      "metadata": {
        "id": "349tNl7ispU4",
        "colab_type": "code",
        "colab": {}
      },
      "source": [
        "class DerivedClassName(BaseClassName):\n",
        "    <statement-1>\n",
        "    .\n",
        "    .\n",
        "    .\n",
        "    <statement-N>"
      ],
      "execution_count": null,
      "outputs": []
    },
    {
      "cell_type": "markdown",
      "metadata": {
        "id": "eIoomeq0s1Ke",
        "colab_type": "text"
      },
      "source": [
        "BaseClassName（示例中的基类名）必须与派生类定义在一个作用域内。除了类，还可以用表达式，基类定义在另一个模块中时这一点非常有用"
      ]
    },
    {
      "cell_type": "code",
      "metadata": {
        "id": "PDUtoqT2tCNc",
        "colab_type": "code",
        "colab": {}
      },
      "source": [
        "class DerivedClassName(modname.BaseClassName):\n",
        "    <statement-1>\n",
        "    .\n",
        "    .\n",
        "    .\n",
        "    <statement-N>"
      ],
      "execution_count": null,
      "outputs": []
    },
    {
      "cell_type": "markdown",
      "metadata": {
        "id": "ObGcgUZ1tIN8",
        "colab_type": "text"
      },
      "source": [
        "如果子类中定义与父类同名的方法或属性，则会自动覆盖父类对应的方法或属性。"
      ]
    },
    {
      "cell_type": "code",
      "metadata": {
        "id": "RUCypyJmtLjg",
        "colab_type": "code",
        "colab": {
          "base_uri": "https://localhost:8080/",
          "height": 33
        },
        "outputId": "16232b1c-a8b8-4b1a-ad08-f9acac9d31b1"
      },
      "source": [
        "# 类定义\n",
        "class people:\n",
        "    # 定义基本属性\n",
        "    name = ''\n",
        "    age = 0\n",
        "    # 定义私有属性,私有属性在类外部无法直接进行访问\n",
        "    __weight = 0\n",
        "\n",
        "    # 定义构造方法\n",
        "    def __init__(self, n, a, w):\n",
        "        self.name = n\n",
        "        self.age = a\n",
        "        self.__weight = w\n",
        "\n",
        "    def speak(self):\n",
        "        print(\"%s 说: 我 %d 岁。\" % (self.name, self.age))\n",
        "\n",
        "\n",
        "# 单继承示例\n",
        "class student(people):\n",
        "    grade = ''\n",
        "\n",
        "    def __init__(self, n, a, w, g):\n",
        "        # 调用父类的构函\n",
        "        people.__init__(self, n, a, w)\n",
        "        self.grade = g\n",
        "\n",
        "    # 覆写父类的方法\n",
        "    def speak(self):\n",
        "        print(\"%s 说: 我 %d 岁了，我在读 %d 年级\" % (self.name, self.age, self.grade))\n",
        "\n",
        "\n",
        "s = student('小马的程序人生', 10, 60, 3)\n",
        "s.speak()\n",
        "# 小马的程序人生 说: 我 10 岁了，我在读 3 年级"
      ],
      "execution_count": null,
      "outputs": [
        {
          "output_type": "stream",
          "text": [
            "小马的程序人生 说: 我 10 岁了，我在读 3 年级\n"
          ],
          "name": "stdout"
        }
      ]
    },
    {
      "cell_type": "markdown",
      "metadata": {
        "id": "-QmkMg6RvM9a",
        "colab_type": "text"
      },
      "source": [
        "注意：如果上面的程序去掉：people.\\__init\\__(self, n, a, w)，则输出： 说: 我 0 岁了，我在读 3 年级，因为子类的构造方法把父类的构造方法覆盖了。"
      ]
    },
    {
      "cell_type": "code",
      "metadata": {
        "id": "786DyzQqvPQr",
        "colab_type": "code",
        "colab": {
          "base_uri": "https://localhost:8080/",
          "height": 50
        },
        "outputId": "93498a0a-b711-4db8-b899-4a1d1d882225"
      },
      "source": [
        "import random\n",
        "\n",
        "class Fish:\n",
        "    def __init__(self):\n",
        "        self.x = random.randint(0, 10)\n",
        "        self.y = random.randint(0, 10)\n",
        "\n",
        "    def move(self):\n",
        "        self.x -= 1\n",
        "        print(\"我的位置\", self.x, self.y)\n",
        "\n",
        "\n",
        "class GoldFish(Fish):  # 金鱼\n",
        "    pass\n",
        "\n",
        "\n",
        "class Carp(Fish):  # 鲤鱼\n",
        "    pass\n",
        "\n",
        "\n",
        "class Salmon(Fish):  # 三文鱼\n",
        "    pass\n",
        "\n",
        "\n",
        "class Shark(Fish):  # 鲨鱼\n",
        "    def __init__(self):\n",
        "        self.hungry = True\n",
        "\n",
        "    def eat(self):\n",
        "        if self.hungry:\n",
        "            print(\"吃货的梦想就是天天有得吃！\")\n",
        "            self.hungry = False\n",
        "        else:\n",
        "            print(\"太撑了，吃不下了！\")\n",
        "            self.hungry = True\n",
        "\n",
        "\n",
        "g = GoldFish()\n",
        "g.move()  # 我的位置 9 4\n",
        "s = Shark()\n",
        "s.eat() # 吃货的梦想就是天天有得吃！\n",
        "# s.move()  \n",
        "# AttributeError: 'Shark' object has no attribute 'x'"
      ],
      "execution_count": null,
      "outputs": [
        {
          "output_type": "stream",
          "text": [
            "我的位置 6 1\n",
            "吃货的梦想就是天天有得吃！\n"
          ],
          "name": "stdout"
        }
      ]
    },
    {
      "cell_type": "markdown",
      "metadata": {
        "id": "aqt84ZT6wL-E",
        "colab_type": "text"
      },
      "source": [
        "解决该问题可用以下两种方式：\n",
        "\n",
        "* 调用未绑定的父类方法Fish.\\__init\\__(self)"
      ]
    },
    {
      "cell_type": "code",
      "metadata": {
        "id": "56MATixrwO_J",
        "colab_type": "code",
        "colab": {}
      },
      "source": [
        "class Shark(Fish):  # 鲨鱼\n",
        "    def __init__(self):\n",
        "        Fish.__init__(self)\n",
        "        self.hungry = True\n",
        "\n",
        "    def eat(self):\n",
        "        if self.hungry:\n",
        "            print(\"吃货的梦想就是天天有得吃！\")\n",
        "            self.hungry = False\n",
        "        else:\n",
        "            print(\"太撑了，吃不下了！\")\n",
        "            self.hungry = True"
      ],
      "execution_count": null,
      "outputs": []
    },
    {
      "cell_type": "markdown",
      "metadata": {
        "id": "zeDj_0lAwkiT",
        "colab_type": "text"
      },
      "source": [
        "使用super函数super().\\__init\\__()"
      ]
    },
    {
      "cell_type": "code",
      "metadata": {
        "id": "Sq1Ad1Wcwmkw",
        "colab_type": "code",
        "colab": {}
      },
      "source": [
        "class Shark(Fish):  # 鲨鱼\n",
        "    def __init__(self):\n",
        "        super().__init__()\n",
        "        self.hungry = True\n",
        "\n",
        "    def eat(self):\n",
        "        if self.hungry:\n",
        "            print(\"吃货的梦想就是天天有得吃！\")\n",
        "            self.hungry = False\n",
        "        else:\n",
        "            print(\"太撑了，吃不下了！\")\n",
        "            self.hungry = True"
      ],
      "execution_count": null,
      "outputs": []
    },
    {
      "cell_type": "markdown",
      "metadata": {
        "id": "O1Ji6-Cyw5Y-",
        "colab_type": "text"
      },
      "source": [
        "Python 虽然支持多继承的形式，但我们一般不使用多继承，因为容易引起混乱。"
      ]
    },
    {
      "cell_type": "code",
      "metadata": {
        "id": "DppAvznWw58m",
        "colab_type": "code",
        "colab": {}
      },
      "source": [
        "class DerivedClassName(Base1, Base2, Base3):\n",
        "    <statement-1>\n",
        "    .\n",
        "    .\n",
        "    .\n",
        "    <statement-N>"
      ],
      "execution_count": null,
      "outputs": []
    },
    {
      "cell_type": "markdown",
      "metadata": {
        "id": "yRHNKAH5w7I4",
        "colab_type": "text"
      },
      "source": [
        "需要注意圆括号中父类的顺序，若是父类中有相同的方法名，而在子类使用时未指定，Python 从左至右搜索，即方法在子类中未找到时，从左到右查找父类中是否包含方法。"
      ]
    },
    {
      "cell_type": "code",
      "metadata": {
        "id": "4m-1zo05w9C2",
        "colab_type": "code",
        "colab": {
          "base_uri": "https://localhost:8080/",
          "height": 50
        },
        "outputId": "0edf024d-95cb-4dd3-c8e5-696a3cccc134"
      },
      "source": [
        "# 类定义\n",
        "class People:\n",
        "    # 定义基本属性\n",
        "    name = ''\n",
        "    age = 0\n",
        "    # 定义私有属性,私有属性在类外部无法直接进行访问\n",
        "    __weight = 0\n",
        "\n",
        "    # 定义构造方法\n",
        "    def __init__(self, n, a, w):\n",
        "        self.name = n\n",
        "        self.age = a\n",
        "        self.__weight = w\n",
        "\n",
        "    def speak(self):\n",
        "        print(\"%s 说: 我 %d 岁。\" % (self.name, self.age))\n",
        "\n",
        "\n",
        "# 单继承示例\n",
        "class Student(People):\n",
        "    grade = ''\n",
        "\n",
        "    def __init__(self, n, a, w, g):\n",
        "        # 调用父类的构函\n",
        "        People.__init__(self, n, a, w)\n",
        "        self.grade = g\n",
        "\n",
        "    # 覆写父类的方法\n",
        "    def speak(self):\n",
        "        print(\"%s 说: 我 %d 岁了，我在读 %d 年级\" % (self.name, self.age, self.grade))\n",
        "\n",
        "\n",
        "# 另一个类，多重继承之前的准备\n",
        "class Speaker:\n",
        "    topic = ''\n",
        "    name = ''\n",
        "\n",
        "    def __init__(self, n, t):\n",
        "        self.name = n\n",
        "        self.topic = t\n",
        "\n",
        "    def speak(self):\n",
        "        print(\"我叫 %s，我是一个演说家，我演讲的主题是 %s\" % (self.name, self.topic))\n",
        "\n",
        "\n",
        "# 多重继承\n",
        "class Sample01(Speaker, Student):\n",
        "    a = ''\n",
        "\n",
        "    def __init__(self, n, a, w, g, t):\n",
        "        Student.__init__(self, n, a, w, g)\n",
        "        Speaker.__init__(self, n, t)\n",
        "\n",
        "# 方法名同，默认调用的是在括号中排前地父类的方法\n",
        "test = Sample01(\"Tim\", 25, 80, 4, \"Python\")\n",
        "test.speak()  \n",
        "# 我叫 Tim，我是一个演说家，我演讲的主题是 Python\n",
        "\n",
        "class Sample02(Student, Speaker):    ## 前后顺序，默认前排\n",
        "    a = ''\n",
        "\n",
        "    def __init__(self, n, a, w, g, t):\n",
        "        Student.__init__(self, n, a, w, g)\n",
        "        Speaker.__init__(self, n, t)\n",
        "\n",
        "# 方法名同，默认调用的是在括号中排前地父类的方法\n",
        "test = Sample02(\"Tim\", 25, 80, 4, \"Python\")\n",
        "test.speak()  \n",
        "# Tim 说: 我 25 岁了，我在读 4 年级"
      ],
      "execution_count": null,
      "outputs": [
        {
          "output_type": "stream",
          "text": [
            "我叫 Tim，我是一个演说家，我演讲的主题是 Python\n",
            "Tim 说: 我 25 岁了，我在读 4 年级\n"
          ],
          "name": "stdout"
        }
      ]
    },
    {
      "cell_type": "markdown",
      "metadata": {
        "id": "a7kkE1oyyMQ2",
        "colab_type": "text"
      },
      "source": [
        "## 6. 组合"
      ]
    },
    {
      "cell_type": "code",
      "metadata": {
        "id": "WUJJztt-yNqu",
        "colab_type": "code",
        "colab": {
          "base_uri": "https://localhost:8080/",
          "height": 33
        },
        "outputId": "c9ed7715-c57f-4fd8-ab07-504fe736af57"
      },
      "source": [
        "class Turtle:\n",
        "    def __init__(self, x):\n",
        "        self.num = x\n",
        "\n",
        "\n",
        "class Fish:\n",
        "    def __init__(self, x):\n",
        "        self.num = x\n",
        "\n",
        "\n",
        "class Pool:\n",
        "    def __init__(self, x, y):\n",
        "        self.turtle = Turtle(x)\n",
        "        self.fish = Fish(y)\n",
        "\n",
        "    def print_num(self):\n",
        "        print(\"水池里面有乌龟%s只，小鱼%s条\" % (self.turtle.num, self.fish.num))\n",
        "\n",
        "\n",
        "p = Pool(2, 3)\n",
        "p.print_num()\n",
        "# 水池里面有乌龟2只，小鱼3条"
      ],
      "execution_count": null,
      "outputs": [
        {
          "output_type": "stream",
          "text": [
            "水池里面有乌龟2只，小鱼3条\n"
          ],
          "name": "stdout"
        }
      ]
    },
    {
      "cell_type": "markdown",
      "metadata": {
        "id": "xhzZmiFmyUAB",
        "colab_type": "text"
      },
      "source": [
        "## 7. 类、类对象和实例对象"
      ]
    },
    {
      "cell_type": "markdown",
      "metadata": {
        "id": "3sn-FZ4qzdIR",
        "colab_type": "text"
      },
      "source": [
        "类对象：创建一个类，其实也是一个对象也在内存开辟了一块空间，称为类对象，类对象只有一个。"
      ]
    },
    {
      "cell_type": "code",
      "metadata": {
        "id": "KtWtes2UzfDc",
        "colab_type": "code",
        "colab": {}
      },
      "source": [
        "# 类对象\n",
        "class A(object):\n",
        "    pass"
      ],
      "execution_count": null,
      "outputs": []
    },
    {
      "cell_type": "markdown",
      "metadata": {
        "id": "7wbxEhBnzxJs",
        "colab_type": "text"
      },
      "source": [
        "实例对象：就是通过实例化类创建的对象，称为实例对象，实例对象可以有多个。"
      ]
    },
    {
      "cell_type": "code",
      "metadata": {
        "id": "-shQ7Q7YzzH7",
        "colab_type": "code",
        "colab": {}
      },
      "source": [
        "# 实例化对象 a、b、c都属于实例对象。\n",
        "a = A()\n",
        "b = A()\n",
        "c = A()"
      ],
      "execution_count": null,
      "outputs": []
    },
    {
      "cell_type": "markdown",
      "metadata": {
        "id": "9I3YKhS90Ndl",
        "colab_type": "text"
      },
      "source": [
        "类属性：类里面方法外面定义的变量称为类属性。类属性所属于类对象并且多个实例对象之间共享同一个类属性，说白了就是类属性所有的通过该类实例化的对象都能共享。"
      ]
    },
    {
      "cell_type": "code",
      "metadata": {
        "id": "1vgZLojF0OYS",
        "colab_type": "code",
        "colab": {}
      },
      "source": [
        "class A():\n",
        "    a = 0  # 类属性\n",
        "\n",
        "    def __init__(self, xx):\n",
        "        # 使用类属性可以通过 （类名.类属性）调用。\n",
        "        A.a = xx"
      ],
      "execution_count": null,
      "outputs": []
    },
    {
      "cell_type": "markdown",
      "metadata": {
        "id": "DBrJKIii0QqG",
        "colab_type": "text"
      },
      "source": [
        "实例属性：实例属性和具体的某个实例对象有关系，并且一个实例对象和另外一个实例对象是不共享属性的，说白了实例属性只能在自己的对象里面使用，其他的对象不能直接使用，因为self是谁调用，它的值就属于该对象。"
      ]
    },
    {
      "cell_type": "code",
      "metadata": {
        "id": "FDUxeeqC0l9t",
        "colab_type": "code",
        "colab": {}
      },
      "source": [
        "class 类名():\n",
        "    __init__(self)：\n",
        "        self.name = xx #实例属性"
      ],
      "execution_count": null,
      "outputs": []
    },
    {
      "cell_type": "markdown",
      "metadata": {
        "id": "1GcX117iz2oX",
        "colab_type": "text"
      },
      "source": [
        "类属性和实例属性区别\n",
        "\n",
        "* 类属性：类外面，可以通过实例对象.类属性和类名.类属性进行调用。类里面，通过self.类属性和类名.类属性进行调用。\n",
        "* 实例属性 ：类外面，可以通过实例对象.实例属性调用。类里面，通过self.实例属性调用。\n",
        "* 实例属性就相当于局部变量。出了这个类或者这个类的实例对象，就没有作用了。\n",
        "* 类属性就相当于类里面的全局变量，可以和这个类的所有实例对象共享。"
      ]
    },
    {
      "cell_type": "code",
      "metadata": {
        "id": "B5w_YAvb0r9p",
        "colab_type": "code",
        "colab": {}
      },
      "source": [
        "# 创建类对象\n",
        "class Test(object):\n",
        "    class_attr = 100  # 类属性\n",
        "\n",
        "    def __init__(self):\n",
        "        self.sl_attr = 100  # 实例属性\n",
        "\n",
        "    def func(self):\n",
        "        print('类对象.类属性的值:', Test.class_attr)  # 调用类属性\n",
        "        print('self.类属性的值', self.class_attr)  # 相当于把类属性 变成实例属性\n",
        "        print('self.实例属性的值', self.sl_attr)  # 调用实例属性\n",
        "\n",
        "\n",
        "a = Test()\n",
        "a.func()\n",
        "\n",
        "# 类对象.类属性的值: 100\n",
        "# self.类属性的值 100\n",
        "# self.实例属性的值 100\n",
        "\n",
        "b = Test()\n",
        "b.func()\n",
        "\n",
        "# 类对象.类属性的值: 100\n",
        "# self.类属性的值 100\n",
        "# self.实例属性的值 100\n",
        "\n",
        "a.class_attr = 200\n",
        "a.sl_attr = 200\n",
        "a.func()\n",
        "\n",
        "# 类对象.类属性的值: 100\n",
        "# self.类属性的值 200\n",
        "# self.实例属性的值 200\n",
        "\n",
        "b.func()\n",
        "\n",
        "# 类对象.类属性的值: 100\n",
        "# self.类属性的值 100\n",
        "# self.实例属性的值 100\n",
        "\n",
        "Test.class_attr = 300\n",
        "a.func()\n",
        "\n",
        "# 类对象.类属性的值: 300\n",
        "# self.类属性的值 200\n",
        "# self.实例属性的值 200\n",
        "\n",
        "b.func()\n",
        "# 类对象.类属性的值: 300\n",
        "# self.类属性的值 300\n",
        "# self.实例属性的值 100"
      ],
      "execution_count": null,
      "outputs": []
    },
    {
      "cell_type": "markdown",
      "metadata": {
        "id": "W1ShvmmS3RL6",
        "colab_type": "text"
      },
      "source": [
        "注意：属性与方法名相同，属性会覆盖方法。"
      ]
    },
    {
      "cell_type": "code",
      "metadata": {
        "id": "7DaYhGlZ3R2F",
        "colab_type": "code",
        "colab": {
          "base_uri": "https://localhost:8080/",
          "height": 50
        },
        "outputId": "d264492a-9509-42b0-a3bb-43fdbca924d4"
      },
      "source": [
        "class A:\n",
        "    def x(self):\n",
        "        print('x_man')\n",
        "\n",
        "\n",
        "aa = A()\n",
        "aa.x()  # x_man\n",
        "aa.x = 1\n",
        "print(aa.x)  # 1\n",
        "# aa.x()\n",
        "# TypeError: 'int' object is not callable"
      ],
      "execution_count": null,
      "outputs": [
        {
          "output_type": "stream",
          "text": [
            "x_man\n",
            "1\n"
          ],
          "name": "stdout"
        }
      ]
    },
    {
      "cell_type": "markdown",
      "metadata": {
        "id": "dKD9s-113c5l",
        "colab_type": "text"
      },
      "source": [
        "## 8. 什么是绑定？\n",
        "Python 严格要求方法需要有实例才能被调用，这种限制其实就是 Python 所谓的绑定概念。\n",
        "\n",
        "Python 对象的数据属性通常存储在名为.__ dict__的字典中，我们可以直接访问__dict__，或利用 Python 的内置函数vars()获取.__ dict__。"
      ]
    },
    {
      "cell_type": "code",
      "metadata": {
        "id": "4lV_jd0m3fel",
        "colab_type": "code",
        "colab": {
          "base_uri": "https://localhost:8080/",
          "height": 137
        },
        "outputId": "ab09ca0c-2b86-4884-e29b-31b72d0729fd"
      },
      "source": [
        "class CC:\n",
        "    def setXY(self, x, y):\n",
        "        self.x = x\n",
        "        self.y = y\n",
        "\n",
        "    def printXY(self):\n",
        "        print(self.x, self.y)\n",
        "\n",
        "\n",
        "dd = CC()\n",
        "print(dd.__dict__)\n",
        "# {}\n",
        "\n",
        "print(vars(dd))\n",
        "# {}\n",
        "\n",
        "print(CC.__dict__)\n",
        "# {'__module__': '__main__', 'setXY': <function CC.setXY at 0x000000C3473DA048>, 'printXY': <function CC.printXY at 0x000000C3473C4F28>, '__dict__': <attribute '__dict__' of 'CC' objects>, '__weakref__': <attribute '__weakref__' of 'CC' objects>, '__doc__': None}\n",
        "\n",
        "dd.setXY(4, 5)\n",
        "print(dd.__dict__)\n",
        "# {'x': 4, 'y': 5}\n",
        "\n",
        "print(vars(CC))\n",
        "# {'__module__': '__main__', 'setXY': <function CC.setXY at 0x000000632CA9B048>, 'printXY': <function CC.printXY at 0x000000632CA83048>, '__dict__': <attribute '__dict__' of 'CC' objects>, '__weakref__': <attribute '__weakref__' of 'CC' objects>, '__doc__': None}\n",
        "\n",
        "print(CC.__dict__)\n",
        "# {'__module__': '__main__', 'setXY': <function CC.setXY at 0x000000632CA9B048>, 'printXY': <function CC.printXY at 0x000000632CA83048>, '__dict__': <attribute '__dict__' of 'CC' objects>, '__weakref__': <attribute '__weakref__' of 'CC' objects>, '__doc__': None}"
      ],
      "execution_count": null,
      "outputs": [
        {
          "output_type": "stream",
          "text": [
            "{}\n",
            "{}\n",
            "{'__module__': '__main__', 'setXY': <function CC.setXY at 0x7f4456d7f0d0>, 'printXY': <function CC.printXY at 0x7f4456e73950>, '__dict__': <attribute '__dict__' of 'CC' objects>, '__weakref__': <attribute '__weakref__' of 'CC' objects>, '__doc__': None}\n",
            "{'x': 4, 'y': 5}\n",
            "{'__module__': '__main__', 'setXY': <function CC.setXY at 0x7f4456d7f0d0>, 'printXY': <function CC.printXY at 0x7f4456e73950>, '__dict__': <attribute '__dict__' of 'CC' objects>, '__weakref__': <attribute '__weakref__' of 'CC' objects>, '__doc__': None}\n",
            "{'__module__': '__main__', 'setXY': <function CC.setXY at 0x7f4456d7f0d0>, 'printXY': <function CC.printXY at 0x7f4456e73950>, '__dict__': <attribute '__dict__' of 'CC' objects>, '__weakref__': <attribute '__weakref__' of 'CC' objects>, '__doc__': None}\n"
          ],
          "name": "stdout"
        }
      ]
    },
    {
      "cell_type": "markdown",
      "metadata": {
        "id": "XM72DCFu3-r2",
        "colab_type": "text"
      },
      "source": [
        "## 9. 一些相关的内置函数（BIF）\n",
        "* issubclass(class, classinfo) 方法用于判断参数 class 是否是类型参数 classinfo 的子类。\n",
        "* 一个类被认为是其自身的子类。\n",
        "* classinfo可以是类对象的元组，只要class是其中任何一个候选类的子类，则返回True。"
      ]
    },
    {
      "cell_type": "code",
      "metadata": {
        "id": "RryTlI-P4EDh",
        "colab_type": "code",
        "colab": {
          "base_uri": "https://localhost:8080/",
          "height": 84
        },
        "outputId": "c74ccc8a-28bf-46d1-ed6c-d3f994191f16"
      },
      "source": [
        "class A:\n",
        "    pass\n",
        "\n",
        "\n",
        "class B(A):\n",
        "    pass\n",
        "\n",
        "\n",
        "print(issubclass(B, A))  # True\n",
        "print(issubclass(B, B))  # True\n",
        "print(issubclass(A, B))  # False\n",
        "print(issubclass(B, object))  # True"
      ],
      "execution_count": null,
      "outputs": [
        {
          "output_type": "stream",
          "text": [
            "True\n",
            "True\n",
            "False\n",
            "True\n"
          ],
          "name": "stdout"
        }
      ]
    },
    {
      "cell_type": "markdown",
      "metadata": {
        "id": "icoF2MDj4ph0",
        "colab_type": "text"
      },
      "source": [
        "* isinstance(object, classinfo) 方法用于判断一个对象是否是一个已知的类型，类似type()。\n",
        "* type()不会认为子类是一种父类类型，不考虑继承关系。\n",
        "* isinstance()会认为子类是一种父类类型，考虑继承关系。\n",
        "* 如果第一个参数不是对象，则永远返回False。\n",
        "* 如果第二个参数不是类或者由类对象组成的元组，会抛出一个TypeError异常。"
      ]
    },
    {
      "cell_type": "code",
      "metadata": {
        "id": "cN4PhGWR4t-h",
        "colab_type": "code",
        "colab": {
          "base_uri": "https://localhost:8080/",
          "height": 134
        },
        "outputId": "a42cd4c6-56ca-4fc7-c30e-4cd6565af381"
      },
      "source": [
        "a = 2\n",
        "print(isinstance(a, int))  # True\n",
        "print(isinstance(a, str))  # False\n",
        "print(isinstance(a, (str, int, list)))  # True\n",
        "\n",
        "\n",
        "class A:\n",
        "    pass\n",
        "\n",
        "\n",
        "class B(A):\n",
        "    pass\n",
        "\n",
        "\n",
        "print(isinstance(A(), A))  # True\n",
        "print(type(A()) == A)  # True\n",
        "print(isinstance(B(), A))  # True\n",
        "print(type(B()) == A)  # False"
      ],
      "execution_count": null,
      "outputs": [
        {
          "output_type": "stream",
          "text": [
            "True\n",
            "False\n",
            "True\n",
            "True\n",
            "True\n",
            "True\n",
            "False\n"
          ],
          "name": "stdout"
        }
      ]
    },
    {
      "cell_type": "markdown",
      "metadata": {
        "id": "m_cIJmYv4zSn",
        "colab_type": "text"
      },
      "source": [
        "* hasattr(object, name)用于判断对象是否包含对应的属性。"
      ]
    },
    {
      "cell_type": "code",
      "metadata": {
        "id": "KCvD0JRr42PQ",
        "colab_type": "code",
        "colab": {
          "base_uri": "https://localhost:8080/",
          "height": 84
        },
        "outputId": "565336b3-5f95-4076-9c72-38ca30ebfc70"
      },
      "source": [
        "class Coordinate:\n",
        "    x = 10\n",
        "    y = -5\n",
        "    z = 0\n",
        "\n",
        "\n",
        "point1 = Coordinate()\n",
        "print(hasattr(point1, 'x'))  # True\n",
        "print(hasattr(point1, 'y'))  # True\n",
        "print(hasattr(point1, 'z'))  # True\n",
        "print(hasattr(point1, 'no'))  # False"
      ],
      "execution_count": null,
      "outputs": [
        {
          "output_type": "stream",
          "text": [
            "True\n",
            "True\n",
            "True\n",
            "False\n"
          ],
          "name": "stdout"
        }
      ]
    },
    {
      "cell_type": "markdown",
      "metadata": {
        "id": "L0HkY5bSQRHW",
        "colab_type": "text"
      },
      "source": [
        "getattr(object, name[, default])用于返回一个对象属性值。"
      ]
    },
    {
      "cell_type": "code",
      "metadata": {
        "id": "ijDck62aQR2s",
        "colab_type": "code",
        "colab": {
          "base_uri": "https://localhost:8080/",
          "height": 50
        },
        "outputId": "e68de731-3edc-4c8f-cca6-a9bd09524cf1"
      },
      "source": [
        "class A(object):\n",
        "    bar = 1\n",
        "\n",
        "\n",
        "a = A()\n",
        "print(getattr(a, 'bar'))  # 1\n",
        "print(getattr(a, 'bar2', 3))  # 3\n",
        "# print(getattr(a, 'bar2'))\n",
        "# AttributeError: 'A' object has no attribute 'bar2'"
      ],
      "execution_count": null,
      "outputs": [
        {
          "output_type": "stream",
          "text": [
            "1\n",
            "3\n"
          ],
          "name": "stdout"
        }
      ]
    },
    {
      "cell_type": "markdown",
      "metadata": {
        "id": "Wioe7c8iQXik",
        "colab_type": "text"
      },
      "source": [
        "这个例子很酷！"
      ]
    },
    {
      "cell_type": "code",
      "metadata": {
        "id": "GX9XjgItQ2pI",
        "colab_type": "code",
        "colab": {
          "base_uri": "https://localhost:8080/",
          "height": 33
        },
        "outputId": "01088173-5b6b-4793-c35a-b02c22ed3ed3"
      },
      "source": [
        "class A(object):\n",
        "    def set(self, a, b):\n",
        "        x = a\n",
        "        a = b\n",
        "        b = x\n",
        "        print(a, b)\n",
        "\n",
        "\n",
        "a = A()\n",
        "c = getattr(a, 'set')\n",
        "c(a='1', b='2')  # 2 1"
      ],
      "execution_count": null,
      "outputs": [
        {
          "output_type": "stream",
          "text": [
            "2 1\n"
          ],
          "name": "stdout"
        }
      ]
    },
    {
      "cell_type": "markdown",
      "metadata": {
        "id": "YYHQn01kQ41q",
        "colab_type": "text"
      },
      "source": [
        "* setattr(object, name, value)对应函数 getattr()，用于设置属性值，该属性不一定是存在的。"
      ]
    },
    {
      "cell_type": "code",
      "metadata": {
        "id": "hkpoohnpQ7Mo",
        "colab_type": "code",
        "colab": {
          "base_uri": "https://localhost:8080/",
          "height": 67
        },
        "outputId": "cf8eb186-b994-44e2-9bab-98b52b247d0b"
      },
      "source": [
        "class A(object):\n",
        "    bar = 1\n",
        "\n",
        "\n",
        "a = A()\n",
        "print(getattr(a, 'bar'))  # 1\n",
        "setattr(a, 'bar', 5)\n",
        "print(a.bar)  # 5\n",
        "setattr(a, \"age\", 28)\n",
        "print(a.age)  # 28"
      ],
      "execution_count": null,
      "outputs": [
        {
          "output_type": "stream",
          "text": [
            "1\n",
            "5\n",
            "28\n"
          ],
          "name": "stdout"
        }
      ]
    },
    {
      "cell_type": "markdown",
      "metadata": {
        "id": "9nA7MCW5Q9ba",
        "colab_type": "text"
      },
      "source": [
        "* delattr(object, name)用于删除属性。"
      ]
    },
    {
      "cell_type": "code",
      "metadata": {
        "id": "iG5AgaURRKAv",
        "colab_type": "code",
        "colab": {
          "base_uri": "https://localhost:8080/",
          "height": 117
        },
        "outputId": "e7d1cc12-88b8-443f-990a-aeac714d1028"
      },
      "source": [
        "class Coordinate:\n",
        "    x = 10\n",
        "    y = -5\n",
        "    z = 0\n",
        "\n",
        "\n",
        "point1 = Coordinate()\n",
        "\n",
        "print('x = ', point1.x)  # x =  10\n",
        "print('y = ', point1.y)  # y =  -5\n",
        "print('z = ', point1.z)  # z =  0\n",
        "\n",
        "delattr(Coordinate, 'z')\n",
        "\n",
        "print('--删除 z 属性后--')  # --删除 z 属性后--\n",
        "print('x = ', point1.x)  # x =  10\n",
        "print('y = ', point1.y)  # y =  -5\n",
        "\n",
        "# 触发错误\n",
        "# print('z = ', point1.z)\n",
        "# AttributeError: 'Coordinate' object has no attribute 'z'"
      ],
      "execution_count": null,
      "outputs": [
        {
          "output_type": "stream",
          "text": [
            "x =  10\n",
            "y =  -5\n",
            "z =  0\n",
            "--删除 z 属性后--\n",
            "x =  10\n",
            "y =  -5\n"
          ],
          "name": "stdout"
        }
      ]
    },
    {
      "cell_type": "markdown",
      "metadata": {
        "id": "acXXz1qjRPWh",
        "colab_type": "text"
      },
      "source": [
        "class property([fget[, fset[, fdel[, doc]]]])用于在新式类中返回属性值。\n",
        "- fget -- 获取属性值的函数\n",
        "- fset -- 设置属性值的函数\n",
        "- fdel -- 删除属性值函数\n",
        "- doc -- 属性描述信息"
      ]
    },
    {
      "cell_type": "code",
      "metadata": {
        "id": "mRpKr9HoRUTt",
        "colab_type": "code",
        "colab": {
          "base_uri": "https://localhost:8080/",
          "height": 33
        },
        "outputId": "bcd96476-a204-4a6a-f6ca-062548a917fb"
      },
      "source": [
        "class C(object):\n",
        "    def __init__(self):\n",
        "        self.__x = None\n",
        "\n",
        "    def getx(self):\n",
        "        return self.__x\n",
        "\n",
        "    def setx(self, value):\n",
        "        self.__x = value\n",
        "\n",
        "    def delx(self):\n",
        "        del self.__x\n",
        "\n",
        "    x = property(getx, setx, delx, \"I'm the 'x' property.\")\n",
        "\n",
        "\n",
        "cc = C()\n",
        "cc.x = 2\n",
        "print(cc.x)  # 2\n",
        "\n",
        "del cc.x\n",
        "# print(cc.x)\n",
        "# AttributeError: 'C' object has no attribute '_C__x'"
      ],
      "execution_count": null,
      "outputs": [
        {
          "output_type": "stream",
          "text": [
            "2\n"
          ],
          "name": "stdout"
        }
      ]
    },
    {
      "cell_type": "markdown",
      "metadata": {
        "id": "YEuvgJpASOFt",
        "colab_type": "text"
      },
      "source": [
        "# 练习题"
      ]
    },
    {
      "cell_type": "markdown",
      "metadata": {
        "id": "Y_Q23LYkSxkp",
        "colab_type": "text"
      },
      "source": [
        "## 1、以下类定义中哪些是类属性，哪些是实例属性？\n",
        "\n",
        "```python\n",
        "class C:\n",
        "    num = 0\n",
        "    def __init__(self):\n",
        "        self.x = 4\n",
        "        self.y = 5\n",
        "        C.count = 6\n",
        "```"
      ]
    },
    {
      "cell_type": "markdown",
      "metadata": {
        "id": "syiwib22SYJB",
        "colab_type": "text"
      },
      "source": [
        "### 类属性：\n",
        "* num\n",
        "* count\n",
        "\n",
        "### 实例属性\n",
        "* x\n",
        "* y\n"
      ]
    },
    {
      "cell_type": "markdown",
      "metadata": {
        "id": "7x_fAUsjSqjX",
        "colab_type": "text"
      },
      "source": [
        "## 2、怎么定义私有⽅法？"
      ]
    },
    {
      "cell_type": "markdown",
      "metadata": {
        "id": "-siOk0wdTTSG",
        "colab_type": "text"
      },
      "source": [
        "方法名前面加入 __"
      ]
    },
    {
      "cell_type": "markdown",
      "metadata": {
        "id": "gegQqd4TTYuV",
        "colab_type": "text"
      },
      "source": [
        "## 3、尝试执行以下代码，并解释错误原因：\n",
        "\n",
        "```python\n",
        "class C:\n",
        "    def myFun():\n",
        "        print('Hello!')\n",
        "    c = C()\n",
        "    c.myFun()\n",
        "```\n",
        "\n",
        "---\n",
        "\n"
      ]
    },
    {
      "cell_type": "code",
      "metadata": {
        "id": "bWg7WqbATeq5",
        "colab_type": "code",
        "colab": {
          "base_uri": "https://localhost:8080/",
          "height": 33
        },
        "outputId": "5d879754-6f14-41d1-9747-ac392bfbb598"
      },
      "source": [
        "## 缩进问题,以及在定义函数后缺了self\n",
        "\n",
        "class C:\n",
        "  def myFun(self):\n",
        "    print('Hello!')\n",
        "c = C()\n",
        "c.myFun()"
      ],
      "execution_count": null,
      "outputs": [
        {
          "output_type": "stream",
          "text": [
            "Hello!\n"
          ],
          "name": "stdout"
        }
      ]
    },
    {
      "cell_type": "markdown",
      "metadata": {
        "id": "VCgoZMdTULkp",
        "colab_type": "text"
      },
      "source": [
        "## 4、按照以下要求定义一个游乐园门票的类，并尝试计算2个成人+1个小孩平日票价。\n",
        "\n",
        "要求:\n",
        "\n",
        "* 平日票价100元\n",
        "* 周末票价为平日的120%\n",
        "* 儿童票半价"
      ]
    },
    {
      "cell_type": "code",
      "metadata": {
        "id": "fFoKhH9FUP-Z",
        "colab_type": "code",
        "colab": {
          "base_uri": "https://localhost:8080/",
          "height": 33
        },
        "outputId": "9438a2cb-3c6c-4d1f-cb3d-8b9632e9af1b"
      },
      "source": [
        "class Ticket():\n",
        "  price=100\n",
        "  \n",
        "  def __init__(self,man,child,day):\n",
        "    if day.lower()==\"weekday\":\n",
        "      self.price=100*1.2\n",
        "    self.man=man\n",
        "    self.child=child\n",
        "\n",
        "  def calc_price(self):\n",
        "    total_price=self.price*self.man+self.price*self.child*0.5\n",
        "    print(total_price)\n",
        "\n",
        "tick=Ticket(2,1,\"workday\")\n",
        "tick.calc_price()"
      ],
      "execution_count": null,
      "outputs": [
        {
          "output_type": "stream",
          "text": [
            "250.0\n"
          ],
          "name": "stdout"
        }
      ]
    },
    {
      "cell_type": "markdown",
      "metadata": {
        "id": "Xans2fB80V8A",
        "colab_type": "text"
      },
      "source": [
        "# 魔法方法"
      ]
    },
    {
      "cell_type": "markdown",
      "metadata": {
        "id": "T6atk9pB0c-P",
        "colab_type": "text"
      },
      "source": [
        "魔法方法总是被双下划线包围，例如\\__init\\__。\n",
        "\n",
        "魔法方法是面向对象的 Python 的一切，如果你不知道魔法方法，说明你还没能意识到面向对象的 Python 的强大。\n",
        "\n",
        "魔法方法的“魔力”体现在它们总能够在适当的时候被自动调用。\n",
        "\n",
        "魔法方法的第一个参数应为cls（类方法） 或者self（实例方法）。\n",
        "\n",
        "* cls：代表一个类的名称\n",
        "* self：代表一个实例对象的名称\n",
        "\n",
        "## 1. 基本的魔法方法\n",
        "\\__init\\__(self[, ...]) 构造器，当一个实例被创建的时候调用的初始化方法"
      ]
    },
    {
      "cell_type": "code",
      "metadata": {
        "id": "L9mnguWz0YxJ",
        "colab_type": "code",
        "colab": {
          "base_uri": "https://localhost:8080/",
          "height": 50
        },
        "outputId": "b3e7637e-c24c-4463-9969-8cd3c98ce3dd"
      },
      "source": [
        "class Rectangle:\n",
        "    def __init__(self, x, y):\n",
        "        self.x = x\n",
        "        self.y = y\n",
        "\n",
        "    def getPeri(self):\n",
        "        return (self.x + self.y) * 2\n",
        "\n",
        "    def getArea(self):\n",
        "        return self.x * self.y\n",
        "\n",
        "\n",
        "rect = Rectangle(4, 5)\n",
        "print(rect.getPeri())  # 18\n",
        "print(rect.getArea())  # 20"
      ],
      "execution_count": 1,
      "outputs": [
        {
          "output_type": "stream",
          "text": [
            "18\n",
            "20\n"
          ],
          "name": "stdout"
        }
      ]
    },
    {
      "cell_type": "markdown",
      "metadata": {
        "id": "n1Px_dPJ0zZY",
        "colab_type": "text"
      },
      "source": [
        "\\__new\\__(cls[, ...]) 在一个对象实例化的时候所调用的第一个方法，在调用\\__init\\__初始化前，先调用\\__new\\__。\n",
        "* \\__new\\__至少要有一个参数cls，代表要实例化的类，此参数在实例化时由 Python 解释器自动提供，后面的参数直接传递给\\__init\\__。\n",
        "* \\__new\\__对当前类进行了实例化，并将实例返回，传给\\__init\\__的self。但是，执行了\\__new\\__，并不一定会进入\\__init\\__，只有\\__new\\__返回了，当前类cls的实例，当前类的\\__init\\__才会进入。"
      ]
    },
    {
      "cell_type": "code",
      "metadata": {
        "id": "waMLHw-t1FMU",
        "colab_type": "code",
        "colab": {
          "base_uri": "https://localhost:8080/",
          "height": 184
        },
        "outputId": "064cc531-bdb1-4b6a-c38c-59288b9681fe"
      },
      "source": [
        "class A(object):\n",
        "    def __init__(self, value):\n",
        "        print(\"into A __init__\")\n",
        "        self.value = value\n",
        "\n",
        "    def __new__(cls, *args, **kwargs):\n",
        "        print(\"into A __new__\")\n",
        "        print(cls)\n",
        "        return object.__new__(cls)\n",
        "\n",
        "\n",
        "class B(A):\n",
        "    def __init__(self, value):\n",
        "        print(\"into B __init__\")\n",
        "        self.value = value\n",
        "\n",
        "    def __new__(cls, *args, **kwargs):\n",
        "        print(\"into B __new__\")\n",
        "        print(cls)\n",
        "        return super().__new__(cls, *args, **kwargs)\n",
        "\n",
        "\n",
        "b = B(10)\n",
        "\n",
        "# 结果：\n",
        "# into B __new__\n",
        "# <class '__main__.B'>\n",
        "# into A __new__\n",
        "# <class '__main__.B'>\n",
        "# into B __init__\n",
        "\n",
        "class A(object):\n",
        "    def __init__(self, value):\n",
        "        print(\"into A __init__\")\n",
        "        self.value = value\n",
        "\n",
        "    def __new__(cls, *args, **kwargs):\n",
        "        print(\"into A __new__\")\n",
        "        print(cls)\n",
        "        return object.__new__(cls)\n",
        "\n",
        "\n",
        "class B(A):\n",
        "    def __init__(self, value):\n",
        "        print(\"into B __init__\")\n",
        "        self.value = value\n",
        "\n",
        "    def __new__(cls, *args, **kwargs):\n",
        "        print(\"into B __new__\")\n",
        "        print(cls)\n",
        "        return super().__new__(A, *args, **kwargs)  # 改动了cls变为A\n",
        "\n",
        "print(\"----\")\n",
        "b = B(10)\n",
        "\n",
        "# 结果：\n",
        "# into B __new__\n",
        "# <class '__main__.B'>\n",
        "# into A __new__\n",
        "# <class '__main__.A'>"
      ],
      "execution_count": 3,
      "outputs": [
        {
          "output_type": "stream",
          "text": [
            "into B __new__\n",
            "<class '__main__.B'>\n",
            "into A __new__\n",
            "<class '__main__.B'>\n",
            "into B __init__\n",
            "----\n",
            "into B __new__\n",
            "<class '__main__.B'>\n",
            "into A __new__\n",
            "<class '__main__.A'>\n"
          ],
          "name": "stdout"
        }
      ]
    },
    {
      "cell_type": "markdown",
      "metadata": {
        "id": "3-bMITW7104P",
        "colab_type": "text"
      },
      "source": [
        "若\\__new\\__没有正确返回当前类cls的实例，那\\__init\\__是不会被调用的，即使是父类的实例也不行，将没有\\__init\\__被调用。\n",
        "\n",
        "利用\\__new\\__实现单例模式。"
      ]
    },
    {
      "cell_type": "code",
      "metadata": {
        "id": "fGIzsHaw1434",
        "colab_type": "code",
        "colab": {
          "base_uri": "https://localhost:8080/",
          "height": 84
        },
        "outputId": "ef637ebf-88e2-4558-cd72-bdcb85f7c63c"
      },
      "source": [
        "class Earth:\n",
        "    pass\n",
        "\n",
        "\n",
        "a = Earth()\n",
        "print(id(a))  # 260728291456\n",
        "b = Earth()\n",
        "print(id(b))  # 260728291624\n",
        "\n",
        "class Earth:\n",
        "    __instance = None  # 定义一个类属性做判断\n",
        "\n",
        "    def __new__(cls):\n",
        "        if cls.__instance is None:\n",
        "            cls.__instance = object.__new__(cls)\n",
        "            return cls.__instance\n",
        "        else:\n",
        "            return cls.__instance\n",
        "\n",
        "\n",
        "a = Earth()\n",
        "print(id(a))  # 512320401648\n",
        "b = Earth()\n",
        "print(id(b))  # 512320401648"
      ],
      "execution_count": 4,
      "outputs": [
        {
          "output_type": "stream",
          "text": [
            "140631297800568\n",
            "140631297798608\n",
            "140631297801688\n",
            "140631297801688\n"
          ],
          "name": "stdout"
        }
      ]
    },
    {
      "cell_type": "markdown",
      "metadata": {
        "id": "G37zEggI2Mjl",
        "colab_type": "text"
      },
      "source": [
        "\\__new\\__方法主要是当你继承一些不可变的 class 时（比如int, str, tuple）， 提供给你一个自定义这些类的实例化过程的途径。"
      ]
    },
    {
      "cell_type": "code",
      "metadata": {
        "id": "tsdgp2-O2Qov",
        "colab_type": "code",
        "colab": {
          "base_uri": "https://localhost:8080/",
          "height": 33
        },
        "outputId": "1e36d620-ecc5-44c8-8688-85ba221fdc43"
      },
      "source": [
        "class CapStr(str):\n",
        "    def __new__(cls, string):\n",
        "        string = string.upper()\n",
        "        return str.__new__(cls, string)\n",
        "\n",
        "\n",
        "a = CapStr(\"i love lsgogroup\")\n",
        "print(a)  # I LOVE LSGOGROUP"
      ],
      "execution_count": 5,
      "outputs": [
        {
          "output_type": "stream",
          "text": [
            "I LOVE LSGOGROUP\n"
          ],
          "name": "stdout"
        }
      ]
    },
    {
      "cell_type": "markdown",
      "metadata": {
        "id": "vO3kohBW2TCw",
        "colab_type": "text"
      },
      "source": [
        "\\__del\\__(self) 析构器，当一个对象将要被系统回收之时调用的方法。\n",
        "\n",
        "> Python 采用自动引用计数（ARC）方式来回收对象所占用的空间，当程序中有一个变量引用该 Python 对象时，Python 会自动保证该对象引用计数为 1；当程序中有两个变量引用该 Python 对象时，Python 会自动保证该对象引用计数为 2，依此类推，如果一个对象的引用计数变成了 0，则说明程序中不再有变量引用该对象，表明程序不再需要该对象，因此 Python 就会回收该对象。\n",
        "\n",
        "> 大部分时候，Python 的 ARC 都能准确、高效地回收系统中的每个对象。但如果系统中出现循环引用的情况，比如对象 a 持有一个实例变量引用对象 b，而对象 b 又持有一个实例变量引用对象 a，此时两个对象的引用计数都是 1，而实际上程序已经不再有变量引用它们，系统应该回收它们，此时 Python 的垃圾回收器就可能没那么快，要等专门的循环垃圾回收器（Cyclic Garbage Collector）来检测并回收这种引用循环。"
      ]
    },
    {
      "cell_type": "code",
      "metadata": {
        "id": "IOZKHCvx2mwT",
        "colab_type": "code",
        "colab": {
          "base_uri": "https://localhost:8080/",
          "height": 50
        },
        "outputId": "fa44888b-7d50-4188-d340-2add8ab9dbc2"
      },
      "source": [
        "class C(object):\n",
        "    def __init__(self):\n",
        "        print('into C __init__')\n",
        "\n",
        "    def __del__(self):\n",
        "        print('into C __del__')\n",
        "\n",
        "\n",
        "c1 = C()\n",
        "# into C __init__\n",
        "c2 = c1\n",
        "c3 = c2\n",
        "del c3\n",
        "del c2\n",
        "del c1\n",
        "# into C __del__"
      ],
      "execution_count": 10,
      "outputs": [
        {
          "output_type": "stream",
          "text": [
            "into C __init__\n",
            "into C __del__\n"
          ],
          "name": "stdout"
        }
      ]
    },
    {
      "cell_type": "code",
      "metadata": {
        "id": "Qeq3DjLo3JZG",
        "colab_type": "code",
        "colab": {}
      },
      "source": [
        "__str__(self):\n",
        "\n",
        "* 当你打印一个对象的时候，触发__str__\n",
        "* 当你使用%s格式化的时候，触发__str__\n",
        "* str强转数据类型的时候，触发__str__\n",
        "\n",
        "__repr__(self)：\n",
        "\n",
        "* repr是str的备胎\n",
        "* 有__str__的时候执行__str__,没有实现__str__的时候，执行__repr__\n",
        "* repr(obj)内置函数对应的结果是__repr__的返回值\n",
        "* 当你使用%r格式化的时候 触发__repr__"
      ],
      "execution_count": null,
      "outputs": []
    },
    {
      "cell_type": "code",
      "metadata": {
        "id": "jG-ZKHGO3XLp",
        "colab_type": "code",
        "colab": {
          "base_uri": "https://localhost:8080/",
          "height": 100
        },
        "outputId": "a50b5d78-e0c8-4b0a-a794-3f7049efb337"
      },
      "source": [
        "class Cat:\n",
        "    \"\"\"定义一个猫类\"\"\"\n",
        "\n",
        "    def __init__(self, new_name, new_age):\n",
        "        \"\"\"在创建完对象之后 会自动调用, 它完成对象的初始化的功能\"\"\"\n",
        "        self.name = new_name\n",
        "        self.age = new_age\n",
        "\n",
        "    def __str__(self):\n",
        "        \"\"\"返回一个对象的描述信息\"\"\"\n",
        "        return \"名字是:%s , 年龄是:%d\" % (self.name, self.age)\n",
        "        \n",
        "    def __repr__(self):\n",
        "        \"\"\"返回一个对象的描述信息\"\"\"\n",
        "        return \"Cat:(%s,%d)\" % (self.name, self.age)\n",
        "\n",
        "    def __abc__(self):\n",
        "      print(\"dkgaj;a\")\n",
        "\n",
        "    def eat(self):\n",
        "        print(\"%s在吃鱼....\" % self.name)\n",
        "\n",
        "    def drink(self):\n",
        "        print(\"%s在喝可乐...\" % self.name)\n",
        "\n",
        "    def introduce(self):\n",
        "        print(\"名字是:%s, 年龄是:%d\" % (self.name, self.age))\n",
        "\n",
        "\n",
        "# 创建了一个对象\n",
        "tom = Cat(\"汤姆\", 30)\n",
        "print(tom)  # 名字是:汤姆 , 年龄是:30\n",
        "# print(tom.__abc__())\n",
        "print(str(tom)) # 名字是:汤姆 , 年龄是:30\n",
        "print(repr(tom))  # Cat:(汤姆,30)\n",
        "tom.eat()  # 汤姆在吃鱼....\n",
        "tom.introduce()  # 名字是:汤姆, 年龄是:30"
      ],
      "execution_count": 15,
      "outputs": [
        {
          "output_type": "stream",
          "text": [
            "名字是:汤姆 , 年龄是:30\n",
            "名字是:汤姆 , 年龄是:30\n",
            "Cat:(汤姆,30)\n",
            "汤姆在吃鱼....\n",
            "名字是:汤姆, 年龄是:30\n"
          ],
          "name": "stdout"
        }
      ]
    },
    {
      "cell_type": "markdown",
      "metadata": {
        "id": "2m0Ky1Do5uAf",
        "colab_type": "text"
      },
      "source": [
        "\\__str\\__(self) 的返回结果可读性强。也就是说，\\__str\\__ 的意义是得到便于人们阅读的信息，就像下面的 '2019-10-11' 一样。\n",
        "\n",
        "\\__repr\\__(self) 的返回结果应更准确。怎么说，\\__repr\\__ 存在的目的在于调试，便于开发者使用。"
      ]
    },
    {
      "cell_type": "code",
      "metadata": {
        "id": "tMoHT3RX50uJ",
        "colab_type": "code",
        "colab": {
          "base_uri": "https://localhost:8080/",
          "height": 84
        },
        "outputId": "bda9a1ff-506b-4fe6-d1b7-0e2a0159ea4c"
      },
      "source": [
        "import datetime\n",
        "\n",
        "today = datetime.date.today()\n",
        "print(str(today))  # 2019-10-11\n",
        "print(repr(today))  # datetime.date(2019, 10, 11)\n",
        "print('%s' %today)  # 2019-10-11\n",
        "print('%r' %today)  # datetime.date(2019, 10, 11)"
      ],
      "execution_count": 16,
      "outputs": [
        {
          "output_type": "stream",
          "text": [
            "2020-08-05\n",
            "datetime.date(2020, 8, 5)\n",
            "2020-08-05\n",
            "datetime.date(2020, 8, 5)\n"
          ],
          "name": "stdout"
        }
      ]
    },
    {
      "cell_type": "markdown",
      "metadata": {
        "id": "EKsaqOUb6A_k",
        "colab_type": "text"
      },
      "source": [
        "## 2. 算术运算符\n",
        "类型工厂函数，指的是“不通过类而是通过函数来创建对象”。"
      ]
    },
    {
      "cell_type": "code",
      "metadata": {
        "id": "EI55sjDu6EVY",
        "colab_type": "code",
        "colab": {
          "base_uri": "https://localhost:8080/",
          "height": 150
        },
        "outputId": "2d9c6c52-3ea7-4ec6-8821-be562f157707"
      },
      "source": [
        "class C:\n",
        "    pass\n",
        "\n",
        "\n",
        "print(type(len))  # <class 'builtin_function_or_method'>\n",
        "print(type(dir))  # <class 'builtin_function_or_method'>\n",
        "print(type(int))  # <class 'type'>\n",
        "print(type(list))  # <class 'type'>\n",
        "print(type(tuple))  # <class 'type'>\n",
        "print(type(C))  # <class 'type'>\n",
        "print(int('123'))  # 123\n",
        "\n",
        "# 这个例子中list工厂函数把一个元祖对象加工成了一个列表对象。\n",
        "print(list((1, 2, 3)))  # [1, 2, 3]"
      ],
      "execution_count": 17,
      "outputs": [
        {
          "output_type": "stream",
          "text": [
            "<class 'builtin_function_or_method'>\n",
            "<class 'builtin_function_or_method'>\n",
            "<class 'type'>\n",
            "<class 'type'>\n",
            "<class 'type'>\n",
            "<class 'type'>\n",
            "123\n",
            "[1, 2, 3]\n"
          ],
          "name": "stdout"
        }
      ]
    },
    {
      "cell_type": "markdown",
      "metadata": {
        "id": "_aaK_kIN6kNW",
        "colab_type": "text"
      },
      "source": [
        "\\__add\\__(self, other)定义加法的行为：+\n",
        "\n",
        "\\__sub\\__(self, other)定义减法的行为：-"
      ]
    },
    {
      "cell_type": "code",
      "metadata": {
        "id": "wOi-Wq-26mhE",
        "colab_type": "code",
        "colab": {
          "base_uri": "https://localhost:8080/",
          "height": 84
        },
        "outputId": "fce51650-a3ca-47d3-d440-592bd6a9daa6"
      },
      "source": [
        "class MyClass:\n",
        "\n",
        "    def __init__(self, height, weight):\n",
        "        self.height = height\n",
        "        self.weight = weight\n",
        "\n",
        "    # 两个对象的长相加，宽不变.返回一个新的类\n",
        "    def __add__(self, others):\n",
        "        return MyClass(self.height + others.height, self.weight + others.weight)\n",
        "\n",
        "    # 两个对象的宽相减，长不变.返回一个新的类\n",
        "    def __sub__(self, others):\n",
        "        return MyClass(self.height - others.height, self.weight - others.weight)\n",
        "\n",
        "    # 说一下自己的参数\n",
        "    def intro(self):\n",
        "        print(\"高为\", self.height, \" 重为\", self.weight)\n",
        "\n",
        "\n",
        "def main():\n",
        "    a = MyClass(height=10, weight=5)\n",
        "    a.intro()\n",
        "\n",
        "    b = MyClass(height=20, weight=10)\n",
        "    b.intro()\n",
        "\n",
        "    c = b - a\n",
        "    c.intro()\n",
        "\n",
        "    d = a + b\n",
        "    d.intro()\n",
        "\n",
        "\n",
        "if __name__ == '__main__':\n",
        "    main()\n",
        "\n",
        "# 高为 10  重为 5\n",
        "# 高为 20  重为 10\n",
        "# 高为 10  重为 5\n",
        "# 高为 30  重为 15"
      ],
      "execution_count": 18,
      "outputs": [
        {
          "output_type": "stream",
          "text": [
            "高为 10  重为 5\n",
            "高为 20  重为 10\n",
            "高为 10  重为 5\n",
            "高为 30  重为 15\n"
          ],
          "name": "stdout"
        }
      ]
    },
    {
      "cell_type": "code",
      "metadata": {
        "id": "Dx3ToTRk7QnL",
        "colab_type": "code",
        "colab": {}
      },
      "source": [
        "__mul__(self, other)定义乘法的行为：*\n",
        "__truediv__(self, other)定义真除法的行为：/\n",
        "__floordiv__(self, other)定义整数除法的行为：//\n",
        "__mod__(self, other) 定义取模算法的行为：%\n",
        "__divmod__(self, other)定义当被 divmod() 调用时的行为\n",
        "divmod(a, b)把除数和余数运算结果结合起来，返回一个包含商和余数的元组(a // b, a % b)。"
      ],
      "execution_count": null,
      "outputs": []
    },
    {
      "cell_type": "code",
      "metadata": {
        "id": "swbCMX_J7Sie",
        "colab_type": "code",
        "colab": {
          "base_uri": "https://localhost:8080/",
          "height": 50
        },
        "outputId": "0821fa67-afbb-4a87-e416-98c8f2bb6588"
      },
      "source": [
        "print(divmod(7, 2))  # (3, 1)\n",
        "print(divmod(8, 2))  # (4, 0)"
      ],
      "execution_count": 19,
      "outputs": [
        {
          "output_type": "stream",
          "text": [
            "(3, 1)\n",
            "(4, 0)\n"
          ],
          "name": "stdout"
        }
      ]
    },
    {
      "cell_type": "code",
      "metadata": {
        "id": "pV32mcaA7bgM",
        "colab_type": "code",
        "colab": {}
      },
      "source": [
        "__pow__(self, other[, module])定义当被 power() 调用或 ** 运算时的行为\n",
        "__lshift__(self, other)定义按位左移位的行为：<<\n",
        "__rshift__(self, other)定义按位右移位的行为：>>\n",
        "__and__(self, other)定义按位与操作的行为：&\n",
        "__xor__(self, other)定义按位异或操作的行为：^\n",
        "__or__(self, other)定义按位或操作的行为：|"
      ],
      "execution_count": null,
      "outputs": []
    },
    {
      "cell_type": "markdown",
      "metadata": {
        "id": "B-Fa8YQK7mtj",
        "colab_type": "text"
      },
      "source": [
        "## 3. 反算术运算符\n",
        "反运算魔方方法，与算术运算符保持一一对应，不同之处就是反运算的魔法方法多了一个“r”。当文件左操作不支持相应的操作时被调用。"
      ]
    },
    {
      "cell_type": "code",
      "metadata": {
        "id": "V-EsNKK_7ckC",
        "colab_type": "code",
        "colab": {}
      },
      "source": [
        "__radd__(self, other)定义加法的行为：+\n",
        "__rsub__(self, other)定义减法的行为：-\n",
        "__rmul__(self, other)定义乘法的行为：*\n",
        "__rtruediv__(self, other)定义真除法的行为：/\n",
        "__rfloordiv__(self, other)定义整数除法的行为：//\n",
        "__rmod__(self, other) 定义取模算法的行为：%\n",
        "__rdivmod__(self, other)定义当被 divmod() 调用时的行为\n",
        "__rpow__(self, other[, module])定义当被 power() 调用或 ** 运算时的行为\n",
        "__rlshift__(self, other)定义按位左移位的行为：<<\n",
        "__rrshift__(self, other)定义按位右移位的行为：>>\n",
        "__rand__(self, other)定义按位与操作的行为：&\n",
        "__rxor__(self, other)定义按位异或操作的行为：^\n",
        "__ror__(self, other)定义按位或操作的行为：|\n",
        "\n",
        "a + b\n",
        "\n",
        "这里加数是a，被加数是b，因此是a主动，反运算就是如果a对象的__add__()方法没有实现或者不支持相应的操作，那么 Python 就会调用b的__radd__()方法。"
      ],
      "execution_count": null,
      "outputs": []
    },
    {
      "cell_type": "code",
      "metadata": {
        "id": "kh78vGCD7sEB",
        "colab_type": "code",
        "colab": {
          "base_uri": "https://localhost:8080/",
          "height": 50
        },
        "outputId": "d9802bed-a4fb-44f9-9889-48e2ee69a8e0"
      },
      "source": [
        "class Nint(int):\n",
        "    def __radd__(self, other):\n",
        "        return int.__sub__(other, self) # 注意 self 在后面\n",
        "\n",
        "\n",
        "a = Nint(5)\n",
        "b = Nint(3)\n",
        "print(a + b)  # 8\n",
        "print(1 + b)  # -2"
      ],
      "execution_count": 20,
      "outputs": [
        {
          "output_type": "stream",
          "text": [
            "8\n",
            "-2\n"
          ],
          "name": "stdout"
        }
      ]
    },
    {
      "cell_type": "markdown",
      "metadata": {
        "id": "qmpDyEKk8WKA",
        "colab_type": "text"
      },
      "source": [
        "## 4. 增量赋值运算符\n"
      ]
    },
    {
      "cell_type": "code",
      "metadata": {
        "id": "TQMseOXG8bC1",
        "colab_type": "code",
        "colab": {}
      },
      "source": [
        "__iadd__(self, other)定义赋值加法的行为：+=\n",
        "__isub__(self, other)定义赋值减法的行为：-=\n",
        "__imul__(self, other)定义赋值乘法的行为：*=\n",
        "__itruediv__(self, other)定义赋值真除法的行为：/=\n",
        "__ifloordiv__(self, other)定义赋值整数除法的行为：//=\n",
        "__imod__(self, other)定义赋值取模算法的行为：%=\n",
        "__ipow__(self, other[, modulo])定义赋值幂运算的行为：**=\n",
        "__ilshift__(self, other)定义赋值按位左移位的行为：<<=\n",
        "__irshift__(self, other)定义赋值按位右移位的行为：>>=\n",
        "__iand__(self, other)定义赋值按位与操作的行为：&=\n",
        "__ixor__(self, other)定义赋值按位异或操作的行为：^=\n",
        "__ior__(self, other)定义赋值按位或操作的行为：|="
      ],
      "execution_count": null,
      "outputs": []
    },
    {
      "cell_type": "markdown",
      "metadata": {
        "id": "SFl_0Kjj8hEr",
        "colab_type": "text"
      },
      "source": [
        "## 5. 一元运算符"
      ]
    },
    {
      "cell_type": "code",
      "metadata": {
        "id": "DlNGZW5X8b6m",
        "colab_type": "code",
        "colab": {}
      },
      "source": [
        "__neg__(self)定义正号的行为：+x\n",
        "__pos__(self)定义负号的行为：-x\n",
        "__abs__(self)定义当被abs()调用时的行为\n",
        "__invert__(self)定义按位求反的行为：~x"
      ],
      "execution_count": null,
      "outputs": []
    },
    {
      "cell_type": "markdown",
      "metadata": {
        "id": "3s-e5xZl8kKT",
        "colab_type": "text"
      },
      "source": [
        "## 6. 属性访问"
      ]
    },
    {
      "cell_type": "code",
      "metadata": {
        "id": "ZU41noRw8mdb",
        "colab_type": "code",
        "colab": {}
      },
      "source": [
        "__getattr__(self, name): 定义当用户试图获取一个不存在的属性时的行为。\n",
        "__getattribute__(self, name)：定义当该类的属性被访问时的行为（先调用该方法，查看是否存在该属性，若不存在，接着去调用__getattr__）。\n",
        "__setattr__(self, name, value)：定义当一个属性被设置时的行为。\n",
        "__delattr__(self, name)：定义当一个属性被删除时的行为。"
      ],
      "execution_count": null,
      "outputs": []
    },
    {
      "cell_type": "code",
      "metadata": {
        "id": "qLAnqkDO8qrW",
        "colab_type": "code",
        "colab": {
          "base_uri": "https://localhost:8080/",
          "height": 84
        },
        "outputId": "d1065597-0edf-4672-9024-a165974a6626"
      },
      "source": [
        "class C:\n",
        "    def __getattribute__(self, item):\n",
        "        print('__getattribute__')\n",
        "        return super().__getattribute__(item)\n",
        "\n",
        "    def __getattr__(self, item):\n",
        "        print('__getattr__')\n",
        "\n",
        "    def __setattr__(self, key, value):\n",
        "        print('__setattr__')\n",
        "        super().__setattr__(key, value)\n",
        "\n",
        "    def __delattr__(self, item):\n",
        "        print('__delattr__')\n",
        "        super().__delattr__(item)\n",
        "\n",
        "\n",
        "c = C()\n",
        "c.x\n",
        "# __getattribute__\n",
        "# __getattr__\n",
        "\n",
        "c.x = 1\n",
        "# __setattr__\n",
        "\n",
        "del c.x\n",
        "# __delattr__"
      ],
      "execution_count": 21,
      "outputs": [
        {
          "output_type": "stream",
          "text": [
            "__getattribute__\n",
            "__getattr__\n",
            "__setattr__\n",
            "__delattr__\n"
          ],
          "name": "stdout"
        }
      ]
    },
    {
      "cell_type": "markdown",
      "metadata": {
        "id": "uTs7fWRC8s_M",
        "colab_type": "text"
      },
      "source": [
        "## 7. 描述符\n",
        "描述符就是将某种特殊类型的类的实例指派给另一个类的属性。\n",
        "\n",
        "* \\__get\\__(self, instance, owner)用于访问属性，它返回属性的值。\n",
        "* \\__set\\__(self, instance, value)将在属性分配操作中调用，不返回任何内容。\n",
        "* \\__del\\__(self, instance)控制删除操作，不返回任何内容。"
      ]
    },
    {
      "cell_type": "code",
      "metadata": {
        "id": "JG1lMd9p80cZ",
        "colab_type": "code",
        "colab": {}
      },
      "source": [
        "class MyDecriptor:\n",
        "    def __get__(self, instance, owner):\n",
        "        print('__get__', self, instance, owner)\n",
        "\n",
        "    def __set__(self, instance, value):\n",
        "        print('__set__', self, instance, value)\n",
        "\n",
        "    def __delete__(self, instance):\n",
        "        print('__delete__', self, instance)\n",
        "\n",
        "\n",
        "class Test:\n",
        "    x = MyDecriptor()\n",
        "\n",
        "\n",
        "t = Test()\n",
        "t.x\n",
        "# __get__ <__main__.MyDecriptor object at 0x000000CEAAEB6B00> <__main__.Test object at 0x000000CEABDC0898> <class '__main__.Test'>\n",
        "\n",
        "t.x = 'x-man'\n",
        "# __set__ <__main__.MyDecriptor object at 0x00000023687C6B00> <__main__.Test object at 0x00000023696B0940> x-man\n",
        "\n",
        "del t.x\n",
        "# __delete__ <__main__.MyDecriptor object at 0x000000EC9B160A90> <__main__.Test object at 0x000000EC9B160B38>"
      ],
      "execution_count": null,
      "outputs": []
    },
    {
      "cell_type": "markdown",
      "metadata": {
        "id": "5Qn4LI4l9Ib-",
        "colab_type": "text"
      },
      "source": [
        "## `8. 定制序列`\n",
        "协议（Protocols）与其它编程语言中的接口很相似，它规定你哪些方法必须要定义。然而，在 Python 中的协议就显得不那么正式。事实上，在 Python 中，协议更像是一种指南。\n",
        "\n",
        "容器类型的协议\n",
        "\n",
        "* 如果说你希望定制的容器是不可变的话，你只需要定义\\__len\\__()和\\__getitem\\__()方法。\n",
        "* 如果你希望定制的容器是可变的话，除了\\__len\\__()和\\__getitem\\__()方法，你还需要定义\\__setitem\\__()和\\__delitem\\__()两个方法。\n",
        "【例子】编写一个不可改变的自定义列表，要求记录列表中每个元素被访问的次数。"
      ]
    },
    {
      "cell_type": "code",
      "metadata": {
        "id": "xtmRqX6Y9ROB",
        "colab_type": "code",
        "colab": {
          "base_uri": "https://localhost:8080/",
          "height": 134
        },
        "outputId": "023efa37-11ab-4448-fbf4-b96f095e34f7"
      },
      "source": [
        "class CountList:\n",
        "    def __init__(self, *args):\n",
        "        self.values = [x for x in args]\n",
        "        self.count = {}.fromkeys(range(len(self.values)), 0)\n",
        "\n",
        "    def __len__(self):\n",
        "        return len(self.values)\n",
        "\n",
        "    def __getitem__(self, item):\n",
        "        self.count[item] += 1\n",
        "        return self.values[item]\n",
        "    def __setitem__(self, item, value):\n",
        "        self.count[item] = value\n",
        "        # return self.values[item]\n",
        "\n",
        "c1 = CountList(1, 3, 5, 7, 9)\n",
        "c2 = CountList(2, 4, 6, 8, 10)\n",
        "print(\"len\",len(c1))\n",
        "c1[2]=3\n",
        "print(c1[2])\n",
        "print(c1[1])  # 3\n",
        "print(c2[2])  # 6\n",
        "print(c1[1] + c2[1])  # 7\n",
        "\n",
        "print(c1.count)\n",
        "# {0: 0, 1: 2, 2: 0, 3: 0, 4: 0}\n",
        "\n",
        "print(c2.count)\n",
        "# {0: 0, 1: 1, 2: 1, 3: 0, 4: 0}"
      ],
      "execution_count": 31,
      "outputs": [
        {
          "output_type": "stream",
          "text": [
            "len 5\n",
            "5\n",
            "3\n",
            "6\n",
            "7\n",
            "{0: 0, 1: 2, 2: 4, 3: 0, 4: 0}\n",
            "{0: 0, 1: 1, 2: 1, 3: 0, 4: 0}\n"
          ],
          "name": "stdout"
        }
      ]
    },
    {
      "cell_type": "markdown",
      "metadata": {
        "id": "CwvhqXNg-AUY",
        "colab_type": "text"
      },
      "source": [
        "* \\__len\\__(self)定义当被len()调用时的行为（返回容器中元素的个数）。\n",
        "* \\__getitem\\__(self, key)定义获取容器中元素的行为，相当于self[key]。\n",
        "* \\__setitem\\__(self, key, value)定义设置容器中指定元素的行为，相当于self[key] = value。\n",
        "* \\__delitem\\__(self, key)定义删除容器中指定元素的行为，相当于del self[key]。"
      ]
    },
    {
      "cell_type": "code",
      "metadata": {
        "id": "tfTlJc77-HSp",
        "colab_type": "code",
        "colab": {}
      },
      "source": [
        "编写一个可改变的自定义列表，要求记录列表中每个元素被访问的次数。"
      ],
      "execution_count": null,
      "outputs": []
    },
    {
      "cell_type": "code",
      "metadata": {
        "id": "vjJzOhDc-rRr",
        "colab_type": "code",
        "colab": {
          "base_uri": "https://localhost:8080/",
          "height": 117
        },
        "outputId": "7a7bf138-2a91-4bac-9da6-ffbfafc0c2ae"
      },
      "source": [
        "class CountList:\n",
        "    def __init__(self, *args):\n",
        "        self.values = [x for x in args]\n",
        "        self.count = {}.fromkeys(range(len(self.values)), 0)\n",
        "\n",
        "    def __len__(self):\n",
        "        return len(self.values)\n",
        "\n",
        "    def __getitem__(self, item):\n",
        "        self.count[item] += 1\n",
        "        return self.values[item]\n",
        "\n",
        "    def __setitem__(self, key, value):\n",
        "        self.values[key] = value\n",
        "\n",
        "    def __delitem__(self, key):\n",
        "        del self.values[key]\n",
        "        for i in range(0, len(self.values)):\n",
        "            if i >= key:\n",
        "                self.count[i] = self.count[i + 1]\n",
        "        self.count.pop(len(self.values))\n",
        "\n",
        "\n",
        "c1 = CountList(1, 3, 5, 7, 9)\n",
        "c2 = CountList(2, 4, 6, 8, 10)\n",
        "print(c1[1])  # 3\n",
        "print(c2[2])  # 6\n",
        "c2[2] = 12\n",
        "print(c1[1] + c2[2])  # 15\n",
        "print(c1.count)\n",
        "# {0: 0, 1: 2, 2: 0, 3: 0, 4: 0}\n",
        "print(c2.count)\n",
        "# {0: 0, 1: 0, 2: 2, 3: 0, 4: 0}\n",
        "del c1[1]\n",
        "print(c1.count)\n",
        "# {0: 0, 1: 0, 2: 0, 3: 0}"
      ],
      "execution_count": 32,
      "outputs": [
        {
          "output_type": "stream",
          "text": [
            "3\n",
            "6\n",
            "15\n",
            "{0: 0, 1: 2, 2: 0, 3: 0, 4: 0}\n",
            "{0: 0, 1: 0, 2: 2, 3: 0, 4: 0}\n",
            "{0: 0, 1: 0, 2: 0, 3: 0}\n"
          ],
          "name": "stdout"
        }
      ]
    },
    {
      "cell_type": "markdown",
      "metadata": {
        "id": "KuUzf5Vs_VmA",
        "colab_type": "text"
      },
      "source": [
        "## 9. 迭代器\n",
        "* 迭代是 Python 最强大的功能之一，是访问集合元素的一种方式。\n",
        "* 迭代器是一个可以记住遍历的位置的对象。\n",
        "* 迭代器对象从集合的第一个元素开始访问，直到所有的元素被访问完结束。\n",
        "* 迭代器只能往前不会后退。\n",
        "* 字符串，列表或元组对象都可用于创建迭代器："
      ]
    },
    {
      "cell_type": "code",
      "metadata": {
        "id": "ebH6Cx7-_YnF",
        "colab_type": "code",
        "colab": {
          "base_uri": "https://localhost:8080/",
          "height": 318
        },
        "outputId": "bc831cfd-51a0-4ad0-d0e7-ce0c00df94b7"
      },
      "source": [
        "string = 'lsgogroup'\n",
        "for c in string:\n",
        "    print(c)\n",
        "\n",
        "'''\n",
        "l\n",
        "s\n",
        "g\n",
        "o\n",
        "g\n",
        "r\n",
        "o\n",
        "u\n",
        "p\n",
        "'''\n",
        "\n",
        "for c in iter(string):\n",
        "    print(c)"
      ],
      "execution_count": 33,
      "outputs": [
        {
          "output_type": "stream",
          "text": [
            "l\n",
            "s\n",
            "g\n",
            "o\n",
            "g\n",
            "r\n",
            "o\n",
            "u\n",
            "p\n",
            "l\n",
            "s\n",
            "g\n",
            "o\n",
            "g\n",
            "r\n",
            "o\n",
            "u\n",
            "p\n"
          ],
          "name": "stdout"
        }
      ]
    },
    {
      "cell_type": "code",
      "metadata": {
        "id": "w9eWzjGt_lkl",
        "colab_type": "code",
        "colab": {
          "base_uri": "https://localhost:8080/",
          "height": 117
        },
        "outputId": "45083d3a-4bad-4cda-ee5c-d9a357fd04e4"
      },
      "source": [
        "links = {'B': '百度', 'A': '阿里', 'T': '腾讯'}\n",
        "for each in links:\n",
        "    print('%s -> %s' % (each, links[each]))\n",
        "    \n",
        "'''\n",
        "B -> 百度\n",
        "A -> 阿里\n",
        "T -> 腾讯\n",
        "'''\n",
        "\n",
        "for each in iter(links):\n",
        "    print('%s -> %s' % (each, links[each]))"
      ],
      "execution_count": 34,
      "outputs": [
        {
          "output_type": "stream",
          "text": [
            "B -> 百度\n",
            "A -> 阿里\n",
            "T -> 腾讯\n",
            "B -> 百度\n",
            "A -> 阿里\n",
            "T -> 腾讯\n"
          ],
          "name": "stdout"
        }
      ]
    },
    {
      "cell_type": "markdown",
      "metadata": {
        "id": "jQjOWmJn_rFb",
        "colab_type": "text"
      },
      "source": [
        "* 迭代器有两个基本的方法：iter() 和 next()。\n",
        "* iter(object) 函数用来生成迭代器。\n",
        "* next(iterator[, default]) 返回迭代器的下一个项目。\n",
        "* iterator -- 可迭代对象\n",
        "* default -- 可选，用于设置在没有下一个元素时返回该默认值，如果不设置，又没有下一个元素则会触发 StopIteration 异常。"
      ]
    },
    {
      "cell_type": "code",
      "metadata": {
        "id": "8ttHWN_E_vhf",
        "colab_type": "code",
        "colab": {
          "base_uri": "https://localhost:8080/",
          "height": 117
        },
        "outputId": "72679419-31c8-4cc1-aa93-de6a602a8c4f"
      },
      "source": [
        "links = {'B': '百度', 'A': '阿里', 'T': '腾讯'}\n",
        "it = iter(links)\n",
        "print(next(it))  # B\n",
        "print(next(it))  # A\n",
        "print(next(it))  # T\n",
        "# print(next(it))  # StopIteration\n",
        "\n",
        "\n",
        "it = iter(links)\n",
        "while True:\n",
        "    try:\n",
        "        each = next(it)\n",
        "    except StopIteration:\n",
        "        break\n",
        "    print(each)\n",
        "\n",
        "# B\n",
        "# A\n",
        "# T"
      ],
      "execution_count": 36,
      "outputs": [
        {
          "output_type": "stream",
          "text": [
            "B\n",
            "A\n",
            "T\n",
            "B\n",
            "A\n",
            "T\n"
          ],
          "name": "stdout"
        }
      ]
    },
    {
      "cell_type": "code",
      "metadata": {
        "id": "AwQ4MtBKABPE",
        "colab_type": "code",
        "colab": {}
      },
      "source": [
        "把一个类作为一个迭代器使用需要在类中实现两个魔法方法 __iter__() 与 __next__() 。\n",
        "\n",
        "__iter__(self)定义当迭代容器中的元素的行为，返回一个特殊的迭代器对象， 这个迭代器对象实现了 __next__() 方法并通过 StopIteration 异常标识迭代的完成。\n",
        "__next__() 返回下一个迭代器对象。\n",
        "StopIteration 异常用于标识迭代的完成，防止出现无限循环的情况，在 __next__() 方法中我们可以设置在完成指定循环次数后触发 StopIteration 异常来结束迭代。"
      ],
      "execution_count": null,
      "outputs": []
    },
    {
      "cell_type": "code",
      "metadata": {
        "id": "qB-hgqW1ACSf",
        "colab_type": "code",
        "colab": {
          "base_uri": "https://localhost:8080/",
          "height": 33
        },
        "outputId": "3b36e528-7fd3-49a1-d56d-b228d40a09b3"
      },
      "source": [
        "class Fibs:\n",
        "    def __init__(self, n=10):\n",
        "        self.a = 0\n",
        "        self.b = 1\n",
        "        self.n = n\n",
        "\n",
        "    def __iter__(self):\n",
        "        return self\n",
        "\n",
        "    def __next__(self):\n",
        "        self.a, self.b = self.b, self.a + self.b\n",
        "        if self.a > self.n:\n",
        "            raise StopIteration\n",
        "        return self.a\n",
        "\n",
        "\n",
        "fibs = Fibs(100)\n",
        "for each in fibs:\n",
        "    print(each, end=' ')\n",
        "\n",
        "# 1 1 2 3 5 8 13 21 34 55 89"
      ],
      "execution_count": 37,
      "outputs": [
        {
          "output_type": "stream",
          "text": [
            "1 1 2 3 5 8 13 21 34 55 89 "
          ],
          "name": "stdout"
        }
      ]
    },
    {
      "cell_type": "markdown",
      "metadata": {
        "id": "1vLc_k2YAj96",
        "colab_type": "text"
      },
      "source": [
        "## 10. 生成器\n",
        "\n",
        "* 在 Python 中，使用了 yield 的函数被称为生成器（generator）。\n",
        "* 跟普通函数不同的是，生成器是一个返回迭代器的函数，只能用于迭代操作，更简单点理解生成器就是一个迭代器。\n",
        "* 在调用生成器运行的过程中，每次遇到 yield 时函数会暂停并保存当前所有的运行信息，返回 yield 的值, 并在下一次执行 next() 方法时从当前位置继续运行。\n",
        "* 调用一个生成器函数，返回的是一个迭代器对象。\n"
      ]
    },
    {
      "cell_type": "code",
      "metadata": {
        "id": "WNAHDS2TAnna",
        "colab_type": "code",
        "colab": {}
      },
      "source": [
        "def myGen():\n",
        "    print('生成器执行！')\n",
        "    yield 1\n",
        "    yield 2\n",
        "\n",
        "\n",
        "myG = myGen()\n",
        "print(next(myG))  \n",
        "# 生成器执行！\n",
        "# 1\n",
        "\n",
        "print(next(myG))  # 2\n",
        "print(next(myG))  # StopIteration\n",
        "\n",
        "myG = myGen()\n",
        "for each in myG:\n",
        "    print(each)\n",
        "\n",
        "'''\n",
        "生成器执行！\n",
        "1\n",
        "2\n",
        "'''"
      ],
      "execution_count": null,
      "outputs": []
    },
    {
      "cell_type": "markdown",
      "metadata": {
        "id": "3PPwYcDuBAfj",
        "colab_type": "text"
      },
      "source": [
        "用生成器实现斐波那契数列。"
      ]
    },
    {
      "cell_type": "code",
      "metadata": {
        "id": "sWCE20A6BCoa",
        "colab_type": "code",
        "colab": {
          "base_uri": "https://localhost:8080/",
          "height": 33
        },
        "outputId": "79f7388e-2af4-4892-c395-687940a46169"
      },
      "source": [
        "def libs(n):\n",
        "    a = 0\n",
        "    b = 1\n",
        "    while True:\n",
        "        a, b = b, a + b\n",
        "        if a > n:\n",
        "            return\n",
        "        yield a\n",
        "\n",
        "\n",
        "for each in libs(100):\n",
        "    print(each, end=' ')\n",
        "\n",
        "# 1 1 2 3 5 8 13 21 34 55 89"
      ],
      "execution_count": 38,
      "outputs": [
        {
          "output_type": "stream",
          "text": [
            "1 1 2 3 5 8 13 21 34 55 89 "
          ],
          "name": "stdout"
        }
      ]
    },
    {
      "cell_type": "markdown",
      "metadata": {
        "id": "R9H7c3sxBKFV",
        "colab_type": "text"
      },
      "source": [
        "## 参考文献：\n",
        "\n",
        "https://www.runoob.com/python3/python3-tutorial.html\n",
        "https://www.bilibili.com/video/av4050443\n",
        "http://c.biancheng.net/view/2371.html\n",
        "https://www.cnblogs.com/seablog/p/7173107.html\n",
        "https://www.cnblogs.com/Jimmy1988/p/6804095.html\n",
        "https://blog.csdn.net/johnsonguo/article/details/585193"
      ]
    },
    {
      "cell_type": "markdown",
      "metadata": {
        "id": "tPAi7y3RBOzN",
        "colab_type": "text"
      },
      "source": [
        "## 练习题："
      ]
    },
    {
      "cell_type": "code",
      "metadata": {
        "id": "x4J3Hjv3BVdC",
        "colab_type": "code",
        "colab": {}
      },
      "source": [
        "1、上面提到了许多魔法方法，如__new__,__init__, __str__,__rstr__,__getitem__,__setitem__等等，请总结它们各自的使用方法。"
      ],
      "execution_count": null,
      "outputs": []
    },
    {
      "cell_type": "markdown",
      "metadata": {
        "id": "lL-4sI1PBWSm",
        "colab_type": "text"
      },
      "source": [
        "* \\__new\\__ \n",
        "* \\__init\\__ 初始话实例类后自动运行\n",
        "* \\__str\\__ 修改对类str函数\n",
        "* \\__rstr\\__ 调试用\n",
        "* \\__getitem\\__ 定义容器，根据序号排序，然后返回每个变量\n",
        "* \\__setitem\\__ 允许修改容器里的变量"
      ]
    },
    {
      "cell_type": "markdown",
      "metadata": {
        "id": "PhnqYDiWCDlV",
        "colab_type": "text"
      },
      "source": [
        "2、利用python做一个简单的定时器类\n",
        "\n",
        "要求:\n",
        "\n",
        "* 定制一个计时器的类。\n",
        "* start和stop方法代表启动计时和停止计时。\n",
        "* 假设计时器对象t1，print(t1)和直接调用t1均显示结果。\n",
        "* 当计时器未启动或已经停止计时时，调用stop方法会给予温馨的提示。\n",
        "* 两个计时器对象可以进行相加：t1+t2。\n",
        "* 只能使用提供的有限资源完成。"
      ]
    },
    {
      "cell_type": "code",
      "metadata": {
        "id": "Lkqt-7joCIdr",
        "colab_type": "code",
        "colab": {
          "base_uri": "https://localhost:8080/",
          "height": 134
        },
        "outputId": "f369ac72-4066-41cf-fda9-a46150824df7"
      },
      "source": [
        "import time\n",
        "class clock():\n",
        "  def __init__(self):\n",
        "    self.start_time=-1\n",
        "    self.end_time=-1\n",
        "    self.prompt=\"未开始计时\"\n",
        "    self.last_time=-1\n",
        "  def __str__(self):\n",
        "    return self.prompt\n",
        "\n",
        "  def start(self):\n",
        "    self.start_time=time.time()\n",
        "    self.prompt=\"开始计时\"\n",
        "    # print(self.start_time)\n",
        "  def stop(self):\n",
        "    if self.start_time==-1 or self.end_time!=-1:\n",
        "      print(\"stop \",self.prompt)\n",
        "    else:\n",
        "      self.end_time=time.time()\n",
        "      self.last_time=float(\"%.5f\" % (self.end_time-self.start_time))\n",
        "      print(\"cost time: %.5f sec\" % (self.end_time-self.start_time))\n",
        "      self.prompt=\"计时结束\"\n",
        "\n",
        "    # print(self.end_time)\n",
        "\n",
        "  def __add__(self,other):\n",
        "    return self.last_time+other.last_time\n",
        "a=clock()\n",
        "print(a)\n",
        "\n",
        "b=clock()\n",
        "b.start()\n",
        "a.stop()\n",
        "a.start()\n",
        "print(a)\n",
        "\n",
        "a.stop()\n",
        "print(a)\n",
        "time.sleep(2)\n",
        "\n",
        "b.stop()\n",
        "print(a+b)\n",
        "\n",
        "# t=time.localtime()\n",
        "# print(t)\n",
        "# print(t.tm_mon)\n",
        "# for i in t:\n",
        "  # print(t[i])\n"
      ],
      "execution_count": 70,
      "outputs": [
        {
          "output_type": "stream",
          "text": [
            "未开始计时\n",
            "stop  未开始计时\n",
            "开始计时\n",
            "cost time: 0.00006 sec\n",
            "计时结束\n",
            "cost time: 2.00254 sec\n",
            "2.0026\n"
          ],
          "name": "stdout"
        }
      ]
    },
    {
      "cell_type": "code",
      "metadata": {
        "id": "6GC_aekSbpyj",
        "colab_type": "code",
        "colab": {}
      },
      "source": [
        "##https://cloud.tencent.com/developer/article/1577125\n",
        "class clock():\n",
        "    def __init__(self):\n",
        "        self.unit = ['年', '月', '天', '小时', '分钟', '秒']\n",
        "        self.prompt = \"未开始计时！\"\n",
        "        self.lasted = []\n",
        "        self.begin = 0\n",
        "        self.end = 0\n",
        "    \n",
        "    def __str__(self):\n",
        "        return self.prompt\n",
        "\n",
        "    __repr__ = __str__\n",
        "\n",
        "    def __add__(self, other):\n",
        "        prompt = \"总共运行了\"\n",
        "        result = []\n",
        "        for index in range(6):\n",
        "            result.append(self.lasted[index] + other.lasted[index])\n",
        "            if result[index]:\n",
        "                prompt += (str(result[index]) + self.unit[index])\n",
        "        return prompt\n",
        "    \n",
        "    # 开始计时\n",
        "    def start(self):\n",
        "        self.begin = t.localtime()\n",
        "        self.prompt = \"提示：请先调用 stop() 停止计时！\"\n",
        "        print(\"计时开始...\")\n",
        "\n",
        "    # 停止计时\n",
        "    def stop(self):\n",
        "        if not self.begin:\n",
        "            print(\"提示：请先调用 start() 进行计时！\")\n",
        "        else:\n",
        "            self.end = t.localtime()\n",
        "            self._calc()\n",
        "            print(\"计时结束！\")\n",
        "\n",
        "    # 内部方法，计算运行时间\n",
        "    def _calc(self):\n",
        "        self.lasted = []\n",
        "        self.prompt = \"总共运行了\"\n",
        "        for index in range(6):\n",
        "            self.lasted.append(self.end[index] - self.begin[index])\n",
        "            if self.lasted[index]:\n",
        "                self.prompt += (str(self.lasted[index]) + self.unit[index])\n",
        "        # 为下一轮计时初始化变量\n",
        "        self.begin = 0\n",
        "        self.end = 0"
      ],
      "execution_count": 71,
      "outputs": []
    }
  ]
}