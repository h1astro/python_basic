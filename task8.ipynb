{
 "nbformat": 4,
 "nbformat_minor": 2,
 "metadata": {
  "language_info": {
   "name": "python",
   "codemirror_mode": {
    "name": "ipython",
    "version": 3
   },
   "version": "3.7.3-final"
  },
  "orig_nbformat": 2,
  "file_extension": ".py",
  "mimetype": "text/x-python",
  "name": "python",
  "npconvert_exporter": "python",
  "pygments_lexer": "ipython3",
  "version": 3,
  "kernelspec": {
   "name": "python37364bitanaconda3virtualenvac0e6e3c7f95495d9400d7ce75498235",
   "display_name": "Python 3.7.3 64-bit ('anaconda3': virtualenv)"
  }
 },
 "cells": [
  {
   "cell_type": "markdown",
   "metadata": {},
   "source": [
    "# 模块\n",
    "\n",
    "在前面我们脚本是用 Python 解释器来编程，如果你从 Python 解释器退出再进入，那么你定义的所有的方法和变量就都消失了。\n",
    "\n",
    "为此 Python 提供了一个办法，把这些定义存放在文件中，为一些脚本或者交互式的解释器实例使用，这个文件被称为模块（Module）。\n",
    "\n",
    "模块是一个包含所有你定义的函数和变量的文件，其后缀名是.py。模块可以被别的程序引入，以使用该模块中的函数等功能。这也是使用 Python 标准库的方法。"
   ]
  },
  {
   "cell_type": "markdown",
   "metadata": {},
   "source": [
    "## 1. 什么是模块\n",
    "* 容器 -> 数据的封装\n",
    "* 函数 -> 语句的封装\n",
    "* 类 -> 方法和属性的封装\n",
    "* 模块 -> 程序文件"
   ]
  },
  {
   "cell_type": "code",
   "execution_count": 1,
   "metadata": {},
   "outputs": [],
   "source": [
    "# hello.py\n",
    "def hi():\n",
    "    print('Hi everyone, I love lsgogroup!')"
   ]
  },
  {
   "cell_type": "markdown",
   "metadata": {},
   "source": [
    "## 2. 命名空间\n",
    "命名空间因为对象的不同，也有所区别，可以分为如下几种：\n",
    "\n",
    "* 内置命名空间（Built-in Namespaces）：Python 运行起来，它们就存在了。内置函数的命名空间都属于内置命名空间，所以，我们可以在任何程序中直接运行它们，比如id(),不需要做什么操作，拿过来就直接使用了。\n",
    "* 全局命名空间（Module：Global Namespaces）：每个模块创建它自己所拥有的全局命名空间，不同模块的全局命名空间彼此独立，不同模块中相同名称的命名空间，也会因为模块的不同而不相互干扰。\n",
    "* 本地命名空间（Function & Class：Local Namespaces）：模块中有函数或者类，每个函数或者类所定义的命名空间就是本地命名空间。如果函数返回了结果或者抛出异常，则本地命名空间也结束了。\n",
    "\n",
    "上述三种命名空间的关系\n",
    "\n",
    "\n",
    "\n",
    "程序在查询上述三种命名空间的时候，就按照从里到外的顺序，即：Local Namespaces --> Global Namesspaces --> Built-in Namesspaces。"
   ]
  },
  {
   "cell_type": "code",
   "execution_count": null,
   "metadata": {},
   "outputs": [],
   "source": [
    "import hello\n",
    "\n",
    "hello.hi()  # Hi everyone, I love lsgogroup!\n",
    "hi()  # NameError: name 'hi' is not defined"
   ]
  },
  {
   "cell_type": "markdown",
   "metadata": {},
   "source": [
    "## 3. 导入模块\n",
    "【例子】创建一个模块 TemperatureConversion.py"
   ]
  },
  {
   "cell_type": "code",
   "execution_count": 2,
   "metadata": {},
   "outputs": [],
   "source": [
    "# TemperatureConversion.py\n",
    "def c2f(cel):\n",
    "    fah = cel * 1.8 + 32\n",
    "    return fah\n",
    "\n",
    "\n",
    "def f2c(fah):\n",
    "    cel = (fah - 32) / 1.8\n",
    "    return cel"
   ]
  },
  {
   "cell_type": "markdown",
   "metadata": {},
   "source": [
    "* 第一种：import 模块名`"
   ]
  },
  {
   "cell_type": "code",
   "execution_count": null,
   "metadata": {},
   "outputs": [],
   "source": [
    "import TemperatureConversion\n",
    "\n",
    "print('32摄氏度 = %.2f华氏度' % TemperatureConversion.c2f(32))\n",
    "print('99华氏度 = %.2f摄氏度' % TemperatureConversion.f2c(99))\n",
    "\n",
    "# 32摄氏度 = 89.60华氏度\n",
    "# 99华氏度 = 37.22摄氏度"
   ]
  },
  {
   "cell_type": "markdown",
   "metadata": {},
   "source": [
    "* 第二种：from 模块名 import 函数名"
   ]
  },
  {
   "cell_type": "code",
   "execution_count": null,
   "metadata": {},
   "outputs": [],
   "source": [
    "from TemperatureConversion import c2f, f2c\n",
    "\n",
    "print('32摄氏度 = %.2f华氏度' % c2f(32))\n",
    "print('99华氏度 = %.2f摄氏度' % f2c(99))\n",
    "\n",
    "# 32摄氏度 = 89.60华氏度\n",
    "# 99华氏度 = 37.22摄氏度"
   ]
  },
  {
   "cell_type": "code",
   "execution_count": null,
   "metadata": {},
   "outputs": [],
   "source": [
    "下面的方式不推荐"
   ]
  },
  {
   "cell_type": "code",
   "execution_count": null,
   "metadata": {},
   "outputs": [],
   "source": [
    "from TemperatureConversion import *\n",
    "\n",
    "print('32摄氏度 = %.2f华氏度' % c2f(32))\n",
    "print('99华氏度 = %.2f摄氏度' % f2c(99))\n",
    "\n",
    "# 32摄氏度 = 89.60华氏度\n",
    "# 99华氏度 = 37.22摄氏度"
   ]
  },
  {
   "cell_type": "markdown",
   "metadata": {},
   "source": [
    "* 第三种：import 模块名 as 新名字"
   ]
  },
  {
   "cell_type": "code",
   "execution_count": null,
   "metadata": {},
   "outputs": [],
   "source": [
    "import TemperatureConversion as tc\n",
    "\n",
    "print('32摄氏度 = %.2f华氏度' % tc.c2f(32))\n",
    "print('99华氏度 = %.2f摄氏度' % tc.f2c(99))\n",
    "\n",
    "# 32摄氏度 = 89.60华氏度\n",
    "# 99华氏度 = 37.22摄氏度"
   ]
  },
  {
   "cell_type": "markdown",
   "metadata": {},
   "source": [
    "## 4. if \\__name\\__ == '\\__main\\__'\n",
    "对于很多编程语言来说，程序都必须要有一个入口，而 Python 则不同，它属于脚本语言，不像编译型语言那样先将程序编译成二进制再运行，而是动态的逐行解释运行。也就是从脚本第一行开始运行，没有统一的入口。\n",
    "\n",
    "假设我们有一个 const.py 文件，内容如下："
   ]
  },
  {
   "cell_type": "code",
   "execution_count": 4,
   "metadata": {},
   "outputs": [
    {
     "output_type": "stream",
     "name": "stdout",
     "text": "PI: 3.14\n"
    }
   ],
   "source": [
    "PI = 3.14\n",
    "\n",
    "\n",
    "def main():\n",
    "    print(\"PI:\", PI)\n",
    "\n",
    "\n",
    "main()\n",
    "\n",
    "# PI: 3.14"
   ]
  },
  {
   "cell_type": "code",
   "execution_count": null,
   "metadata": {},
   "outputs": [],
   "source": [
    "现在，我们写一个用于计算圆面积的 area.py 文件，area.py 文件需要用到 const.py 文件中的 PI 变量。从 const.py 中，我们把 PI 变量导入 area.py："
   ]
  },
  {
   "cell_type": "code",
   "execution_count": 8,
   "metadata": {},
   "outputs": [
    {
     "output_type": "stream",
     "name": "stdout",
     "text": "PI: 3.14\nround area:  12.56\n"
    },
    {
     "output_type": "execute_result",
     "data": {
      "text/plain": "'\\nPI: 3.14\\nround area:  12.56\\n'"
     },
     "metadata": {},
     "execution_count": 8
    }
   ],
   "source": [
    "from const import PI\n",
    "\n",
    "\n",
    "def calc_round_area(radius):\n",
    "    return PI * (radius ** 2)\n",
    "\n",
    "\n",
    "def main():\n",
    "    print(\"round area: \", calc_round_area(2))\n",
    "\n",
    "\n",
    "main()\n",
    "\n",
    "'''\n",
    "PI: 3.14\n",
    "round area:  12.56\n",
    "'''"
   ]
  },
  {
   "cell_type": "code",
   "execution_count": null,
   "metadata": {},
   "outputs": [],
   "source": [
    "我们看到 const.py 中的 main 函数也被运行了，实际上我们不希望它被运行，因为 const.py 提供的 main 函数只是为了测试常量定义。这时if __name__ == '__main__'派上了用场，我们把 const.py 改一下，添加if __name__ == \"__main__\"："
   ]
  },
  {
   "cell_type": "code",
   "execution_count": 9,
   "metadata": {},
   "outputs": [
    {
     "output_type": "stream",
     "name": "stdout",
     "text": "PI: 3.14\n"
    }
   ],
   "source": [
    "PI = 3.14\n",
    "\n",
    "def main():\n",
    "    print(\"PI:\", PI)\n",
    "\n",
    "if __name__ == \"__main__\":\n",
    "    main()"
   ]
  },
  {
   "cell_type": "code",
   "execution_count": null,
   "metadata": {},
   "outputs": [],
   "source": [
    "运行 const.py，输出如下："
   ]
  },
  {
   "cell_type": "code",
   "execution_count": null,
   "metadata": {},
   "outputs": [],
   "source": [
    "PI: 3.14"
   ]
  },
  {
   "cell_type": "code",
   "execution_count": null,
   "metadata": {},
   "outputs": [],
   "source": [
    "运行 area.py，输出如下：\n",
    "\n",
    "round area:  12.56"
   ]
  },
  {
   "cell_type": "code",
   "execution_count": null,
   "metadata": {},
   "outputs": [],
   "source": [
    "__name__：是内置变量，可用于表示当前模块的名字。"
   ]
  },
  {
   "cell_type": "code",
   "execution_count": 10,
   "metadata": {},
   "outputs": [
    {
     "output_type": "stream",
     "name": "stdout",
     "text": "__main__\nconst\n"
    }
   ],
   "source": [
    "import const\n",
    "\n",
    "print(__name__)\n",
    "# __main__\n",
    "\n",
    "print(const.__name__)\n",
    "# const"
   ]
  },
  {
   "cell_type": "code",
   "execution_count": null,
   "metadata": {},
   "outputs": [],
   "source": [
    "由此我们可知：如果一个 .py 文件（模块）被直接运行时，其__name__值为__main__，即模块名为__main__。\n",
    "\n",
    "所以，if __name__ == '__main__'的意思是：当 .py 文件被直接运行时，if __name__ == '__main__'之下的代码块将被运行；当 .py 文件以模块形式被导入时，if __name__ == '__main__'之下的代码块不被运行。"
   ]
  },
  {
   "cell_type": "markdown",
   "metadata": {},
   "source": [
    "## 5. 搜索路径\n",
    "当解释器遇到 import 语句，如果模块在当前的搜索路径就会被导入。\n",
    "\n"
   ]
  },
  {
   "cell_type": "code",
   "execution_count": 12,
   "metadata": {},
   "outputs": [],
   "source": [
    "import sys\n",
    "\n",
    "print(sys.path)\n",
    "\n",
    "# ['C:\\\\ProgramData\\\\Anaconda3\\\\DLLs', 'C:\\\\ProgramData\\\\Anaconda3\\\\lib', 'C:\\\\ProgramData\\\\Anaconda3', 'C:\\\\ProgramData\\\\Anaconda3\\\\lib\\\\site-packages',...]"
   ]
  },
  {
   "cell_type": "code",
   "execution_count": null,
   "metadata": {},
   "outputs": [],
   "source": [
    "我们使用 import 语句的时候，Python 解释器是怎样找到对应的文件的呢？\n",
    "\n",
    "这就涉及到 Python 的搜索路径，搜索路径是由一系列目录名组成的，Python 解释器就依次从这些目录中去寻找所引入的模块。\n",
    "\n",
    "这看起来很像环境变量，事实上，也可以通过定义环境变量的方式来确定搜索路径。\n",
    "\n",
    "搜索路径是在 Python 编译或安装的时候确定的，安装新的库应该也会修改。搜索路径被存储在 sys 模块中的 path 变量中。\n",
    "\n"
   ]
  },
  {
   "cell_type": "markdown",
   "metadata": {},
   "source": [
    "## 6. 包（package）\n",
    "包是一种管理 Python 模块命名空间的形式，采用\"点模块名称\"。\n",
    "\n",
    "创建包分为三个步骤：\n",
    "\n",
    "* 创建一个文件夹，用于存放相关的模块，文件夹的名字即包的名字。\n",
    "* 在文件夹中创建一个 \\__init\\__.py 的模块文件，内容可以为空。\n",
    "* 将相关的模块放入文件夹中。\n",
    "不妨假设你想设计一套统一处理声音文件和数据的模块（或者称之为一个\"包\"）。\n",
    "\n",
    "现存很多种不同的音频文件格式（基本上都是通过后缀名区分的，例如： .wav，.aiff，.au），所以你需要有一组不断增加的模块，用来在不同的格式之间转换。\n",
    "\n",
    "并且针对这些音频数据，还有很多不同的操作（比如混音，添加回声，增加均衡器功能，创建人造立体声效果），所以你还需要一组怎么也写不完的模块来处理这些操作。\n",
    "\n",
    "这里给出了一种可能的包结构（在分层的文件系统中）:"
   ]
  },
  {
   "cell_type": "code",
   "execution_count": null,
   "metadata": {},
   "outputs": [],
   "source": [
    "sound/                          顶层包\n",
    "      __init__.py               初始化 sound 包\n",
    "      formats/                  文件格式转换子包\n",
    "              __init__.py\n",
    "              wavread.py\n",
    "              wavwrite.py\n",
    "              aiffread.py\n",
    "              aiffwrite.py\n",
    "              auread.py\n",
    "              auwrite.py\n",
    "              ...\n",
    "      effects/                  声音效果子包\n",
    "              __init__.py\n",
    "              echo.py\n",
    "              surround.py\n",
    "              reverse.py\n",
    "              ...\n",
    "      filters/                  filters 子包\n",
    "              __init__.py\n",
    "              equalizer.py\n",
    "              vocoder.py\n",
    "              karaoke.py\n",
    "              ..."
   ]
  },
  {
   "cell_type": "code",
   "execution_count": null,
   "metadata": {},
   "outputs": [],
   "source": [
    "在导入一个包的时候，Python 会根据 sys.path 中的目录来寻找这个包中包含的子目录。\n",
    "\n",
    "目录只有包含一个叫做 __init__.py 的文件才会被认作是一个包，最简单的情况，放一个空的 __init__.py 就可以了。"
   ]
  },
  {
   "cell_type": "code",
   "execution_count": null,
   "metadata": {},
   "outputs": [],
   "source": [
    "import sound.effects.echo"
   ]
  },
  {
   "cell_type": "code",
   "execution_count": null,
   "metadata": {},
   "outputs": [],
   "source": [
    "这将会导入子模块 sound.effects.echo。 他必须使用全名去访问:"
   ]
  },
  {
   "cell_type": "code",
   "execution_count": null,
   "metadata": {},
   "outputs": [],
   "source": [
    "sound.effects.echo.echofilter(input, output, delay=0.7, atten=4)"
   ]
  },
  {
   "cell_type": "code",
   "execution_count": null,
   "metadata": {},
   "outputs": [],
   "source": [
    "还有一种导入子模块的方法是："
   ]
  },
  {
   "cell_type": "code",
   "execution_count": null,
   "metadata": {},
   "outputs": [],
   "source": [
    "from sound.effects import echo"
   ]
  },
  {
   "cell_type": "code",
   "execution_count": null,
   "metadata": {},
   "outputs": [],
   "source": [
    "这同样会导入子模块: echo，并且他不需要那些冗长的前缀，所以他可以这样使用："
   ]
  },
  {
   "cell_type": "code",
   "execution_count": null,
   "metadata": {},
   "outputs": [],
   "source": [
    "echo.echofilter(input, output, delay=0.7, atten=4)"
   ]
  },
  {
   "cell_type": "code",
   "execution_count": null,
   "metadata": {},
   "outputs": [],
   "source": [
    "还有一种变化就是直接导入一个函数或者变量：\n",
    "\n",
    "from sound.effects.echo import echofilter"
   ]
  },
  {
   "cell_type": "code",
   "execution_count": null,
   "metadata": {},
   "outputs": [],
   "source": [
    "同样的，这种方法会导入子模块: echo，并且可以直接使用他的 echofilter() 函数：\n",
    "\n",
    "echofilter(input, output, delay=0.7, atten=4)"
   ]
  },
  {
   "cell_type": "code",
   "execution_count": null,
   "metadata": {},
   "outputs": [],
   "source": [
    "注意当使用 from package import item 这种形式的时候，对应的 item 既可以是包里面的子模块（子包），或者包里面定义的其他名称，比如函数，类或者变量。\n",
    "\n",
    "设想一下，如果我们使用 from sound.effects import * 会发生什么？\n",
    "\n",
    "Python 会进入文件系统，找到这个包里面所有的子模块，一个一个的把它们都导入进来。\n",
    "\n",
    "导入语句遵循如下规则：如果包定义文件 __init__.py 存在一个叫做 __all__ 的列表变量，那么在使用 from package import * 的时候就把这个列表中的所有名字作为包内容导入。\n",
    "\n",
    "这里有一个例子，在 sounds/effects/__init__.py中包含如下代码："
   ]
  },
  {
   "cell_type": "code",
   "execution_count": null,
   "metadata": {},
   "outputs": [],
   "source": [
    "__all__ = [\"echo\", \"surround\", \"reverse\"]"
   ]
  },
  {
   "cell_type": "code",
   "execution_count": null,
   "metadata": {},
   "outputs": [],
   "source": [
    "这表示当你使用 from sound.effects import *这种用法时，你只会导入包里面这三个子模块。\n",
    "\n",
    "如果 __all__ 真的没有定义，那么使用from sound.effects import *这种语法的时候，就不会导入包 sound.effects 里的任何子模块。他只是把包 sound.effects 和它里面定义的所有内容导入进来（可能运行__init__.py里定义的初始化代码）。\n",
    "\n",
    "这会把 __init__.py 里面定义的所有名字导入进来。并且他不会破坏掉我们在这句话之前导入的所有明确指定的模块。"
   ]
  },
  {
   "cell_type": "code",
   "execution_count": null,
   "metadata": {},
   "outputs": [],
   "source": [
    "import sound.effects.echo\n",
    "import sound.effects.surround\n",
    "from sound.effects import *"
   ]
  },
  {
   "cell_type": "code",
   "execution_count": null,
   "metadata": {},
   "outputs": [],
   "source": [
    "这个例子中，在执行 from...import 前，包 sound.effects 中的 echo 和 surround 模块都被导入到当前的命名空间中了。\n",
    "\n",
    "通常我们并不主张使用 * 这种方法来导入模块，因为这种方法经常会导致代码的可读性降低。"
   ]
  },
  {
   "cell_type": "code",
   "execution_count": null,
   "metadata": {},
   "outputs": [],
   "source": [
    "参考文献：\n",
    "\n",
    "https://www.runoob.com/python3/python3-tutorial.html\n",
    "https://www.bilibili.com/video/av4050443\n",
    "https://blog.csdn.net/u010820857/article/details/85330778"
   ]
  },
  {
   "cell_type": "markdown",
   "metadata": {},
   "source": [
    "## 练习题："
   ]
  },
  {
   "cell_type": "markdown",
   "metadata": {},
   "source": [
    "### 1、怎么查出通过 from xx import xx导⼊的可以直接调⽤的⽅法？"
   ]
  },
  {
   "cell_type": "code",
   "execution_count": null,
   "metadata": {},
   "outputs": [],
   "source": [
    "\n",
    "当包内的__init__.py模块下有__all__列表时，则为__all__列表内定义的所有子模块。没有__all__列表时，需要看__init__.py内的代码做具体判断。"
   ]
  },
  {
   "cell_type": "markdown",
   "metadata": {},
   "source": [
    "### 2、了解Collection模块，编写程序以查询给定列表中最常见的元素。\n",
    "\n",
    "题目说明：\n",
    "\n",
    "输入：language = \\['PHP', 'PHP', 'Python', 'PHP', 'Python', 'JS', 'Python', 'Python','PHP', 'Python'\\]\n",
    "\n",
    "输出：Python"
   ]
  },
  {
   "cell_type": "code",
   "execution_count": 46,
   "metadata": {},
   "outputs": [
    {
     "output_type": "execute_result",
     "data": {
      "text/plain": "'Python'"
     },
     "metadata": {},
     "execution_count": 46
    }
   ],
   "source": [
    "\"\"\"\n",
    "Input file\n",
    "language = ['PHP', 'PHP', 'Python', 'PHP', 'Python', 'JS', 'Python', 'Python','PHP', 'Python']\n",
    "   \n",
    "Output file\n",
    "Python\n",
    "\"\"\"\n",
    "def most_element(language):\n",
    "    \"\"\" Return a list of lines after inserting a word in a specific line. \"\"\"\n",
    "   \n",
    "    # your code here\n",
    "    set_lang=set(language)\n",
    "    dict_lang={}\n",
    "    for i in set_lang:\n",
    "        dict_lang[i]=0\n",
    "        # print(language.count(i))\n",
    "    for i in language:\n",
    "        dict_lang[i]+=1\n",
    "    \n",
    "    sort_lang=sorted(dict_lang,key=lambda x:dict_lang[x], reverse=True)\n",
    "    \n",
    "    return sort_lang[0]\n",
    "\n",
    "language = ['PHP', 'PHP', 'Python', 'PHP', 'Python', 'JS', 'Python', 'Python','PHP', 'Python']\n",
    "most_element(language)"
   ]
  },
  {
   "cell_type": "markdown",
   "metadata": {},
   "source": [
    "# datetime模块\n",
    "datetime 是 Python 中处理日期的标准模块，它提供了 4 种对日期和时间进行处理的类：datetime、date、time 和 timedelta。\n",
    "\n",
    "## 1. datetime类"
   ]
  },
  {
   "cell_type": "code",
   "execution_count": 49,
   "metadata": {},
   "outputs": [],
   "source": [
    "class datetime(date):\n",
    "    def __init__(self, year, month, day, hour, minute, second, microsecond, tzinfo):\n",
    "        pass\n",
    "    def now(cls, tz=None):\n",
    "        pass\n",
    "    def timestamp(self):\n",
    "        pass\n",
    "    def fromtimestamp(cls, t, tz=None):\n",
    "        pass\n",
    "    def date(self):\n",
    "        pass\n",
    "    def time(self):\n",
    "        pass\n",
    "    def year(self):\n",
    "        pass\n",
    "    def month(self):\n",
    "        pass\n",
    "    def day(self):\n",
    "        pass\n",
    "    def hour(self):\n",
    "        pass\n",
    "    def minute(self):\n",
    "        pass\n",
    "    def second(self):\n",
    "        pass\n",
    "    def isoweekday(self):\n",
    "        pass\n",
    "    def strftime(self, fmt):\n",
    "        pass\n",
    "    def combine(cls, date, time, tzinfo=True):\n",
    "        pass"
   ]
  },
  {
   "cell_type": "markdown",
   "metadata": {},
   "source": [
    "* datetime.now(tz=None) 获取当前的日期时间，输出顺序为：年、月、日、时、分、秒、微秒。\n",
    "* datetime.timestamp() 获取以 1970年1月1日为起点记录的秒数。\n",
    "* datetime.fromtimestamp(tz=None) 使用 unixtimestamp 创建一个 datetime。"
   ]
  },
  {
   "cell_type": "code",
   "execution_count": null,
   "metadata": {},
   "outputs": [],
   "source": [
    "如何创建一个 datetime 对象？"
   ]
  },
  {
   "cell_type": "code",
   "execution_count": 65,
   "metadata": {},
   "outputs": [
    {
     "output_type": "stream",
     "name": "stdout",
     "text": "2020-06-25 11:23:59\n1593102239.0\n2020-06-24 22:23:59\n<class 'datetime.datetime'>\n2020-08-07 16:37:46.870855\n<class 'datetime.datetime'>\n"
    },
    {
     "output_type": "execute_result",
     "data": {
      "text/plain": "1596836266.871146"
     },
     "metadata": {},
     "execution_count": 65
    }
   ],
   "source": [
    "import datetime\n",
    "\n",
    "dt = datetime.datetime(year=2020, month=6, day=25, hour=11, minute=23, second=59)\n",
    "print(dt)  # 2020-06-25 11:23:59\n",
    "print(dt.timestamp())  # 1593055439.0\n",
    "\n",
    "dt = datetime.datetime.fromtimestamp(1593055439.0)\n",
    "# dt = datetime.datetime.fromtimestamp(120.0)\n",
    "print(dt)  # 2020-06-25 11:23:59\n",
    "print(type(dt)) # <class 'datetime.datetime'>\n",
    "\n",
    "dt = datetime.datetime.now()\n",
    "print(dt)  # 2020-06-25 11:11:03.877853\n",
    "print(type(dt))  # <class 'datetime.datetime'>\n",
    "\n",
    "\n",
    "a=datetime.datetime.now()\n",
    "a.timestamp()\n",
    ""
   ]
  },
  {
   "cell_type": "markdown",
   "metadata": {},
   "source": [
    "* datetime.strftime(fmt) 格式化 datetime 对象。"
   ]
  },
  {
   "cell_type": "code",
   "execution_count": null,
   "metadata": {},
   "outputs": [],
   "source": [
    "符号\t说明\n",
    "%a\t本地简化星期名称（如星期一，返回 Mon）\n",
    "%A\t本地完整星期名称（如星期一，返回 Monday）\n",
    "%b\t本地简化的月份名称（如一月，返回 Jan）\n",
    "%B\t本地完整的月份名称（如一月，返回 January）\n",
    "%c\t本地相应的日期表示和时间表示\n",
    "%d\t月内中的一天（0-31）\n",
    "%H\t24小时制小时数（0-23）\n",
    "%I\t12小时制小时数（01-12）\n",
    "%j\t年内的一天（001-366）\n",
    "%m\t月份（01-12）\n",
    "%M\t分钟数（00-59）\n",
    "%p\t本地A.M.或P.M.的等价符\n",
    "%S\t秒（00-59）\n",
    "%U\t一年中的星期数（00-53）星期天为星期的开始\n",
    "%w\t星期（0-6），星期天为星期的开始\n",
    "%W\t一年中的星期数（00-53）星期一为星期的开始\n",
    "%x\t本地相应的日期表示\n",
    "%X\t本地相应的时间表示\n",
    "%y\t两位数的年份表示（00-99）\n",
    "%Y\t四位数的年份表示（0000-9999）\n",
    "%Z\t当前时区的名称（如果是本地时间，返回空字符串）\n",
    "%%\t%号本身"
   ]
  },
  {
   "cell_type": "code",
   "execution_count": null,
   "metadata": {},
   "outputs": [],
   "source": [
    "如何将 datetime 对象转换为任何格式的日期？"
   ]
  },
  {
   "cell_type": "code",
   "execution_count": 74,
   "metadata": {},
   "outputs": [
    {
     "output_type": "stream",
     "name": "stdout",
     "text": "2020/06/25 11:51:49\n25 June, 2020, Thursday\n"
    }
   ],
   "source": [
    "import datetime\n",
    "\n",
    "dt = datetime.datetime(year=2020, month=6, day=25, hour=11, minute=51, second=49)\n",
    "s = dt.strftime(\"%Y/%m/%d %H:%M:%S\")\n",
    "print(s)  # '2020/06/25 11:51:49\n",
    "\n",
    "s = dt.strftime('%d %B, %Y, %A')\n",
    "print(s)  # 25 June, 2020, Thursday"
   ]
  },
  {
   "cell_type": "code",
   "execution_count": null,
   "metadata": {},
   "outputs": [],
   "source": [
    "如何将给定日期转换为 \"mmm-dd, YYYY\" 的格式？\n",
    "\n",
    "# 输入\n",
    "dt = datetime.date('2010-09-28')\n",
    "\n",
    "# 输出\n",
    "'Sep-28,2010'\n"
   ]
  },
  {
   "cell_type": "code",
   "execution_count": 82,
   "metadata": {},
   "outputs": [
    {
     "output_type": "stream",
     "name": "stdout",
     "text": "Sep-28,2010\n"
    }
   ],
   "source": [
    "import datetime\n",
    "dt = datetime.date(2010,9,28)#   ('2010-09-28')\n",
    "# dt=datetime.datetime(year=2020,month=8,day=7,hour=15,minute=43,second=10)\n",
    "s=dt.strftime(\"%b-%d,%Y\")\n",
    "print(s)"
   ]
  },
  {
   "cell_type": "code",
   "execution_count": null,
   "metadata": {},
   "outputs": [],
   "source": [
    "datetime.date() Return the date part.\n",
    "datetime.time() Return the time part, with tzinfo None.\n",
    "datetime.year 年\n",
    "datetime.month 月\n",
    "datetime.day 日\n",
    "datetime.hour 小时\n",
    "datetime.minute 分钟\n",
    "datetime.second 秒\n",
    "datetime.isoweekday 星期几\n",
    "【例子】datetime 对象包含很多与日期时间相关的实用功能。"
   ]
  },
  {
   "cell_type": "code",
   "execution_count": 83,
   "metadata": {},
   "outputs": [
    {
     "output_type": "stream",
     "name": "stdout",
     "text": "2020-06-25\n<class 'datetime.date'>\n11:51:49\n<class 'datetime.time'>\n2020\n6\n25\n11\n51\n49\n4\n"
    }
   ],
   "source": [
    "import datetime\n",
    "\n",
    "dt = datetime.datetime(year=2020, month=6, day=25, hour=11, minute=51, second=49)\n",
    "print(dt.date())  # 2020-06-25\n",
    "print(type(dt.date()))  # <class 'datetime.date'>\n",
    "print(dt.time())  # 11:51:49\n",
    "print(type(dt.time()))  # <class 'datetime.time'>\n",
    "print(dt.year)  # 2020\n",
    "print(dt.month)  # 6\n",
    "print(dt.day)  # 25\n",
    "print(dt.hour)  # 11\n",
    "print(dt.minute)  # 51\n",
    "print(dt.second)  # 49\n",
    "print(dt.isoweekday())  # 4"
   ]
  },
  {
   "cell_type": "code",
   "execution_count": null,
   "metadata": {},
   "outputs": [],
   "source": [
    "在处理含有字符串日期的数据集或表格时，我们需要一种自动解析字符串的方法，无论它是什么格式的，都可以将其转化为 datetime 对象。这时，就要使用到 dateutil 中的 parser 模块。\n",
    "\n",
    "parser.parse(timestr, parserinfo=None, **kwargs)\n",
    "【例子】如何在 python 中将字符串解析为 datetime对象？"
   ]
  },
  {
   "cell_type": "code",
   "execution_count": 84,
   "metadata": {},
   "outputs": [
    {
     "output_type": "stream",
     "name": "stdout",
     "text": "2020-06-25 00:00:00\n<class 'datetime.datetime'>\n2010-03-31 22:51:00\n<class 'datetime.datetime'>\n"
    }
   ],
   "source": [
    "from dateutil import parser\n",
    "\n",
    "s = '2020-06-25'\n",
    "dt = parser.parse(s)\n",
    "print(dt)  # 2020-06-25 00:00:00\n",
    "print(type(dt))  # <class 'datetime.datetime'>\n",
    "\n",
    "s = 'March 31, 2010, 10:51pm'\n",
    "dt = parser.parse(s)\n",
    "print(dt)  # 2010-03-31 22:51:00\n",
    "print(type(dt))  # <class 'datetime.datetime'>"
   ]
  },
  {
   "cell_type": "code",
   "execution_count": null,
   "metadata": {},
   "outputs": [],
   "source": [
    "如何将字符串日期解析为 datetime 对象？"
   ]
  },
  {
   "cell_type": "code",
   "execution_count": null,
   "metadata": {},
   "outputs": [],
   "source": [
    "# 输入\n",
    "s1 = \"2010 Jan 1\"\n",
    "s2 = '31-1-2000'\n",
    "s3 = 'October10, 1996, 10:40pm'\n",
    "\n",
    "# 输出\n",
    "2010-01-01 00:00:00\n",
    "2000-01-31 00:00:00\n",
    "2019-10-10 22:40:00"
   ]
  },
  {
   "cell_type": "code",
   "execution_count": 86,
   "metadata": {},
   "outputs": [
    {
     "output_type": "stream",
     "name": "stdout",
     "text": "2010-01-01 00:00:00\n2000-01-31 00:00:00\n1996-10-10 22:40:00\n"
    }
   ],
   "source": [
    "import dateutil.parser\n",
    "s1 = \"2010 Jan 1\"\n",
    "s2 = '31-1-2000'\n",
    "s3 = 'October10, 1996, 10:40pm'\n",
    "\n",
    "s11=parser.parse(s1)\n",
    "print(s11)\n",
    "\n",
    "s22=parser.parse(s2)\n",
    "print(s22)\n",
    "\n",
    "\n",
    "s33=parser.parse(s3)\n",
    "print(s33)\n",
    "\n",
    ""
   ]
  },
  {
   "cell_type": "code",
   "execution_count": null,
   "metadata": {},
   "outputs": [],
   "source": [
    "计算以下列表中连续的天数。\n",
    "# 输入\n",
    "['Oct, 2, 1869', 'Oct, 10, 1869', 'Oct, 15, 1869', 'Oct, 20, 1869','Oct, 23, 1869']\n",
    "\n",
    "# 输出\n",
    "[8, 5, 5, 3]"
   ]
  },
  {
   "cell_type": "code",
   "execution_count": 103,
   "metadata": {},
   "outputs": [
    {
     "output_type": "stream",
     "name": "stdout",
     "text": "[8, 5, 5, 3]\n"
    }
   ],
   "source": [
    "from dateutil import parser\n",
    "import numpy as np\n",
    "lst=['Oct, 2, 1869', 'Oct, 10, 1869', 'Oct, 15, 1869', 'Oct, 20, 1869','Oct, 23, 1869']\n",
    "\n",
    "dates=[parser.parse(i) for i in lst]\n",
    "# print(dates)\n",
    "calc=np.diff(dates)     ##### key\n",
    "# print(calc)\n",
    "res=[i.days for i in calc] # not i.day\n",
    "print(res)\n",
    "# def calc_day(y1,y2):\n",
    "#    y=y2.year-y1.year \n",
    "#    m=y2.month-y1.month\n",
    "#    d=y2.day-y1.day \n",
    "#    return y*365+m*31+d\n",
    "\n",
    "# for i in range(1,len(lst)):\n",
    "#     cur=lst[i-1]\n",
    "#     next=lst[i]\n",
    "#     cur_t=parser.parse(cur)\n",
    "#     next_t=parser.parse(next)\n",
    "#     print(calc_day(cur_t,next_t))\n",
    "\n",
    ""
   ]
  },
  {
   "cell_type": "markdown",
   "metadata": {},
   "source": [
    "## 2. date类"
   ]
  },
  {
   "cell_type": "code",
   "execution_count": null,
   "metadata": {},
   "outputs": [],
   "source": [
    "class date:\n",
    "    def __init__(self, year, month, day):\n",
    "        pass\n",
    "    def today(cls):\n",
    "        pass"
   ]
  },
  {
   "cell_type": "code",
   "execution_count": null,
   "metadata": {},
   "outputs": [],
   "source": [
    "date.today() 获取当前日期信息。\n",
    "【例子】如何在 Python 中获取当前日期和时间？"
   ]
  },
  {
   "cell_type": "code",
   "execution_count": 104,
   "metadata": {},
   "outputs": [
    {
     "output_type": "stream",
     "name": "stdout",
     "text": "2020-06-25\n<class 'datetime.date'>\n2020-08-07\n<class 'datetime.date'>\n"
    }
   ],
   "source": [
    "import datetime\n",
    "\n",
    "d = datetime.date(2020, 6, 25)\n",
    "print(d)  # 2020-06-25\n",
    "print(type(d))  # <class 'datetime.date'>\n",
    "\n",
    "d = datetime.date.today()\n",
    "print(d)  # 2020-06-25\n",
    "print(type(d))  # <class 'datetime.date'>"
   ]
  },
  {
   "cell_type": "code",
   "execution_count": null,
   "metadata": {},
   "outputs": [],
   "source": [
    "如何统计两个日期之间有多少个星期六？"
   ]
  },
  {
   "cell_type": "code",
   "execution_count": null,
   "metadata": {},
   "outputs": [],
   "source": [
    "# 输入\n",
    "d1 = datetime.date(1869, 1, 2)\n",
    "d2 = datetime.date(1869, 10, 2)\n",
    "\n",
    "# 输出\n",
    "40"
   ]
  },
  {
   "cell_type": "code",
   "execution_count": 109,
   "metadata": {},
   "outputs": [
    {
     "output_type": "stream",
     "name": "stdout",
     "text": "273 days, 0:00:00\n40\n"
    }
   ],
   "source": [
    "import datetime\n",
    "\n",
    "d1 = datetime.date(1869, 1, 2)\n",
    "d2 = datetime.date(1869, 10, 2)\n",
    "\n",
    "print(d2-d1)\n",
    "\n",
    "d1.isoweekday()   ##为周六\n",
    "\n",
    "days=(d2-d1).days\n",
    "print(days//7+1)"
   ]
  },
  {
   "cell_type": "markdown",
   "metadata": {},
   "source": [
    "## 3. time类"
   ]
  },
  {
   "cell_type": "code",
   "execution_count": null,
   "metadata": {},
   "outputs": [],
   "source": [
    "class time:\n",
    "    def __init__(self, hour, minute, second, microsecond, tzinfo):\n",
    "        pass"
   ]
  },
  {
   "cell_type": "code",
   "execution_count": null,
   "metadata": {},
   "outputs": [],
   "source": [
    "如何使用 datetime.time() 类？"
   ]
  },
  {
   "cell_type": "code",
   "execution_count": 110,
   "metadata": {},
   "outputs": [
    {
     "output_type": "stream",
     "name": "stdout",
     "text": "12:09:23.012980\n<class 'datetime.time'>\n"
    }
   ],
   "source": [
    "import datetime\n",
    "\n",
    "t = datetime.time(12, 9, 23, 12980)\n",
    "print(t)  # 12:09:23.012980\n",
    "print(type(t))  # <class 'datetime.time'>"
   ]
  },
  {
   "cell_type": "code",
   "execution_count": null,
   "metadata": {},
   "outputs": [],
   "source": [
    "注意：\n",
    "\n",
    "1秒 = 1000 毫秒（milliseconds）\n",
    "1毫秒 = 1000 微妙（microseconds）\n",
    "【练习】如何将给定日期转换为当天开始的时间？\n",
    "# 输入\n",
    "import datetime\n",
    "date = datetime.date(2019, 10, 2)\n",
    "\n",
    "# 输出\n",
    "2019-10-02 00:00:00"
   ]
  },
  {
   "cell_type": "code",
   "execution_count": 111,
   "metadata": {},
   "outputs": [
    {
     "output_type": "stream",
     "name": "stdout",
     "text": "2019-10-02 00:00:00\n2019-10-02 00:00:00\n"
    }
   ],
   "source": [
    "import datetime\n",
    "\n",
    "date = datetime.date(2019, 10, 2)\n",
    "dt = datetime.datetime(date.year, date.month, date.day)\n",
    "print(dt)  # 2019-10-02 00:00:00\n",
    "\n",
    "dt = datetime.datetime.combine(date, datetime.time.min)\n",
    "print(dt)  # 2019-10-02 00:00:00"
   ]
  },
  {
   "cell_type": "markdown",
   "metadata": {},
   "source": [
    "## 4. timedelta类\n",
    "timedelta 表示具体时间实例中的一段时间。你可以把它们简单想象成两个日期或时间之间的间隔。\n",
    "\n",
    "它常常被用来从 datetime 对象中添加或移除一段特定的时间。"
   ]
  },
  {
   "cell_type": "code",
   "execution_count": 113,
   "metadata": {},
   "outputs": [],
   "source": [
    "class timedelta(SupportsAbs[timedelta]):\n",
    "    def __init__(self, days, seconds, microseconds, milliseconds, minutes, hours, weeks,):\n",
    "        pass\n",
    "    def days(self):\n",
    "        pass\n",
    "    def total_seconds(self):\n",
    "        pass"
   ]
  },
  {
   "cell_type": "code",
   "execution_count": null,
   "metadata": {},
   "outputs": [],
   "source": [
    "如何使用 datetime.timedelta() 类？"
   ]
  },
  {
   "cell_type": "code",
   "execution_count": 114,
   "metadata": {},
   "outputs": [
    {
     "output_type": "stream",
     "name": "stdout",
     "text": "30 days, 0:00:00\n<class 'datetime.timedelta'>\n2020-08-07\n2020-09-06\n365 days, 0:00:00\n<class 'datetime.timedelta'>\n23 days, 0:00:00\n<class 'datetime.timedelta'>\n"
    }
   ],
   "source": [
    "import datetime\n",
    "\n",
    "td = datetime.timedelta(days=30)\n",
    "print(td)  # 30 days, 0:00:00\n",
    "print(type(td))  # <class 'datetime.timedelta'>\n",
    "print(datetime.date.today())  # 2020-07-01\n",
    "print(datetime.date.today() + td)  # 2020-07-31\n",
    "\n",
    "dt1 = datetime.datetime(2020, 1, 31, 10, 10, 0)\n",
    "dt2 = datetime.datetime(2019, 1, 31, 10, 10, 0)\n",
    "td = dt1 - dt2\n",
    "print(td)  # 365 days, 0:00:00\n",
    "print(type(td))  # <class 'datetime.timedelta'>\n",
    "\n",
    "td1 = datetime.timedelta(days=30)  # 30 days\n",
    "td2 = datetime.timedelta(weeks=1)  # 1 week\n",
    "td = td1 - td2\n",
    "print(td)  # 23 days, 0:00:00\n",
    "print(type(td))  # <class 'datetime.timedelta'>"
   ]
  },
  {
   "cell_type": "code",
   "execution_count": null,
   "metadata": {},
   "outputs": [],
   "source": [
    "如果将两个 datetime 对象相减，就会得到表示该时间间隔的 timedelta 对象。\n",
    "\n",
    "同样地，将两个时间间隔相减，可以得到另一个 timedelta 对象。"
   ]
  },
  {
   "cell_type": "code",
   "execution_count": null,
   "metadata": {},
   "outputs": [],
   "source": [
    "【练习】\n",
    "\n",
    "距离你出生那天过去多少天了？\n",
    "距离你今年的下一个生日还有多少天？\n",
    "将距离你今年的下一个生日的天数转换为秒数。\n",
    "# 输入\n",
    "bday = 'Oct 2, 1969'"
   ]
  },
  {
   "cell_type": "code",
   "execution_count": 135,
   "metadata": {},
   "outputs": [
    {
     "output_type": "stream",
     "name": "stdout",
     "text": "2020-08-07 17:47:36.718262\n1969-10-02 00:00:00\n距离出生日已经过了 18572\n2020-10-02\n距离下一个生日还有 56\n4838400.0\n"
    }
   ],
   "source": [
    "import datetime\n",
    "# import timedelta\n",
    "from dateutil import parser\n",
    "bday = 'Oct 2, 1969'\n",
    "today=datetime.datetime.today()\n",
    "bir=parser.parse(bday)\n",
    "print(today)\n",
    "print(bir)\n",
    "diff=today-bir\n",
    "print(\"距离出生日已经过了\",diff.days)\n",
    "\n",
    "\n",
    "###2\n",
    "today=datetime.date.today()\n",
    "next_bir=datetime.date(today.year,bir.month,bir.day) ###这边年份有问题，需要比较是否已经过了，而这里刚好还是这一年\n",
    "# next_bir=datetime.timedelta(next_bir)\n",
    "print(next_bir)\n",
    "next_days=next_bir-today\n",
    "print(\"距离下一个生日还有\",next_days.days)\n",
    "\n",
    "###3\n",
    "print(td.days * 24 * 60 * 60)   # method 1\n",
    "print(next_days.total_seconds())    # method 2\n",
    "\n"
   ]
  },
  {
   "cell_type": "markdown",
   "metadata": {},
   "source": [
    "# 练习题：\n",
    "\n",
    "1、假设你获取了用户输入的日期和时间如2020-1-21 9:01:30，以及一个时区信息如UTC+5:00，均是str，请编写一个函数将其转换为timestamp："
   ]
  },
  {
   "cell_type": "code",
   "execution_count": 177,
   "metadata": {},
   "outputs": [
    {
     "output_type": "stream",
     "name": "stdout",
     "text": "2020-01-21 09:01:30\n[('+', '5')]\nzone diff are -3\n1579608090.0\n"
    }
   ],
   "source": [
    "import datetime\n",
    "from dateutil import parser\n",
    "import re\n",
    "str=\"2020-1-21 9:01:30\"\n",
    "d=parser.parse(str)\n",
    "print(d)\n",
    "zone=\"UTC+5:00\"\n",
    "res=re.findall(\"(\\+|\\-)(\\d+):\\d+\",zone)  ##对±时区分别对待，再提取整小时时区\n",
    "print(res)\n",
    "if res[0][0]=='+':\n",
    "    diff_zone=int(res[0][1])-8\n",
    "else:\n",
    "    diff_zone=-8-int(res[0][1])\n",
    "print(\"zone diff are\",diff_zone)\n",
    "zone_t=datetime.timedelta(hours=int(diff_zone))\n",
    "print((d+zone_t).timestamp())"
   ]
  },
  {
   "cell_type": "markdown",
   "metadata": {},
   "source": [
    "## 2、编写Python程序以选择指定年份的所有星期日。\n",
    "题目说明:\n",
    "\n",
    "```\n",
    "\"\"\"\n",
    "   \n",
    "Input file\n",
    "   2020\n",
    "   \n",
    "Output file\n",
    "   2020-01-05                         \n",
    "   2020-01-12              \n",
    "   2020-01-19                \n",
    "   2020-01-26               \n",
    "   2020-02-02     \n",
    "   -----\n",
    "   2020-12-06               \n",
    "   2020-12-13                \n",
    "   2020-12-20                \n",
    "   2020-12-27 \n",
    "\"\"\"\n",
    "```"
   ]
  },
  {
   "cell_type": "code",
   "execution_count": 189,
   "metadata": {},
   "outputs": [
    {
     "output_type": "stream",
     "name": "stdout",
     "text": "366 days, 0:00:00\n['2020-01-05', '2020-01-12', '2020-01-19', '2020-01-26', '2020-02-02', '2020-02-09', '2020-02-16', '2020-02-23', '2020-03-01', '2020-03-08', '2020-03-15', '2020-03-22', '2020-03-29', '2020-04-05', '2020-04-12', '2020-04-19', '2020-04-26', '2020-05-03', '2020-05-10', '2020-05-17', '2020-05-24', '2020-05-31', '2020-06-07', '2020-06-14', '2020-06-21', '2020-06-28', '2020-07-05', '2020-07-12', '2020-07-19', '2020-07-26', '2020-08-02', '2020-08-09', '2020-08-16', '2020-08-23', '2020-08-30', '2020-09-06', '2020-09-13', '2020-09-20', '2020-09-27', '2020-10-04', '2020-10-11', '2020-10-18', '2020-10-25', '2020-11-01', '2020-11-08', '2020-11-15', '2020-11-22', '2020-11-29', '2020-12-06', '2020-12-13', '2020-12-20', '2020-12-27']\n"
    }
   ],
   "source": [
    "import datetime\n",
    "def all_sundays(year):\n",
    "    # your code here\n",
    "    next_year=year+1\n",
    "    lst=[]\n",
    "    day=datetime.date(year,1,1)\n",
    "    total_day=datetime.date(year+1,1,1)-day  ## 计算下一年与这一年有多少年\n",
    "    print(total_day)\n",
    "    # print(day)\n",
    "    for i in range(int(total_day.days)):\n",
    "        newday=day+datetime.timedelta(days=i)\n",
    "        y=newday.strftime(\"%Y-%m-%d\")   ##转换格式\n",
    "        # print(y)\n",
    "        if newday.isoweekday()==7:    ##判断是否为星期日\n",
    "            lst.append(y)\n",
    "    return lst\n",
    "lst=all_sundays(2020)\n",
    "print(lst)"
   ]
  }
 ]
}