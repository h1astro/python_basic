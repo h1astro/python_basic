{
 "nbformat": 4,
 "nbformat_minor": 2,
 "metadata": {
  "language_info": {
   "name": "python",
   "codemirror_mode": {
    "name": "ipython",
    "version": 3
   },
   "version": "3.7.3-final"
  },
  "orig_nbformat": 2,
  "file_extension": ".py",
  "mimetype": "text/x-python",
  "name": "python",
  "npconvert_exporter": "python",
  "pygments_lexer": "ipython3",
  "version": 3,
  "kernelspec": {
   "name": "python37364bitanaconda3virtualenvac0e6e3c7f95495d9400d7ce75498235",
   "display_name": "Python 3.7.3 64-bit ('anaconda3': virtualenv)"
  }
 },
 "cells": [
  {
   "cell_type": "markdown",
   "metadata": {},
   "source": [
    "# 1. 文件与文件系统\n",
    "## 打开文件\n",
    "open(file, mode='r', buffering=None, encoding=None, errors=None, newline=None, closefd=True) Open file and return a stream. Raise OSError upon failure.\n",
    "* file: 必需，文件路径（相对或者绝对路径）。\n",
    "* mode: 可选，文件打开模式\n",
    "* buffering: 设置缓冲\n",
    "* encoding: 一般使用utf8\n",
    "* errors: 报错级别\n",
    "* newline: 区分换行符\n",
    "常见的mode如下表所示："
   ]
  },
  {
   "cell_type": "code",
   "execution_count": null,
   "metadata": {},
   "outputs": [],
   "source": [
    "打开模式\t执行操作\n",
    "'r'\t以只读方式打开文件。文件的指针将会放在文件的开头。这是默认模式。\n",
    "'w'\t打开一个文件只用于写入。\n",
    "如果该文件已存在则打开文件，并从开头开始编辑。\n",
    "即原有内容会被删除。\n",
    "如果该文件不存在，创建新文件。\n",
    "'x'\t写模式，新建一个文件，如果该文件已存在则会报错。\n",
    "'a'\t追加模式，打开一个文件用于追加。\n",
    "如果该文件已存在，文件指针将会放在文件的结尾。\n",
    "也就是说，新的内容将会被写入到已有内容之后。\n",
    "如果该文件不存在，创建新文件进行写入。\n",
    "'b'\t以二进制模式打开文件。一般用于非文本文件，如：图片。\n",
    "'t'\t以文本模式打开（默认）。一般用于文本文件，如：txt。\n",
    "'+'\t可读写模式（可添加到其它模式中使用）"
   ]
  },
  {
   "cell_type": "code",
   "execution_count": null,
   "metadata": {},
   "outputs": [],
   "source": [
    "打开一个文件，并返回文件对象，如果该文件无法被打开，会抛出OSError。"
   ]
  },
  {
   "cell_type": "code",
   "execution_count": 2,
   "metadata": {},
   "outputs": [
    {
     "output_type": "stream",
     "name": "stdout",
     "text": "<_io.TextIOWrapper name='将进酒.txt' mode='r' encoding='UTF-8'>\n君不见，黄河之水天上来，奔流到海不复回。\n\n君不见，高堂明镜悲白发，朝如青丝暮成雪。\n\n人生得意须尽欢，莫使金樽空对月。\n\n天生我材必有用，千金散尽还复来。\n\n烹羊宰牛且为乐，会须一饮三百杯。\n\n岑夫子，丹丘生，将进酒，杯莫停。\n\n与君歌一曲，请君为我倾耳听。\n\n钟鼓馔玉不足贵，但愿长醉不复醒。\n\n古来圣贤皆寂寞，惟有饮者留其名。\n\n陈王昔时宴平乐，斗酒十千恣欢谑。\n\n主人何为言少钱，径须沽取对君酌。\n\n五花马，千金裘，呼儿将出换美酒，与尔同销万古愁\n"
    }
   ],
   "source": [
    "f = open('将进酒.txt')\n",
    "print(f)\n",
    "# <_io.TextIOWrapper name='将进酒.txt' mode='r' encoding='cp936'>\n",
    "\n",
    "for each in f:\n",
    "    print(each)\n",
    "\n",
    "# 君不见，黄河之水天上来，奔流到海不复回。\n",
    "# 君不见，高堂明镜悲白发，朝如青丝暮成雪。\n",
    "# 人生得意须尽欢，莫使金樽空对月。\n",
    "# 天生我材必有用，千金散尽还复来。\n",
    "# 烹羊宰牛且为乐，会须一饮三百杯。\n",
    "# 岑夫子，丹丘生，将进酒，杯莫停。\n",
    "# 与君歌一曲，请君为我倾耳听。\n",
    "# 钟鼓馔玉不足贵，但愿长醉不复醒。\n",
    "# 古来圣贤皆寂寞，惟有饮者留其名。\n",
    "# 陈王昔时宴平乐，斗酒十千恣欢谑。\n",
    "# 主人何为言少钱，径须沽取对君酌。\n",
    "# 五花马，千金裘，呼儿将出换美酒，与尔同销万古愁"
   ]
  },
  {
   "cell_type": "markdown",
   "metadata": {},
   "source": [
    "## 文件对象方法\n",
    "fileObject.close() 用于关闭一个已打开的文件。关闭后的文件不能再进行读写操作， 否则会触发ValueError错误。"
   ]
  },
  {
   "cell_type": "code",
   "execution_count": 3,
   "metadata": {},
   "outputs": [
    {
     "output_type": "stream",
     "name": "stdout",
     "text": "FileName: 将进酒.txt\n"
    }
   ],
   "source": [
    "f = open(\"将进酒.txt\")\n",
    "print('FileName:', f.name)  # FileName: 将进酒.txt\n",
    "f.close()"
   ]
  },
  {
   "cell_type": "code",
   "execution_count": null,
   "metadata": {},
   "outputs": [],
   "source": [
    "fileObject.read([size]) 用于从文件读取指定的字符数，如果未给定或为负则读取所有。"
   ]
  },
  {
   "cell_type": "code",
   "execution_count": 5,
   "metadata": {},
   "outputs": [
    {
     "output_type": "stream",
     "name": "stdout",
     "text": "读取的字符串: 君不见，黄河之水天上来，奔流到海不复回。\n"
    }
   ],
   "source": [
    "f = open('将进酒.txt', 'r')\n",
    "line = f.read(20)\n",
    "print(\"读取的字符串: %s\" % line)\n",
    "# 读取的字符串: 君不见，黄河之水天上来，奔流到海不复回。\n",
    "\n",
    "f.close()"
   ]
  },
  {
   "cell_type": "code",
   "execution_count": null,
   "metadata": {},
   "outputs": [],
   "source": [
    "fileObject.readline()读取整行，包括 \"\\n\" 字符。"
   ]
  },
  {
   "cell_type": "code",
   "execution_count": 6,
   "metadata": {},
   "outputs": [
    {
     "output_type": "stream",
     "name": "stdout",
     "text": "读取的字符串: 君不见，黄河之水天上来，奔流到海不复回。\n\n"
    }
   ],
   "source": [
    "f = open('将进酒.txt', 'r')\n",
    "line = f.readline()\n",
    "print(\"读取的字符串: %s\" % line)\n",
    "# 读取的字符串: 君不见，黄河之水天上来，奔流到海不复回。\n",
    "f.close()"
   ]
  },
  {
   "cell_type": "code",
   "execution_count": null,
   "metadata": {},
   "outputs": [],
   "source": [
    "fileObject.readlines()用于读取所有行(直到结束符 EOF)并返回列表，该列表可以由 Python 的 for... in ... 结构进行处理"
   ]
  },
  {
   "cell_type": "code",
   "execution_count": 12,
   "metadata": {},
   "outputs": [
    {
     "output_type": "stream",
     "name": "stdout",
     "text": "['君不见，黄河之水天上来，奔流到海不复回。\\n', '君不见，高堂明镜悲白发，朝如青丝暮成雪。\\n', '人生得意须尽欢，莫使金樽空对月。\\n', '天生我材必有用，千金散尽还复来。\\n', '烹羊宰牛且为乐，会须一饮三百杯。\\n', '岑夫子，丹丘生，将进酒，杯莫停。\\n', '与君歌一曲，请君为我倾耳听。\\n', '钟鼓馔玉不足贵，但愿长醉不复醒。\\n', '古来圣贤皆寂寞，惟有饮者留其名。\\n', '陈王昔时宴平乐，斗酒十千恣欢谑。\\n', '主人何为言少钱，径须沽取对君酌。\\n', '五花马，千金裘，呼儿将出换美酒，与尔同销万古愁']\n君不见，黄河之水天上来，奔流到海不复回。\n\n君不见，高堂明镜悲白发，朝如青丝暮成雪。\n\n人生得意须尽欢，莫使金樽空对月。\n\n天生我材必有用，千金散尽还复来。\n\n烹羊宰牛且为乐，会须一饮三百杯。\n\n岑夫子，丹丘生，将进酒，杯莫停。\n\n与君歌一曲，请君为我倾耳听。\n\n钟鼓馔玉不足贵，但愿长醉不复醒。\n\n古来圣贤皆寂寞，惟有饮者留其名。\n\n陈王昔时宴平乐，斗酒十千恣欢谑。\n\n主人何为言少钱，径须沽取对君酌。\n\n五花马，千金裘，呼儿将出换美酒，与尔同销万古愁\n"
    }
   ],
   "source": [
    "f = open('将进酒.txt', 'r')\n",
    "lines = f.readlines()\n",
    "print(lines)\n",
    "\n",
    "for each in lines:\n",
    "    each.strip()\n",
    "    print(each)\n",
    "f.close()"
   ]
  },
  {
   "cell_type": "code",
   "execution_count": null,
   "metadata": {},
   "outputs": [],
   "source": [
    "fileObject.tell()返回文件的当前位置，即文件指针当前位置。"
   ]
  },
  {
   "cell_type": "code",
   "execution_count": 14,
   "metadata": {},
   "outputs": [
    {
     "output_type": "stream",
     "name": "stdout",
     "text": "君不见，黄河之水天上来，奔流到海不复回。\n\n君不见，高堂明镜悲白发，朝如青丝暮成雪。\n\n122\n"
    }
   ],
   "source": [
    "f = open('将进酒.txt', 'r')\n",
    "line = f.readline()\n",
    "print(line)\n",
    "# 君不见，黄河之水天上来，奔流到海不复回。\n",
    "# line = f.readline()\n",
    "# print(line)\n",
    "pos = f.tell()\n",
    "print(pos)  # 42\n",
    "f.close()"
   ]
  },
  {
   "cell_type": "markdown",
   "metadata": {},
   "source": [
    "fileObject.seek(offset\\[, whence\\])用于移动文件读取指针到指定位置。\n",
    "* offset：开始的偏移量，也就是代表需要移动偏移的字节数，如果是负数表示从倒数第几位开始。\n",
    "* whence：可选，默认值为 0。给 offset 定义一个参数，表示要从哪个位置开始偏移；0 代表从文件开头开始算起，1 代表从当前位置开始算起，2 代表从文件末尾算起。"
   ]
  },
  {
   "cell_type": "code",
   "execution_count": 19,
   "metadata": {},
   "outputs": [
    {
     "output_type": "stream",
     "name": "stdout",
     "text": "君不见，黄河之水天上来，奔流到海不复回。\n\n君不见，高堂明镜悲白发，朝如青丝暮成雪。\n\n君不见，黄河之水天上来，奔流到海不复回。\n\n"
    }
   ],
   "source": [
    "f = open('将进酒.txt', 'r')\n",
    "line = f.readline()\n",
    "print(line)\n",
    "# 君不见，黄河之水天上来，奔流到海不复回。\n",
    "line = f.readline()\n",
    "print(line)\n",
    "# 君不见，高堂明镜悲白发，朝如青丝暮成雪。\n",
    "f.seek(0, 0)\n",
    "line = f.readline()\n",
    "print(line)\n",
    "# 君不见，黄河之水天上来，奔流到海不复回。\n",
    "f.close()"
   ]
  },
  {
   "cell_type": "code",
   "execution_count": null,
   "metadata": {},
   "outputs": [],
   "source": [
    "fileObject.write(str)用于向文件中写入指定字符串，返回的是写入的字符长度。"
   ]
  },
  {
   "cell_type": "code",
   "execution_count": 22,
   "metadata": {},
   "outputs": [
    {
     "output_type": "stream",
     "name": "stdout",
     "text": "16\n5\nb'5'\n13\nb'd'\n"
    }
   ],
   "source": [
    "f = open('workfile.txt', 'wb+')\n",
    "print(f.write(b'0123456789abcdef'))  # 16\n",
    "print(f.seek(5))  # 5\n",
    "print(f.read(1))  # b'5'\n",
    "print(f.seek(-3, 2))  # 13\n",
    "print(f.read(1))  # b'd'"
   ]
  },
  {
   "cell_type": "code",
   "execution_count": null,
   "metadata": {},
   "outputs": [],
   "source": [
    "在文件关闭前或缓冲区刷新前，字符串内容存储在缓冲区中，这时你在文件中是看不到写入的内容的。\n",
    "\n",
    "如果文件打开模式带b，那写入文件内容时，str（参数）要用encode方法转为bytes形式，否则报错：TypeError: a bytes-like object is required, not 'str'。\n"
   ]
  },
  {
   "cell_type": "code",
   "execution_count": 23,
   "metadata": {},
   "outputs": [],
   "source": [
    "str = '...'\n",
    "# 文本 = Unicode字符序列\n",
    "# 相当于 string 类型\n",
    "\n",
    "str = b'...'\n",
    "# 文本 = 八位序列(0到255之间的整数)\n",
    "# 字节文字总是以‘b’或‘B’作为前缀；它们产生一个字节类型的实例，而不是str类型。\n",
    "# 相当于 byte[]"
   ]
  },
  {
   "cell_type": "code",
   "execution_count": 24,
   "metadata": {},
   "outputs": [
    {
     "output_type": "stream",
     "name": "stdout",
     "text": "君不见，黄河之水天上来，奔流到海不复回。\n\n君不见，高堂明镜悲白发，朝如青丝暮成雪。\n\n人生得意须尽欢，莫使金樽空对月。\n\n天生我材必有用，千金散尽还复来。\n\n烹羊宰牛且为乐，会须一饮三百杯。\n\n岑夫子，丹丘生，将进酒，杯莫停。\n\n与君歌一曲，请君为我倾耳听。\n\n钟鼓馔玉不足贵，但愿长醉不复醒。\n\n古来圣贤皆寂寞，惟有饮者留其名。\n\n陈王昔时宴平乐，斗酒十千恣欢谑。\n\n主人何为言少钱，径须沽取对君酌。\n\n五花马，千金裘，呼儿将出换美酒，与尔同销万古愁\n\n作者：李白\n"
    }
   ],
   "source": [
    "f = open('将进酒.txt', 'r+')\n",
    "str = '\\n作者：李白'\n",
    "f.seek(0, 2)\n",
    "line = f.write(str)\n",
    "f.seek(0, 0)\n",
    "for each in f:\n",
    "    print(each)\n",
    "f.close()"
   ]
  },
  {
   "cell_type": "code",
   "execution_count": null,
   "metadata": {},
   "outputs": [],
   "source": [
    "fileObject.writelines(sequence)向文件写入一个序列字符串列表，如果需要换行则要自己加入每行的换行符\\n。"
   ]
  },
  {
   "cell_type": "code",
   "execution_count": 25,
   "metadata": {},
   "outputs": [
    {
     "output_type": "stream",
     "name": "stdout",
     "text": "小马的程序人生\n\n老马的程序人生\n"
    }
   ],
   "source": [
    "f = open('test.txt', 'w+')\n",
    "seq = ['小马的程序人生\\n', '老马的程序人生']\n",
    "f.writelines(seq)\n",
    "f.seek(0, 0)\n",
    "for each in f:\n",
    "    print(each)\n",
    "    \n",
    "# 小马的程序人生\n",
    "# 老马的程序人生\n",
    "f.close()"
   ]
  },
  {
   "cell_type": "markdown",
   "metadata": {},
   "source": [
    "## 简洁的 with 语句\n",
    "一些对象定义了标准的清理行为，无论系统是否成功的使用了它，一旦不需要它了，那么这个标准的清理行为就会执行。\n",
    "\n",
    "关键词 with 语句就可以保证诸如文件之类的对象在使用完之后一定会正确的执行它的清理方法。"
   ]
  },
  {
   "cell_type": "code",
   "execution_count": 26,
   "metadata": {},
   "outputs": [
    {
     "output_type": "error",
     "ename": "TypeError",
     "evalue": "'str' object is not callable",
     "traceback": [
      "\u001b[0;31m---------------------------------------------------------------------------\u001b[0m",
      "\u001b[0;31mUnsupportedOperation\u001b[0m                      Traceback (most recent call last)",
      "\u001b[0;32m<ipython-input-26-d24ac5ae0c1f>\u001b[0m in \u001b[0;36m<module>\u001b[0;34m\u001b[0m\n\u001b[1;32m      2\u001b[0m     \u001b[0mf\u001b[0m \u001b[0;34m=\u001b[0m \u001b[0mopen\u001b[0m\u001b[0;34m(\u001b[0m\u001b[0;34m'myfile.txt'\u001b[0m\u001b[0;34m,\u001b[0m \u001b[0;34m'w'\u001b[0m\u001b[0;34m)\u001b[0m\u001b[0;34m\u001b[0m\u001b[0;34m\u001b[0m\u001b[0m\n\u001b[0;32m----> 3\u001b[0;31m     \u001b[0;32mfor\u001b[0m \u001b[0mline\u001b[0m \u001b[0;32min\u001b[0m \u001b[0mf\u001b[0m\u001b[0;34m:\u001b[0m\u001b[0;34m\u001b[0m\u001b[0;34m\u001b[0m\u001b[0m\n\u001b[0m\u001b[1;32m      4\u001b[0m         \u001b[0mprint\u001b[0m\u001b[0;34m(\u001b[0m\u001b[0mline\u001b[0m\u001b[0;34m)\u001b[0m\u001b[0;34m\u001b[0m\u001b[0;34m\u001b[0m\u001b[0m\n",
      "\u001b[0;31mUnsupportedOperation\u001b[0m: not readable",
      "\nDuring handling of the above exception, another exception occurred:\n",
      "\u001b[0;31mTypeError\u001b[0m                                 Traceback (most recent call last)",
      "\u001b[0;32m<ipython-input-26-d24ac5ae0c1f>\u001b[0m in \u001b[0;36m<module>\u001b[0;34m\u001b[0m\n\u001b[1;32m      4\u001b[0m         \u001b[0mprint\u001b[0m\u001b[0;34m(\u001b[0m\u001b[0mline\u001b[0m\u001b[0;34m)\u001b[0m\u001b[0;34m\u001b[0m\u001b[0;34m\u001b[0m\u001b[0m\n\u001b[1;32m      5\u001b[0m \u001b[0;32mexcept\u001b[0m \u001b[0mOSError\u001b[0m \u001b[0;32mas\u001b[0m \u001b[0merror\u001b[0m\u001b[0;34m:\u001b[0m\u001b[0;34m\u001b[0m\u001b[0;34m\u001b[0m\u001b[0m\n\u001b[0;32m----> 6\u001b[0;31m     \u001b[0mprint\u001b[0m\u001b[0;34m(\u001b[0m\u001b[0;34m'出错啦!%s'\u001b[0m \u001b[0;34m%\u001b[0m \u001b[0mstr\u001b[0m\u001b[0;34m(\u001b[0m\u001b[0merror\u001b[0m\u001b[0;34m)\u001b[0m\u001b[0;34m)\u001b[0m\u001b[0;34m\u001b[0m\u001b[0;34m\u001b[0m\u001b[0m\n\u001b[0m\u001b[1;32m      7\u001b[0m \u001b[0;32mfinally\u001b[0m\u001b[0;34m:\u001b[0m\u001b[0;34m\u001b[0m\u001b[0;34m\u001b[0m\u001b[0m\n\u001b[1;32m      8\u001b[0m     \u001b[0mf\u001b[0m\u001b[0;34m.\u001b[0m\u001b[0mclose\u001b[0m\u001b[0;34m(\u001b[0m\u001b[0;34m)\u001b[0m\u001b[0;34m\u001b[0m\u001b[0;34m\u001b[0m\u001b[0m\n",
      "\u001b[0;31mTypeError\u001b[0m: 'str' object is not callable"
     ]
    }
   ],
   "source": [
    "try:\n",
    "    f = open('myfile.txt', 'w')\n",
    "    for line in f:\n",
    "        print(line)\n",
    "except OSError as error:\n",
    "    print('出错啦!%s' % str(error))\n",
    "finally:\n",
    "    f.close()"
   ]
  },
  {
   "cell_type": "code",
   "execution_count": null,
   "metadata": {},
   "outputs": [],
   "source": [
    "这段代码执行完毕后，就算在处理过程中出问题了，文件 f 总是会关闭。"
   ]
  },
  {
   "cell_type": "code",
   "execution_count": 27,
   "metadata": {},
   "outputs": [
    {
     "output_type": "error",
     "ename": "TypeError",
     "evalue": "'str' object is not callable",
     "traceback": [
      "\u001b[0;31m---------------------------------------------------------------------------\u001b[0m",
      "\u001b[0;31mUnsupportedOperation\u001b[0m                      Traceback (most recent call last)",
      "\u001b[0;32m<ipython-input-27-bb10ef781dc1>\u001b[0m in \u001b[0;36m<module>\u001b[0;34m\u001b[0m\n\u001b[1;32m      2\u001b[0m     \u001b[0;32mwith\u001b[0m \u001b[0mopen\u001b[0m\u001b[0;34m(\u001b[0m\u001b[0;34m'myfile.txt'\u001b[0m\u001b[0;34m,\u001b[0m \u001b[0;34m'w'\u001b[0m\u001b[0;34m)\u001b[0m \u001b[0;32mas\u001b[0m \u001b[0mf\u001b[0m\u001b[0;34m:\u001b[0m\u001b[0;34m\u001b[0m\u001b[0;34m\u001b[0m\u001b[0m\n\u001b[0;32m----> 3\u001b[0;31m         \u001b[0;32mfor\u001b[0m \u001b[0mline\u001b[0m \u001b[0;32min\u001b[0m \u001b[0mf\u001b[0m\u001b[0;34m:\u001b[0m\u001b[0;34m\u001b[0m\u001b[0;34m\u001b[0m\u001b[0m\n\u001b[0m\u001b[1;32m      4\u001b[0m             \u001b[0mprint\u001b[0m\u001b[0;34m(\u001b[0m\u001b[0mline\u001b[0m\u001b[0;34m)\u001b[0m\u001b[0;34m\u001b[0m\u001b[0;34m\u001b[0m\u001b[0m\n",
      "\u001b[0;31mUnsupportedOperation\u001b[0m: not readable",
      "\nDuring handling of the above exception, another exception occurred:\n",
      "\u001b[0;31mTypeError\u001b[0m                                 Traceback (most recent call last)",
      "\u001b[0;32m<ipython-input-27-bb10ef781dc1>\u001b[0m in \u001b[0;36m<module>\u001b[0;34m\u001b[0m\n\u001b[1;32m      4\u001b[0m             \u001b[0mprint\u001b[0m\u001b[0;34m(\u001b[0m\u001b[0mline\u001b[0m\u001b[0;34m)\u001b[0m\u001b[0;34m\u001b[0m\u001b[0;34m\u001b[0m\u001b[0m\n\u001b[1;32m      5\u001b[0m \u001b[0;32mexcept\u001b[0m \u001b[0mOSError\u001b[0m \u001b[0;32mas\u001b[0m \u001b[0merror\u001b[0m\u001b[0;34m:\u001b[0m\u001b[0;34m\u001b[0m\u001b[0;34m\u001b[0m\u001b[0m\n\u001b[0;32m----> 6\u001b[0;31m     \u001b[0mprint\u001b[0m\u001b[0;34m(\u001b[0m\u001b[0;34m'出错啦!%s'\u001b[0m \u001b[0;34m%\u001b[0m \u001b[0mstr\u001b[0m\u001b[0;34m(\u001b[0m\u001b[0merror\u001b[0m\u001b[0;34m)\u001b[0m\u001b[0;34m)\u001b[0m\u001b[0;34m\u001b[0m\u001b[0;34m\u001b[0m\u001b[0m\n\u001b[0m",
      "\u001b[0;31mTypeError\u001b[0m: 'str' object is not callable"
     ]
    }
   ],
   "source": [
    "try:\n",
    "    with open('myfile.txt', 'w') as f:\n",
    "        for line in f:\n",
    "            print(line)\n",
    "except OSError as error:\n",
    "    print('出错啦!%s' % str(error))"
   ]
  },
  {
   "cell_type": "markdown",
   "metadata": {},
   "source": [
    "## 2. OS 模块中关于文件/目录常用的函数\n",
    "我们所知道常用的操作系统就有：Windows，Mac OS，Linu，Unix等，这些操作系统底层对于文件系统的访问工作原理是不一样的，因此你可能就要针对不同的系统来考虑使用哪些文件系统模块……，这样的做法是非常不友好且麻烦的，因为这样就意味着当你的程序运行环境一改变，你就要相应的去修改大量的代码来应对。\n",
    "\n",
    "有了OS（Operation System）模块，我们不需要关心什么操作系统下使用什么模块，OS模块会帮你选择正确的模块并调用。\n",
    "\n",
    "* os.getcwd()用于返回当前工作目录。\n",
    "* os.chdir(path)用于改变当前工作目录到指定的路径。"
   ]
  },
  {
   "cell_type": "code",
   "execution_count": 29,
   "metadata": {},
   "outputs": [
    {
     "output_type": "stream",
     "name": "stdout",
     "text": "当前工作目录 : /home/shjh/python_basic\n目录修改成功 : /home\n"
    }
   ],
   "source": [
    "import os\n",
    "\n",
    "path = '/home'\n",
    "print(\"当前工作目录 : %s\" % os.getcwd())\n",
    "# 当前工作目录 : C:\\Users\\Administrator\\PycharmProjects\\untitled1\n",
    "os.chdir(path)\n",
    "print(\"目录修改成功 : %s\" % os.getcwd())\n",
    "# 目录修改成功 : C:\\"
   ]
  },
  {
   "cell_type": "code",
   "execution_count": null,
   "metadata": {},
   "outputs": [],
   "source": [
    "listdir (path='.')返回path指定的文件夹包含的文件或文件夹的名字的列表。"
   ]
  },
  {
   "cell_type": "code",
   "execution_count": 31,
   "metadata": {},
   "outputs": [],
   "source": [
    "import os\n",
    "\n",
    "dirs = os.listdir()\n",
    "for item in dirs:\n",
    "    print(item)"
   ]
  },
  {
   "cell_type": "code",
   "execution_count": null,
   "metadata": {},
   "outputs": [],
   "source": [
    "os.mkdir(path)创建单层目录，如果该目录已存在抛出异常。"
   ]
  },
  {
   "cell_type": "code",
   "execution_count": 32,
   "metadata": {},
   "outputs": [
    {
     "output_type": "error",
     "ename": "PermissionError",
     "evalue": "[Errno 13] Permission denied: '.\\\\B'",
     "traceback": [
      "\u001b[0;31m---------------------------------------------------------------------------\u001b[0m",
      "\u001b[0;31mPermissionError\u001b[0m                           Traceback (most recent call last)",
      "\u001b[0;32m<ipython-input-32-beb75dcdca7e>\u001b[0m in \u001b[0;36m<module>\u001b[0;34m\u001b[0m\n\u001b[1;32m      2\u001b[0m \u001b[0;34m\u001b[0m\u001b[0m\n\u001b[1;32m      3\u001b[0m \u001b[0;32mif\u001b[0m \u001b[0mos\u001b[0m\u001b[0;34m.\u001b[0m\u001b[0mpath\u001b[0m\u001b[0;34m.\u001b[0m\u001b[0misdir\u001b[0m\u001b[0;34m(\u001b[0m\u001b[0;34mr'.\\b'\u001b[0m\u001b[0;34m)\u001b[0m \u001b[0;32mis\u001b[0m \u001b[0;32mFalse\u001b[0m\u001b[0;34m:\u001b[0m\u001b[0;34m\u001b[0m\u001b[0;34m\u001b[0m\u001b[0m\n\u001b[0;32m----> 4\u001b[0;31m     \u001b[0mos\u001b[0m\u001b[0;34m.\u001b[0m\u001b[0mmkdir\u001b[0m\u001b[0;34m(\u001b[0m\u001b[0;34mr'.\\B'\u001b[0m\u001b[0;34m)\u001b[0m\u001b[0;34m\u001b[0m\u001b[0;34m\u001b[0m\u001b[0m\n\u001b[0m\u001b[1;32m      5\u001b[0m     \u001b[0mos\u001b[0m\u001b[0;34m.\u001b[0m\u001b[0mmkdir\u001b[0m\u001b[0;34m(\u001b[0m\u001b[0;34mr'.\\B\\A'\u001b[0m\u001b[0;34m)\u001b[0m\u001b[0;34m\u001b[0m\u001b[0;34m\u001b[0m\u001b[0m\n\u001b[1;32m      6\u001b[0m \u001b[0;34m\u001b[0m\u001b[0m\n",
      "\u001b[0;31mPermissionError\u001b[0m: [Errno 13] Permission denied: '.\\\\B'"
     ]
    }
   ],
   "source": [
    "import os\n",
    "\n",
    "if os.path.isdir(r'.\\b') is False:\n",
    "    os.mkdir(r'.\\B')\n",
    "    os.mkdir(r'.\\B\\A')\n",
    "\n",
    "os.mkdir(r'.\\C\\A') # FileNotFoundError"
   ]
  },
  {
   "cell_type": "code",
   "execution_count": 33,
   "metadata": {},
   "outputs": [
    {
     "output_type": "error",
     "ename": "PermissionError",
     "evalue": "[Errno 13] Permission denied: '.\\\\E\\\\A'",
     "traceback": [
      "\u001b[0;31m---------------------------------------------------------------------------\u001b[0m",
      "\u001b[0;31mPermissionError\u001b[0m                           Traceback (most recent call last)",
      "\u001b[0;32m<ipython-input-33-cea500ef7208>\u001b[0m in \u001b[0;36m<module>\u001b[0;34m\u001b[0m\n\u001b[1;32m      1\u001b[0m \u001b[0;32mimport\u001b[0m \u001b[0mos\u001b[0m\u001b[0;34m\u001b[0m\u001b[0;34m\u001b[0m\u001b[0m\n\u001b[0;32m----> 2\u001b[0;31m \u001b[0mos\u001b[0m\u001b[0;34m.\u001b[0m\u001b[0mmakedirs\u001b[0m\u001b[0;34m(\u001b[0m\u001b[0;34mr'.\\E\\A'\u001b[0m\u001b[0;34m)\u001b[0m\u001b[0;34m\u001b[0m\u001b[0;34m\u001b[0m\u001b[0m\n\u001b[0m",
      "\u001b[0;32m~/anaconda3/lib/python3.7/os.py\u001b[0m in \u001b[0;36mmakedirs\u001b[0;34m(name, mode, exist_ok)\u001b[0m\n\u001b[1;32m    219\u001b[0m             \u001b[0;32mreturn\u001b[0m\u001b[0;34m\u001b[0m\u001b[0;34m\u001b[0m\u001b[0m\n\u001b[1;32m    220\u001b[0m     \u001b[0;32mtry\u001b[0m\u001b[0;34m:\u001b[0m\u001b[0;34m\u001b[0m\u001b[0;34m\u001b[0m\u001b[0m\n\u001b[0;32m--> 221\u001b[0;31m         \u001b[0mmkdir\u001b[0m\u001b[0;34m(\u001b[0m\u001b[0mname\u001b[0m\u001b[0;34m,\u001b[0m \u001b[0mmode\u001b[0m\u001b[0;34m)\u001b[0m\u001b[0;34m\u001b[0m\u001b[0;34m\u001b[0m\u001b[0m\n\u001b[0m\u001b[1;32m    222\u001b[0m     \u001b[0;32mexcept\u001b[0m \u001b[0mOSError\u001b[0m\u001b[0;34m:\u001b[0m\u001b[0;34m\u001b[0m\u001b[0;34m\u001b[0m\u001b[0m\n\u001b[1;32m    223\u001b[0m         \u001b[0;31m# Cannot rely on checking for EEXIST, since the operating system\u001b[0m\u001b[0;34m\u001b[0m\u001b[0;34m\u001b[0m\u001b[0;34m\u001b[0m\u001b[0m\n",
      "\u001b[0;31mPermissionError\u001b[0m: [Errno 13] Permission denied: '.\\\\E\\\\A'"
     ]
    }
   ],
   "source": [
    "import os\n",
    "os.makedirs(r'.\\E\\A')"
   ]
  },
  {
   "cell_type": "code",
   "execution_count": null,
   "metadata": {},
   "outputs": [],
   "source": [
    "os.remove(path)用于删除指定路径的文件。如果指定的路径是一个目录，将抛出 OSError。\n",
    "【例】首先创建.\\E\\A\\text.txt文件，然后进行删除。"
   ]
  },
  {
   "cell_type": "code",
   "execution_count": null,
   "metadata": {},
   "outputs": [],
   "source": [
    "import os\n",
    "\n",
    "print(\"目录为: %s\" % os.listdir(r'.\\E\\A'))\n",
    "os.remove(r'.\\E\\A\\test.txt')\n",
    "print(\"目录为: %s\" % os.listdir(r'.\\E\\A'))"
   ]
  },
  {
   "cell_type": "code",
   "execution_count": null,
   "metadata": {},
   "outputs": [],
   "source": [
    "os.rmdir(path)用于删除单层目录。仅当这文件夹是空的才可以, 否则, 抛出 OSError。\n",
    "首先创建.\\E\\A目录，然后进行删除。"
   ]
  },
  {
   "cell_type": "code",
   "execution_count": null,
   "metadata": {},
   "outputs": [],
   "source": [
    "import os\n",
    "\n",
    "print(\"目录为: %s\" % os.listdir(r'.\\E'))\n",
    "os.rmdir(r'.\\E\\A')\n",
    "print(\"目录为: %s\" % os.listdir(r'.\\E'))"
   ]
  },
  {
   "cell_type": "code",
   "execution_count": null,
   "metadata": {},
   "outputs": [],
   "source": [
    "os.removedirs(path)递归删除目录，从子目录到父目录逐层尝试删除，遇到目录非空则抛出异常。\n",
    "【例】首先创建.\\E\\A目录，然后进行删除。"
   ]
  },
  {
   "cell_type": "code",
   "execution_count": null,
   "metadata": {},
   "outputs": [],
   "source": [
    "import os\n",
    "\n",
    "print(\"目录为: %s\" % os.listdir(os.getcwd()))\n",
    "os.removedirs(r'.\\E\\A')  # 先删除A 然后删除E\n",
    "print(\"目录为: %s\" % os.listdir(os.getcwd()))"
   ]
  },
  {
   "cell_type": "code",
   "execution_count": null,
   "metadata": {},
   "outputs": [],
   "source": [
    "os.rename(src, dst)方法用于命名文件或目录，从 src 到 dst，如果 dst 是一个存在的目录, 将抛出 OSError。\n",
    "【例】把test.txt文件重命名为test2.txt。"
   ]
  },
  {
   "cell_type": "code",
   "execution_count": 35,
   "metadata": {},
   "outputs": [],
   "source": [
    "import os\n",
    "\n",
    "print(\"目录为: %s\" % os.listdir(os.getcwd()))\n",
    "os.rename(\"test.txt\", \"test2.txt\")\n",
    "print(\"重命名成功。\")\n",
    "print(\"目录为: %s\" % os.listdir(os.getcwd()))"
   ]
  },
  {
   "cell_type": "code",
   "execution_count": null,
   "metadata": {},
   "outputs": [],
   "source": [
    "os.system(command)运行系统的shell命令（将字符串转化成命令）\n",
    "【例】先自行创建一个a.py的文件，然后由shell命令打开。"
   ]
  },
  {
   "cell_type": "code",
   "execution_count": null,
   "metadata": {},
   "outputs": [],
   "source": [
    "import os\n",
    "\n",
    "path = os.getcwd() + '\\\\a.py'\n",
    "a = os.system(r'python %s' % path)\n",
    "\n",
    "os.system('calc')  # 打开计算器"
   ]
  },
  {
   "cell_type": "markdown",
   "metadata": {},
   "source": [
    "* os.curdir指代当前目录（.）\n",
    "* os.pardir指代上一级目录（..）\n",
    "* os.sep输出操作系统特定的路径分隔符（win下为\\\\，Linux下为/）\n",
    "* os.linesep当前平台使用的行终止符（win下为\\r\\n，Linux下为\\n）\n",
    "* os.name指代当前使用的操作系统（包括：'mac'，'nt'）"
   ]
  },
  {
   "cell_type": "code",
   "execution_count": 36,
   "metadata": {},
   "outputs": [
    {
     "output_type": "stream",
     "name": "stdout",
     "text": ".\n..\n/\n\n\nposix\n"
    }
   ],
   "source": [
    "import os\n",
    "\n",
    "print(os.curdir)  # .\n",
    "print(os.pardir)  # ..\n",
    "print(os.sep)  # \\\n",
    "print(os.linesep)\n",
    "print(os.name)  # nt"
   ]
  },
  {
   "cell_type": "code",
   "execution_count": null,
   "metadata": {},
   "outputs": [],
   "source": [
    "os.path.basename(path)去掉目录路径，单独返回文件名\n",
    "os.path.dirname(path)去掉文件名，单独返回目录路径\n",
    "os.path.join(path1[, path2[, ...]])将 path1，path2 各部分组合成一个路径名\n",
    "os.path.split(path)分割文件名与路径，返回(f_path,f_name)元组。如果完全使用目录，它会将最后一个目录作为文件名分离，且不会判断文件或者目录是否存在。\n",
    "os.path.splitext(path)分离文件名与扩展名，返回(f_path,f_name)元组。"
   ]
  },
  {
   "cell_type": "code",
   "execution_count": null,
   "metadata": {},
   "outputs": [],
   "source": [
    "import os\n",
    "\n",
    "# 返回文件名\n",
    "print(os.path.basename(r'C:\\test\\lsgo.txt'))  # lsgo.txt\n",
    "# 返回目录路径\n",
    "print(os.path.dirname(r'C:\\test\\lsgo.txt'))  # C:\\test\n",
    "# 将目录和文件名合成一个路径\n",
    "print(os.path.join('C:\\\\', 'test', 'lsgo.txt'))  # C:\\test\\lsgo.txt\n",
    "# 分割文件名与路径\n",
    "print(os.path.split(r'C:\\test\\lsgo.txt'))  # ('C:\\\\test', 'lsgo.txt')\n",
    "# 分离文件名与扩展名\n",
    "print(os.path.splitext(r'C:\\test\\lsgo.txt'))  # ('C:\\\\test\\\\lsgo', '.txt')"
   ]
  },
  {
   "cell_type": "code",
   "execution_count": null,
   "metadata": {},
   "outputs": [],
   "source": [
    "os.path.getsize(file)返回指定文件大小，单位是字节。\n",
    "os.path.getatime(file)返回指定文件最近的访问时间\n",
    "os.path.getctime(file)返回指定文件的创建时间\n",
    "os.path.getmtime(file)返回指定文件的最新的修改时间\n",
    "浮点型秒数，可用time模块的gmtime()或localtime()函数换算"
   ]
  },
  {
   "cell_type": "code",
   "execution_count": null,
   "metadata": {},
   "outputs": [],
   "source": [
    "import os\n",
    "import time\n",
    "\n",
    "file = r'.\\lsgo.txt'\n",
    "print(os.path.getsize(file))  # 30\n",
    "print(os.path.getatime(file))  # 1565593737.347196\n",
    "print(os.path.getctime(file))  # 1565593737.347196\n",
    "print(os.path.getmtime(file))  # 1565593797.9298275\n",
    "print(time.gmtime(os.path.getctime(file)))\n",
    "# time.struct_time(tm_year=2019, tm_mon=8, tm_mday=12, tm_hour=7, tm_min=8, tm_sec=57, tm_wday=0, tm_yday=224, tm_isdst=0)\n",
    "print(time.localtime(os.path.getctime(file)))\n",
    "# time.struct_time(tm_year=2019, tm_mon=8, tm_mday=12, tm_hour=15, tm_min=8, tm_sec=57, tm_wday=0, tm_yday=224, tm_isdst=0)"
   ]
  },
  {
   "cell_type": "code",
   "execution_count": null,
   "metadata": {},
   "outputs": [],
   "source": [
    "os.path.exists(path)判断指定路径（目录或文件）是否存在\n",
    "os.path.isabs(path)判断指定路径是否为绝对路径\n",
    "os.path.isdir(path)判断指定路径是否存在且是一个目录\n",
    "os.path.isfile(path)判断指定路径是否存在且是一个文件\n",
    "os.path.islink(path)判断指定路径是否存在且是一个符号链接\n",
    "os.path.ismount(path)判断指定路径是否存在且是一个悬挂点\n",
    "os.path.samefile(path1,path2)判断path1和path2两个路径是否指向同一个文件"
   ]
  },
  {
   "cell_type": "code",
   "execution_count": null,
   "metadata": {},
   "outputs": [],
   "source": [
    "import os\n",
    "\n",
    "print(os.path.ismount('D:\\\\'))  # True\n",
    "print(os.path.ismount('D:\\\\Test'))  # False"
   ]
  },
  {
   "cell_type": "markdown",
   "metadata": {},
   "source": [
    "## 3. 序列化与反序列化\n",
    "Python 的 pickle 模块实现了基本的数据序列和反序列化。\n",
    "\n",
    "* 通过 pickle 模块的序列化操作我们能够将程序中运行的对象信息保存到文件中去，永久存储。\n",
    "* 通过 pickle 模块的反序列化操作，我们能够从文件中创建上一次程序保存的对象。\n",
    "pickle模块中最常用的函数为：\n",
    "\n",
    "pickle.dump(obj, file, \\[,protocol\\]) 将obj对象序列化存入已经打开的file中。\n",
    "\n",
    "* obj：想要序列化的obj对象。\n",
    "* file:文件名称。\n",
    "* protocol：序列化使用的协议。如果该项省略，则默认为0。如果为负值或HIGHEST_PROTOCOL，则使用最高的协议版本。\n",
    "pickle.load(file) 将file中的对象序列化读出。\n",
    "\n",
    "* file：文件名称。"
   ]
  },
  {
   "cell_type": "code",
   "execution_count": 37,
   "metadata": {},
   "outputs": [
    {
     "output_type": "error",
     "ename": "PermissionError",
     "evalue": "[Errno 13] Permission denied: '.\\\\dataFile.pkl'",
     "traceback": [
      "\u001b[0;31m---------------------------------------------------------------------------\u001b[0m",
      "\u001b[0;31mPermissionError\u001b[0m                           Traceback (most recent call last)",
      "\u001b[0;32m<ipython-input-37-85e0029c6284>\u001b[0m in \u001b[0;36m<module>\u001b[0;34m\u001b[0m\n\u001b[1;32m     11\u001b[0m \u001b[0;34m\u001b[0m\u001b[0m\n\u001b[1;32m     12\u001b[0m \u001b[0;31m# 使用dump()将数据序列化到文件中\u001b[0m\u001b[0;34m\u001b[0m\u001b[0;34m\u001b[0m\u001b[0;34m\u001b[0m\u001b[0m\n\u001b[0;32m---> 13\u001b[0;31m \u001b[0mfw\u001b[0m \u001b[0;34m=\u001b[0m \u001b[0mopen\u001b[0m\u001b[0;34m(\u001b[0m\u001b[0;34mr'.\\dataFile.pkl'\u001b[0m\u001b[0;34m,\u001b[0m \u001b[0;34m'wb'\u001b[0m\u001b[0;34m)\u001b[0m\u001b[0;34m\u001b[0m\u001b[0;34m\u001b[0m\u001b[0m\n\u001b[0m\u001b[1;32m     14\u001b[0m \u001b[0;34m\u001b[0m\u001b[0m\n\u001b[1;32m     15\u001b[0m \u001b[0;31m# Pickle the list using the highest protocol available.\u001b[0m\u001b[0;34m\u001b[0m\u001b[0;34m\u001b[0m\u001b[0;34m\u001b[0m\u001b[0m\n",
      "\u001b[0;31mPermissionError\u001b[0m: [Errno 13] Permission denied: '.\\\\dataFile.pkl'"
     ]
    }
   ],
   "source": [
    "import pickle\n",
    "\n",
    "dataList = [[1, 1, 'yes'],\n",
    "            [1, 1, 'yes'],\n",
    "            [1, 0, 'no'],\n",
    "            [0, 1, 'no'],\n",
    "            [0, 1, 'no']]\n",
    "dataDic = {0: [1, 2, 3, 4],\n",
    "           1: ('a', 'b'),\n",
    "           2: {'c': 'yes', 'd': 'no'}}\n",
    "\n",
    "# 使用dump()将数据序列化到文件中\n",
    "fw = open(r'.\\dataFile.pkl', 'wb')\n",
    "\n",
    "# Pickle the list using the highest protocol available.\n",
    "pickle.dump(dataList, fw, -1)\n",
    "\n",
    "# Pickle dictionary using protocol 0.\n",
    "pickle.dump(dataDic, fw)\n",
    "fw.close()\n",
    "\n",
    "# 使用load()将数据从文件中序列化读出\n",
    "fr = open('dataFile.pkl', 'rb')\n",
    "data1 = pickle.load(fr)\n",
    "print(data1)\n",
    "data2 = pickle.load(fr)\n",
    "print(data2)\n",
    "fr.close()\n",
    "\n",
    "# [[1, 1, 'yes'], [1, 1, 'yes'], [1, 0, 'no'], [0, 1, 'no'], [0, 1, 'no']]\n",
    "# {0: [1, 2, 3, 4], 1: ('a', 'b'), 2: {'c': 'yes', 'd': 'no'}}"
   ]
  },
  {
   "cell_type": "code",
   "execution_count": null,
   "metadata": {},
   "outputs": [],
   "source": [
    "参考文献：\n",
    "\n",
    "https://www.runoob.com/python3/python3-tutorial.html\n",
    "https://www.bilibili.com/video/av4050443"
   ]
  },
  {
   "cell_type": "markdown",
   "metadata": {},
   "source": [
    "## 练习题：\n",
    "\n",
    "### 1、打开中文字符的文档时，会出现乱码，Python自带的打开文件是否可以指定文字编码？还是只能用相关函数？"
   ]
  },
  {
   "cell_type": "code",
   "execution_count": null,
   "metadata": {},
   "outputs": [],
   "source": [
    "linux使用’utf-8’编码方式，window使用’GBK’编码方式。平台编码（UTF-8）与window平台（GBK）不一样。\n",
    "可以使用open(encoding=xx)进行转码"
   ]
  },
  {
   "cell_type": "markdown",
   "metadata": {},
   "source": [
    "## 2、编写程序查找最长的单词\n",
    "\n",
    "输入文档: res/test.txt\n",
    "\n",
    "题目说明:\n",
    "```\n",
    "\"\"\"\n",
    "   \n",
    "Input file\n",
    "   test.txt\n",
    "   \n",
    "Output file\n",
    "   ['general-purpose', 'object-oriented']\n",
    "   \n",
    "\"\"\"\n",
    "def longest_word(filename):\n",
    "    # your code here\n",
    "        pass\n",
    "   \n",
    "```\n",
    "\n"
   ]
  },
  {
   "cell_type": "code",
   "execution_count": 1,
   "metadata": {},
   "outputs": [
    {
     "output_type": "execute_result",
     "data": {
      "text/plain": "['小马的程序人生\\n']"
     },
     "metadata": {},
     "execution_count": 1
    }
   ],
   "source": [
    "def longest_word(filename):\n",
    "    f = open(filename, 'r')\n",
    "    max_list = []\n",
    "    count = 0\n",
    "    for each in f:\n",
    "        split_list = each.split(',')\n",
    "        for elem in split_list:\n",
    "            if len(elem) > count:\n",
    "                count = len(elem)\n",
    "                if max_list == []:\n",
    "                    max_list.append(elem)\n",
    "                else:\n",
    "                    max_list = []\n",
    "                    max_list.append(elem)\n",
    "            elif len(elem) == count:\n",
    "                max_list.append(elem)\n",
    "    \n",
    "    f.close()\n",
    "    return max_list\n",
    "\n",
    "longest_word('test.txt')"
   ]
  }
 ]
}