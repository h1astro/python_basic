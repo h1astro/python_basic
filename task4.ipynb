{
 "nbformat": 4,
 "nbformat_minor": 2,
 "metadata": {
  "language_info": {
   "name": "python",
   "codemirror_mode": {
    "name": "ipython",
    "version": 3
   },
   "version": "3.7.3-final"
  },
  "orig_nbformat": 2,
  "file_extension": ".py",
  "mimetype": "text/x-python",
  "name": "python",
  "npconvert_exporter": "python",
  "pygments_lexer": "ipython3",
  "version": 3,
  "kernelspec": {
   "name": "python37364bitanaconda3virtualenvac0e6e3c7f95495d9400d7ce75498235",
   "display_name": "Python 3.7.3 64-bit ('anaconda3': virtualenv)"
  }
 },
 "cells": [
  {
   "cell_type": "markdown",
   "metadata": {},
   "source": [
    "# 列表"
   ]
  },
  {
   "cell_type": "markdown",
   "metadata": {},
   "source": [
    "list\n",
    "* 创建\n",
    "* 浅拷贝 深拷贝\n",
    "* 复制方式\n",
    "* 切片\n",
    "* 索引 index\n",
    "* 添加 append和extend的区别  \n",
    "* 删除 remove，pop\n",
    "* 常用操作符 == + * in not in\n",
    "\n"
   ]
  },
  {
   "cell_type": "markdown",
   "metadata": {},
   "source": [
    "\n",
    "\n",
    "### 简单数据类型\n",
    "\n",
    "* 整型<class 'int'>\n",
    "* 浮点型<class 'float'>\n",
    "* 布尔型<class 'bool'>\n",
    "\n",
    "### 容器数据类型\n",
    "\n",
    "* 列表<class 'list'>\n",
    "* 元组<class 'tuple'>\n",
    "* 字典<class 'dict'>\n",
    "* 集合<class 'set'>\n",
    "* 字符串<class 'str'>\n",
    "\n",
    "### 1. 列表的定义\n",
    "列表是有序集合，没有固定大小，能够保存任意数量任意类型的 Python 对象，语法为 [元素1, 元素2, ..., 元素n]。\n",
    "\n",
    "* 关键点是「中括号 []」和「逗号 ,」\n",
    "* 中括号 把所有元素绑在一起\n",
    "* 逗号 将每个元素一一分开\n",
    "### 2. 列表的创建"
   ]
  },
  {
   "cell_type": "markdown",
   "metadata": {},
   "source": [
    "#### 创建一个普通列表"
   ]
  },
  {
   "cell_type": "code",
   "execution_count": 1,
   "metadata": {},
   "outputs": [
    {
     "output_type": "stream",
     "name": "stdout",
     "text": "['Monday', 'Tuesday', 'Wednesday', 'Thursday', 'Friday'] <class 'list'>\n[2, 3, 4, 5, 6, 7] <class 'list'>\n"
    }
   ],
   "source": [
    "x = ['Monday', 'Tuesday', 'Wednesday', 'Thursday', 'Friday']\n",
    "print(x, type(x))\n",
    "# ['Monday', 'Tuesday', 'Wednesday', 'Thursday', 'Friday'] <class 'list'>\n",
    "\n",
    "x = [2, 3, 4, 5, 6, 7]\n",
    "print(x, type(x))\n",
    "# [2, 3, 4, 5, 6, 7] <class 'list'>"
   ]
  },
  {
   "cell_type": "markdown",
   "metadata": {},
   "source": [
    "利用range()创建列表"
   ]
  },
  {
   "cell_type": "code",
   "execution_count": 4,
   "metadata": {},
   "outputs": [
    {
     "output_type": "stream",
     "name": "stdout",
     "text": "[0, 1, 2, 3, 4, 5, 6, 7, 8, 9] <class 'list'>\n[1, 3, 5, 7, 9] <class 'list'>\n[11, 9, 7, 5, 3] <class 'list'>\n"
    }
   ],
   "source": [
    "x = list(range(10))\n",
    "\n",
    "print(x,type(x))\n",
    "\n",
    "x = list(range(1,11,2))\n",
    "\n",
    "print(x,type(x))\n",
    "\n",
    "x = list(range(11,1,-2))\n",
    "\n",
    "print(x,type(x))\n",
    "\n",
    ""
   ]
  },
  {
   "cell_type": "markdown",
   "metadata": {},
   "source": [
    "### 利用推导式创建列表"
   ]
  },
  {
   "cell_type": "code",
   "execution_count": 10,
   "metadata": {},
   "outputs": [
    {
     "output_type": "stream",
     "name": "stdout",
     "text": "[0, 0, 0, 0, 0] <class 'list'>\n[0, 0, 0, 0, 0] <class 'list'>\n[1, 9, 25, 49, 81] <class 'list'>\n[3, 9, 15, 21, 27, 33, 39, 45, 51, 57, 63, 69, 75, 81, 87, 93, 99] <class 'list'>\n"
    }
   ],
   "source": [
    "x = [0]*5\n",
    "print(x,type(x))\n",
    "\n",
    "x = [0 for i in range(5)]\n",
    "print(x,type(x))\n",
    "\n",
    "x = [i**2 for i in range(1,10,2)]\n",
    "print(x,type(x))\n",
    "\n",
    "x = [i for i in range(100) if (i%2) != 0 and (i%3) == 0]\n",
    "print(x, type(x))\n",
    "\n"
   ]
  },
  {
   "cell_type": "markdown",
   "metadata": {},
   "source": [
    "### 创建一个 4×3的二维数组"
   ]
  },
  {
   "cell_type": "code",
   "execution_count": 25,
   "metadata": {},
   "outputs": [
    {
     "output_type": "stream",
     "name": "stdout",
     "text": "[[1, 2, 3], [4, 5, 6], [7, 8, 9], [0, 0, 0]] <class 'list'>\n[1, 2, 3] <class 'list'>\n[4, 5, 6] <class 'list'>\n[7, 8, 9] <class 'list'>\n[0, 0, 0] <class 'list'>\n[[0], [0, 1], [0, 1, 2], [0, 1, 2, 3]] <class 'list'>\n[[0, 0, 0], [0, 0, 0], [0, 0, 0], [0, 0, 0]] <class 'list'>\n[[1, 0, 0], [0, 0, 0], [0, 0, 0], [0, 0, 0]] <class 'list'>\n"
    }
   ],
   "source": [
    "x = [[1, 2, 3], [4, 5, 6], [7, 8, 9], [0, 0, 0]]\n",
    "print(x, type(x))\n",
    "\n",
    "for i in x:\n",
    "    print(i, type(i))\n",
    "\n",
    "x = [[col for col in range(row+1)] for row in range(4)]\n",
    "print(x, type(x))\n",
    "\n",
    "x = [[0] * 3 for row in range(4)]\n",
    "print(x, type(x))\n",
    "x[0][0] = 1\n",
    "print(x, type(x))\n",
    ""
   ]
  },
  {
   "cell_type": "markdown",
   "metadata": {},
   "source": [
    "注意：\n",
    "\n",
    "由于list的元素可以是任何对象，因此列表中所保存的是对象的指针。即使保存一个简单的\\[1,2,3\\]，也有3个指针和3个整数对象。\n",
    "\n",
    "x = \\[a\\] * 4操作中，只是创建4个指向list的引用，所以一旦a改变，x中4个a也会随之改变。"
   ]
  },
  {
   "cell_type": "code",
   "execution_count": 20,
   "metadata": {},
   "outputs": [
    {
     "output_type": "stream",
     "name": "stdout",
     "text": "[[0, 0, 0], [0, 0, 0], [0, 0, 0], [0, 0, 0]] <class 'list'>\n[[1, 0, 0], [1, 0, 0], [1, 0, 0], [1, 0, 0]] <class 'list'>\n[[0, 0, 0], [0, 0, 0], [0, 0, 0], [0, 0, 0]] <class 'list'>\n[[1, 0, 0], [1, 0, 0], [1, 0, 0], [1, 0, 0]] <class 'list'>\n"
    }
   ],
   "source": [
    "x = [[0] * 3] * 4\n",
    "print(x, type(x))\n",
    "# [[0, 0, 0], [0, 0, 0], [0, 0, 0], [0, 0, 0]] <class 'list'>\n",
    "\n",
    "x[0][0] = 1\n",
    "print(x, type(x))\n",
    "# [[1, 0, 0], [1, 0, 0], [1, 0, 0], [1, 0, 0]] <class 'list'>\n",
    "\n",
    "a = [0] * 3\n",
    "x = [a] * 4\n",
    "print(x, type(x))\n",
    "# [[0, 0, 0], [0, 0, 0], [0, 0, 0], [0, 0, 0]] <class 'list'>\n",
    "\n",
    "x[0][0] = 1\n",
    "print(x, type(x))\n",
    "# [[1, 0, 0], [1, 0, 0], [1, 0, 0], [1, 0, 0]] <class 'list'>"
   ]
  },
  {
   "cell_type": "markdown",
   "metadata": {},
   "source": [
    "### 创建一个混合列表"
   ]
  },
  {
   "cell_type": "code",
   "execution_count": 26,
   "metadata": {},
   "outputs": [
    {
     "output_type": "stream",
     "name": "stdout",
     "text": "[1, 'lsgo', 3.14, [1, 2, 3]] <class 'list'>\n"
    }
   ],
   "source": [
    "mix = [1, 'lsgo', 3.14, [1, 2, 3]]\n",
    "print(mix, type(mix))  \n",
    "# [1, 'lsgo', 3.14, [1, 2, 3]] <class 'list'>"
   ]
  },
  {
   "cell_type": "markdown",
   "metadata": {},
   "source": [
    "### 创建一个空列表"
   ]
  },
  {
   "cell_type": "code",
   "execution_count": 27,
   "metadata": {},
   "outputs": [
    {
     "output_type": "stream",
     "name": "stdout",
     "text": "[] <class 'list'>\n"
    }
   ],
   "source": [
    "empty = []\n",
    "print(empty, type(empty))  # [] <class 'list'>"
   ]
  },
  {
   "cell_type": "markdown",
   "metadata": {},
   "source": [
    "列表不像元组，列表内容可更改 (mutable)，因此附加 (append, extend)、插入 (insert)、删除 (remove, pop) 这些操作都可以用在它身上。\n",
    "\n",
    "## 3. 向列表中添加元素\n",
    "list.append(obj) 在列表末尾添加新的对象，只接受一个参数，参数可以是任何数据类型，被追加的元素在 list 中保持着原结构类型。"
   ]
  },
  {
   "cell_type": "code",
   "execution_count": 28,
   "metadata": {},
   "outputs": [
    {
     "output_type": "stream",
     "name": "stdout",
     "text": "['Monday', 'Tuesday', 'Wednesday', 'Thursday', 'Friday', 'Thursday']\n"
    }
   ],
   "source": [
    "x = ['Monday', 'Tuesday', 'Wednesday', 'Thursday', 'Friday']\n",
    "x.append('Thursday')\n",
    "print(x)  "
   ]
  },
  {
   "cell_type": "markdown",
   "metadata": {},
   "source": [
    "此元素如果是一个 list，那么这个 list 将作为一个整体进行追加，注意**append()和extend()**的区别。"
   ]
  },
  {
   "cell_type": "code",
   "execution_count": 29,
   "metadata": {},
   "outputs": [
    {
     "output_type": "stream",
     "name": "stdout",
     "text": "['Monday', 'Tuesday', 'Wednesday', 'Thursday', 'Friday', ['Thursday', 'Sunday']]\n"
    }
   ],
   "source": [
    "x = ['Monday', 'Tuesday', 'Wednesday', 'Thursday', 'Friday']\n",
    "x.append(['Thursday', 'Sunday'])\n",
    "print(x)  "
   ]
  },
  {
   "cell_type": "markdown",
   "metadata": {},
   "source": [
    "list.extend(seq) 在列表末尾一次性追加另一个序列中的多个值（用新列表扩展原来的列表）"
   ]
  },
  {
   "cell_type": "code",
   "execution_count": null,
   "metadata": {},
   "outputs": [],
   "source": [
    "x = ['Monday', 'Tuesday', 'Wednesday', 'Thursday', 'Friday']\n",
    "x.extend(['Thursday', 'Sunday'])\n",
    "print(x)"
   ]
  },
  {
   "cell_type": "markdown",
   "metadata": {},
   "source": [
    "严格来说 append 是追加，把一个东西整体添加在列表后，而 extend 是扩展，把一个东西里的所有元素添加在列表后。\n",
    "\n",
    "list.insert(index, obj) 在编号 index 位置插入 obj。"
   ]
  },
  {
   "cell_type": "code",
   "execution_count": 30,
   "metadata": {},
   "outputs": [
    {
     "output_type": "stream",
     "name": "stdout",
     "text": "['Monday', 'Tuesday', 'Sunday', 'Wednesday', 'Thursday', 'Friday']\n"
    }
   ],
   "source": [
    "x = ['Monday', 'Tuesday', 'Wednesday', 'Thursday', 'Friday']\n",
    "x.insert(2, 'Sunday')\n",
    "print(x)\n",
    "# ['Monday', 'Tuesday', 'Sunday', 'Wednesday', 'Thursday', 'Friday']"
   ]
  },
  {
   "cell_type": "markdown",
   "metadata": {},
   "source": [
    "### 删除列表中的元素\n",
    "list.remove(obj) 移除列表中某个值的`第一个`匹配项"
   ]
  },
  {
   "cell_type": "code",
   "execution_count": 31,
   "metadata": {},
   "outputs": [
    {
     "output_type": "stream",
     "name": "stdout",
     "text": "['Tuesday', 'Wednesday', 'Thursday', 'Friday']\n"
    }
   ],
   "source": [
    "x = ['Monday', 'Tuesday', 'Wednesday', 'Thursday', 'Friday']\n",
    "x.remove('Monday')\n",
    "print(x)  # ['Tuesday', 'Wednesday', 'Thursday', 'Friday']"
   ]
  },
  {
   "cell_type": "markdown",
   "metadata": {},
   "source": [
    "* list.pop(\\[index=-1\\]) 移除列表中的一个元素（默认`最后一个元素`），并且返回该元素的值"
   ]
  },
  {
   "cell_type": "code",
   "execution_count": 32,
   "metadata": {},
   "outputs": [
    {
     "output_type": "stream",
     "name": "stdout",
     "text": "Friday\nMonday\nWednesday\n['Tuesday', 'Thursday']\n"
    }
   ],
   "source": [
    "x = ['Monday', 'Tuesday', 'Wednesday', 'Thursday', 'Friday']\n",
    "y = x.pop()\n",
    "print(y)  # Friday\n",
    "\n",
    "y = x.pop(0)\n",
    "print(y)  # Monday\n",
    "\n",
    "y = x.pop(-2)\n",
    "print(y)  # Wednesday\n",
    "print(x)  # ['Tuesday', 'Thursday']"
   ]
  },
  {
   "cell_type": "markdown",
   "metadata": {},
   "source": [
    "remove 和 pop 都可以删除元素，前者是指定具体要删除的元素，后者是指定一个索引。\n",
    "\n",
    "del var1\\[, var2 ……\\] 删除单个或多个对象。\n",
    "\n",
    "如果知道要删除的元素在列表中的位置，可使用`del`语句。"
   ]
  },
  {
   "cell_type": "code",
   "execution_count": 33,
   "metadata": {},
   "outputs": [
    {
     "output_type": "stream",
     "name": "stdout",
     "text": "['Wednesday', 'Thursday', 'Friday']\n"
    }
   ],
   "source": [
    "x = ['Monday', 'Tuesday', 'Wednesday', 'Thursday', 'Friday']\n",
    "del x[0:2]\n",
    "print(x)  # ['Wednesday', 'Thursday', 'Friday']"
   ]
  },
  {
   "cell_type": "markdown",
   "metadata": {},
   "source": [
    "如果你要从列表中删除一个元素，且不再以任何方式使用它，就使用del语句；如果你要在删除元素后还能继续使用它，就使用方法pop()。\n",
    "## 获取列表中的元素\n",
    "通过元素的索引值，从列表获取单个元素，注意，列表索引值是从0开始的。\n",
    "通过将索引指定为-1，可让Python返回最后一个列表元素，索引 -2 返回倒数第二个列表元素，以此类推。"
   ]
  },
  {
   "cell_type": "code",
   "execution_count": 34,
   "metadata": {},
   "outputs": [
    {
     "output_type": "stream",
     "name": "stdout",
     "text": "Monday <class 'str'>\n['Thursday', 'Friday'] <class 'list'>\nWednesday <class 'str'>\n"
    }
   ],
   "source": [
    "x = ['Monday', 'Tuesday', 'Wednesday', ['Thursday', 'Friday']]\n",
    "print(x[0], type(x[0]))  # Monday <class 'str'>\n",
    "print(x[-1], type(x[-1]))  # ['Thursday', 'Friday'] <class 'list'>\n",
    "print(x[-2], type(x[-2]))  # Wednesday <class 'str'>"
   ]
  },
  {
   "cell_type": "markdown",
   "metadata": {},
   "source": [
    "切片的通用写法是 start : stop : step\n",
    "\n",
    "* 情况 1 - \"start :\"\n",
    "* 以 step 为 1 (默认) 从编号 start 往列表尾部切片。"
   ]
  },
  {
   "cell_type": "code",
   "execution_count": 35,
   "metadata": {},
   "outputs": [
    {
     "output_type": "stream",
     "name": "stdout",
     "text": "['Thursday', 'Friday']\n['Wednesday', 'Thursday', 'Friday']\n"
    }
   ],
   "source": [
    "x = ['Monday', 'Tuesday', 'Wednesday', 'Thursday', 'Friday']\n",
    "print(x[3:])  # ['Thursday', 'Friday']\n",
    "print(x[-3:])  # ['Wednesday', 'Thursday', 'Friday']"
   ]
  },
  {
   "cell_type": "markdown",
   "metadata": {},
   "source": [
    "* 情况 2 - \": stop\"\n",
    "* 以 step 为 1 (默认) 从列表头部往编号 stop 切片。"
   ]
  },
  {
   "cell_type": "code",
   "execution_count": 36,
   "metadata": {},
   "outputs": [
    {
     "output_type": "stream",
     "name": "stdout",
     "text": "['Monday', 'Tuesday', 'Wednesday']\n['Monday', 'Tuesday']\n"
    }
   ],
   "source": [
    "week = ['Monday', 'Tuesday', 'Wednesday', 'Thursday', 'Friday']\n",
    "print(week[:3])  # ['Monday', 'Tuesday', 'Wednesday']\n",
    "print(week[:-3])  # ['Monday', 'Tuesday']"
   ]
  },
  {
   "cell_type": "markdown",
   "metadata": {},
   "source": [
    "* 情况 3 - \"start : stop\"\n",
    "* 以 step 为 1 (默认) 从编号 start 往编号 stop 切片。"
   ]
  },
  {
   "cell_type": "code",
   "execution_count": 37,
   "metadata": {},
   "outputs": [
    {
     "output_type": "stream",
     "name": "stdout",
     "text": "['Tuesday', 'Wednesday']\n['Wednesday', 'Thursday']\n"
    }
   ],
   "source": [
    "week = ['Monday', 'Tuesday', 'Wednesday', 'Thursday', 'Friday']\n",
    "print(week[1:3])  # ['Tuesday', 'Wednesday']\n",
    "print(week[-3:-1])  # ['Wednesday', 'Thursday']"
   ]
  },
  {
   "cell_type": "markdown",
   "metadata": {},
   "source": [
    "* 情况 4 - \"start : stop : step\"\n",
    "* 以具体的 step 从编号 start 往编号 stop 切片。注意最后把 step 设为 -1，相当于将列表反向排列。"
   ]
  },
  {
   "cell_type": "code",
   "execution_count": 38,
   "metadata": {},
   "outputs": [
    {
     "output_type": "stream",
     "name": "stdout",
     "text": "['Tuesday', 'Thursday']\n['Monday', 'Wednesday']\n['Tuesday', 'Thursday']\n['Friday', 'Thursday', 'Wednesday', 'Tuesday', 'Monday']\n"
    }
   ],
   "source": [
    "week = ['Monday', 'Tuesday', 'Wednesday', 'Thursday', 'Friday']\n",
    "print(week[1:4:2])  # ['Tuesday', 'Thursday']\n",
    "print(week[:4:2])  # ['Monday', 'Wednesday']\n",
    "print(week[1::2])  # ['Tuesday', 'Thursday']\n",
    "print(week[::-1])  \n",
    "# ['Friday', 'Thursday', 'Wednesday', 'Tuesday', 'Monday']"
   ]
  },
  {
   "cell_type": "markdown",
   "metadata": {},
   "source": [
    "* 情况 5 - \" : \"\n",
    "* 复制列表中的所有元素（浅拷贝）。"
   ]
  },
  {
   "cell_type": "code",
   "execution_count": 39,
   "metadata": {},
   "outputs": [
    {
     "output_type": "stream",
     "name": "stdout",
     "text": "['Monday', 'Tuesday', 'Wednesday', 'Thursday', 'Friday']\n"
    }
   ],
   "source": [
    "week = ['Monday', 'Tuesday', 'Wednesday', 'Thursday', 'Friday']\n",
    "print(week[:])  \n",
    "# ['Monday', 'Tuesday', 'Wednesday', 'Thursday', 'Friday']"
   ]
  },
  {
   "cell_type": "markdown",
   "metadata": {},
   "source": [
    "\n",
    "【例子】`浅拷贝与深拷贝`"
   ]
  },
  {
   "cell_type": "code",
   "execution_count": 42,
   "metadata": {},
   "outputs": [
    {
     "output_type": "stream",
     "name": "stdout",
     "text": "[123, 456, 789, 213]\n[123, 456, 789, 213]\n[123, 213, 456, 789]\n[123, 456, 789, 213]\n[[123, 456], [789, 213]]\n[[123, 456], [789, 213]]\n[[111, 456], [789, 213]]\n[[111, 456], [789, 213]]\n"
    }
   ],
   "source": [
    "\n",
    "\n",
    "list1 = [123, 456, 789, 213]\n",
    "list2 = list1\n",
    "list3 = list1[:]\n",
    "\n",
    "print(list2)  # [123, 456, 789, 213]\n",
    "print(list3)  # [123, 456, 789, 213]\n",
    "list1.sort()\n",
    "print(list2)  # [123, 213, 456, 789] 变了\n",
    "print(list3)  # [123, 456, 789, 213] 不变\n",
    "\n",
    "list1 = [[123, 456], [789, 213]]\n",
    "list2 = list1\n",
    "list3 = list1[:]\n",
    "print(list2)  # [[123, 456], [789, 213]]\n",
    "print(list3)  # [[123, 456], [789, 213]]\n",
    "list1[0][0] = 111\n",
    "print(list2)  # [[111, 456], [789, 213]] \n",
    "print(list3)  # [[111, 456], [789, 213]] 浅拷贝，但拷贝里面的list是深拷贝"
   ]
  },
  {
   "cell_type": "markdown",
   "metadata": {},
   "source": [
    "## 列表的常用操作符\n",
    "* 等号操作符：==\n",
    "* 连接操作符 +\n",
    "* 重复操作符 *\n",
    "* 成员关系操作符 in、not in\n",
    "* 「等号 ==」，只有成员、成员位置都相同时才返回True。\n",
    "\n",
    "列表拼接有两种方式，用「加号 +」和「乘号 *」，前者首尾拼接，后者复制拼接。"
   ]
  },
  {
   "cell_type": "code",
   "execution_count": 44,
   "metadata": {},
   "outputs": [
    {
     "output_type": "stream",
     "name": "stdout",
     "text": "False\nTrue\n[123, 456, 456, 123]\n[123, 456, 123, 456, 123, 456]\n[123, 456, 123, 456, 123, 456]\nTrue\nFalse\n"
    }
   ],
   "source": [
    "list1 = [123, 456]\n",
    "list2 = [456, 123]\n",
    "list3 = [123, 456]\n",
    "\n",
    "print(list1 == list2)  # False\n",
    "print(list1 == list3)  # True\n",
    "\n",
    "list4 = list1 + list2  # extend()\n",
    "print(list4)  # [123, 456, 456, 123]\n",
    "\n",
    "list5 = list3 * 3\n",
    "print(list5)  # [123, 456, 123, 456, 123, 456]\n",
    "\n",
    "list3 *= 3\n",
    "print(list3)  # [123, 456, 123, 456, 123, 456]\n",
    "\n",
    "print(123 in list3)  # True\n",
    "print(456 not in list3)  # False"
   ]
  },
  {
   "cell_type": "markdown",
   "metadata": {},
   "source": [
    "前面三种方法（append, extend, insert）可对列表增加元素，它们没有返回值，是直接修改了原数据对象。 而将两个list相加，需要创建新的 list 对象，从而需要消耗额外的内存，特别是当 list 较大时，尽量不要使用 “+” 来添加list。\n",
    "\n",
    "## 列表的其它方法\n",
    "`list.count(obj)` 统计某个元素在列表中出现的次数"
   ]
  },
  {
   "cell_type": "code",
   "execution_count": 45,
   "metadata": {},
   "outputs": [
    {
     "output_type": "stream",
     "name": "stdout",
     "text": "[123, 456, 123, 456, 123, 456]\n3\n"
    }
   ],
   "source": [
    "list1 = [123, 456] * 3\n",
    "print(list1)  # [123, 456, 123, 456, 123, 456]\n",
    "num = list1.count(123)\n",
    "print(num)  # 3"
   ]
  },
  {
   "cell_type": "markdown",
   "metadata": {},
   "source": [
    "`list.index(x[, start[, end]])` 从列表中找出某个值第一个匹配项的索引位置"
   ]
  },
  {
   "cell_type": "code",
   "execution_count": 47,
   "metadata": {},
   "outputs": [
    {
     "output_type": "stream",
     "name": "stdout",
     "text": "[123, 456, 123, 456, 123, 456, 123, 456, 123, 456]\n0\n2\n4\n"
    }
   ],
   "source": [
    "list1 = [123, 456] * 5\n",
    "print(list1)\n",
    "print(list1.index(123))  # 0\n",
    "print(list1.index(123, 1))  # 2\n",
    "print(list1.index(123, 3, 7))  # 4"
   ]
  },
  {
   "cell_type": "markdown",
   "metadata": {},
   "source": [
    "`list.reverse()` 反向列表中元素"
   ]
  },
  {
   "cell_type": "code",
   "execution_count": 48,
   "metadata": {},
   "outputs": [
    {
     "output_type": "stream",
     "name": "stdout",
     "text": "[789, 456, 123]\n"
    }
   ],
   "source": [
    "x = [123, 456, 789]\n",
    "x.reverse()\n",
    "print(x)  # [789, 456, 123]"
   ]
  },
  {
   "cell_type": "markdown",
   "metadata": {},
   "source": [
    "list.sort(key=None, reverse=False) 对原列表进行排序。\n",
    "\n",
    "* key -- 主要是用来进行比较的元素，只有一个参数，具体的函数的参数就是取自于可迭代对象中，指定可迭代对象中的一个元素来进行排序。\n",
    "* reverse -- 排序规则，reverse = True 降序， reverse = False 升序（默认）。\n",
    "* 该方法没有返回值，但是会对列表的对象进行排序。"
   ]
  },
  {
   "cell_type": "code",
   "execution_count": 49,
   "metadata": {},
   "outputs": [
    {
     "output_type": "stream",
     "name": "stdout",
     "text": "[123, 213, 456, 789]\n[789, 456, 213, 123]\n[(4, 1), (2, 2), (1, 3), (3, 4)]\n[(1, 3), (2, 2), (3, 4), (4, 1)]\n"
    }
   ],
   "source": [
    "x = [123, 456, 789, 213]\n",
    "x.sort()\n",
    "print(x)\n",
    "# [123, 213, 456, 789]\n",
    "\n",
    "x.sort(reverse=True)\n",
    "print(x)\n",
    "# [789, 456, 213, 123]\n",
    "\n",
    "\n",
    "# 获取列表的第二个元素\n",
    "def takeSecond(elem):\n",
    "    return elem[1]\n",
    "\n",
    "\n",
    "x = [(2, 2), (3, 4), (4, 1), (1, 3)]\n",
    "x.sort(key=takeSecond)\n",
    "print(x)\n",
    "# [(4, 1), (2, 2), (1, 3), (3, 4)]\n",
    "\n",
    "x.sort(key=lambda a: a[0])\n",
    "print(x)\n",
    "# [(1, 3), (2, 2), (3, 4), (4, 1)]"
   ]
  },
  {
   "cell_type": "markdown",
   "metadata": {},
   "source": [
    "# 练习题："
   ]
  },
  {
   "cell_type": "code",
   "execution_count": null,
   "metadata": {},
   "outputs": [],
   "source": [
    "1、列表操作练习\n",
    "\n",
    "列表lst 内容如下\n",
    "\n",
    "lst = [2, 5, 6, 7, 8, 9, 2, 9, 9]\n",
    "\n",
    "请写程序完成下列操作：\n",
    "\n",
    "1.在列表的末尾增加元素15\n",
    "2.在列表的中间位置插入元素20\n",
    "3.将列表[2, 5, 6]合并到lst中\n",
    "4.移除列表中索引为3的元素\n",
    "5.翻转列表里的所有元素\n",
    "6.对列表里的元素进行排序，从小到大一次，从大到小一次"
   ]
  },
  {
   "cell_type": "code",
   "execution_count": 59,
   "metadata": {},
   "outputs": [
    {
     "output_type": "stream",
     "name": "stdout",
     "text": "[2, 5, 6, 7, 8, 20, 9, 2, 9, 9, 15]\n[2, 5, 6, 8, 20, 9, 2, 9, 9, 15, 2, 5, 6]\n[6, 5, 2, 15, 9, 9, 2, 9, 20, 8, 6, 5, 2]\n[2, 2, 2, 5, 5, 6, 6, 8, 9, 9, 9, 15, 20]\n从大到小 [20, 15, 9, 9, 9, 8, 6, 6, 5, 5, 2, 2, 2]\n"
    }
   ],
   "source": [
    "lst = [2, 5, 6, 7, 8, 9, 2, 9, 9]\n",
    "lst.append(15)\n",
    "lst.insert(int(len(lst)/2),20)\n",
    "print(lst)\n",
    "lst.extend([2, 5, 6])\n",
    "lst.pop(3)\n",
    "print(lst)\n",
    "print(lst[::-1])\n",
    "lst.sort()\n",
    "print(lst)\n",
    "lst.sort(reverse=True)\n",
    "print(\"从大到小\",lst)\n",
    "\n",
    ""
   ]
  },
  {
   "cell_type": "code",
   "execution_count": null,
   "metadata": {},
   "outputs": [],
   "source": [
    "2、修改列表\n",
    "\n",
    "问题描述：\n",
    "\n",
    "lst = [1, [4, 6], True]\n",
    "\n",
    "请将列表里所有数字修改成原来的两倍\n"
   ]
  },
  {
   "cell_type": "code",
   "execution_count": 64,
   "metadata": {},
   "outputs": [
    {
     "output_type": "stream",
     "name": "stdout",
     "text": "[2, [8, 12], True]\n"
    }
   ],
   "source": [
    "lst = [1, [4, 6], True]\n",
    "\n",
    "def double_value(lst):\n",
    "    for idx,value in enumerate(lst):\n",
    "        if isinstance(value,bool):\n",
    "            continue\n",
    "        if isinstance(value,(int,float)):\n",
    "            lst[idx]*=2\n",
    "        if isinstance(value,list):\n",
    "            double_value(lst[idx]) #value\n",
    "double_value(lst)\n",
    "print(lst)\n"
   ]
  },
  {
   "cell_type": "code",
   "execution_count": null,
   "metadata": {},
   "outputs": [],
   "source": [
    "3、leetcode 852题 山脉数组的峰顶索引\n",
    "\n",
    "如果一个数组k符合下面两个属性，则称之为山脉数组\n",
    "\n",
    "数组的长度大于等于3\n",
    "\n",
    "存在i，i >0 且i<len(k)−1， 使得\n",
    "k[0]<k[1]<…<k[i−1]<k[j]>k[i+1]…>k[len(k)−1]\n",
    "这个i就是顶峰索引。\n",
    "\n",
    "现在，给定一个山脉数组，求顶峰索引。\n",
    "\n",
    "示例:\n",
    "\n",
    "输入：[1, 3, 4, 5, 3]\n",
    "\n",
    "输出：True\n",
    "\n",
    "输入：[1, 2, 4, 6, 4, 5]\n",
    "\n",
    "输出：False\n",
    "\n",
    "class Solution:\n",
    "    def peakIndexInMountainArray(self, A: List[int]) -> int:\n",
    "       \n",
    "    # your code here"
   ]
  },
  {
   "cell_type": "code",
   "execution_count": 74,
   "metadata": {},
   "outputs": [
    {
     "output_type": "stream",
     "name": "stdout",
     "text": "True\n"
    }
   ],
   "source": [
    "def peakIndexInMountainArray(A): \n",
    "    # for i in range(len(A)):\n",
    "    #     if A[i] > A[i+1]:\n",
    "    #         return i\n",
    "    flag=0\n",
    "    for i in range(1,len(A)-1):\n",
    "        b1=A[:i]\n",
    "        b1.sort()\n",
    "        if(b1!=A[:i]):\n",
    "            continue\n",
    "        c1=A[i+1:]\n",
    "        c1.sort(reverse=True)\n",
    "        if(c1!=A[i+1:]):\n",
    "            continue\n",
    "        flag=1      \n",
    "        break\n",
    "    if flag==1:\n",
    "        print(\"True\")\n",
    "    else:\n",
    "        print(\"False\")\n",
    "\n",
    "lst=[1, 2, 4, 6, 4, 5]\n",
    "peakIndexInMountainArray(lst)"
   ]
  },
  {
   "cell_type": "markdown",
   "metadata": {},
   "source": [
    "# 元组\n",
    "「元组」定义语法为：(元素1, 元素2, ..., 元素n)\n",
    "\n",
    "小括号把所有元素绑在一起\n",
    "逗号将每个元素一一分开\n",
    "## 1.创建和访问一个元组\n",
    "* Python 的元组与列表类似，不同之处在于tuple被创建后就不能对其进行修改，类似字符串。\n",
    "* 元组使用小括号，列表使用方括号。\n",
    "* 元组与列表类似，也用整数来对它进行索引 (indexing) 和切片 (slicing)。"
   ]
  },
  {
   "cell_type": "code",
   "execution_count": 75,
   "metadata": {},
   "outputs": [
    {
     "output_type": "stream",
     "name": "stdout",
     "text": "(1, 10.31, 'python') <class 'tuple'>\n(1, 10.31, 'python') <class 'tuple'>\n2\n(6, 7, 8)\n(1, 2, 3, 4, 5)\n(1, 2, 3, 4, 5, 6, 7, 8)\n"
    }
   ],
   "source": [
    "t1 = (1, 10.31, 'python')\n",
    "t2 = 1, 10.31, 'python'\n",
    "print(t1, type(t1))\n",
    "# (1, 10.31, 'python') <class 'tuple'>\n",
    "\n",
    "print(t2, type(t2))\n",
    "# (1, 10.31, 'python') <class 'tuple'>\n",
    "\n",
    "tuple1 = (1, 2, 3, 4, 5, 6, 7, 8)\n",
    "print(tuple1[1])  # 2\n",
    "print(tuple1[5:])  # (6, 7, 8)\n",
    "print(tuple1[:5])  # (1, 2, 3, 4, 5)\n",
    "tuple2 = tuple1[:]\n",
    "print(tuple2)  # (1, 2, 3, 4, 5, 6, 7, 8)"
   ]
  },
  {
   "cell_type": "markdown",
   "metadata": {},
   "source": [
    "* 创建元组可以用小括号 ()，也可以什么都不用，为了可读性，建议还是用 ()。\n",
    "* 元组中只包含一个元素时，需要在元素后面添加逗号，否则括号会被当作运算符使用。"
   ]
  },
  {
   "cell_type": "code",
   "execution_count": 76,
   "metadata": {},
   "outputs": [
    {
     "output_type": "stream",
     "name": "stdout",
     "text": "<class 'int'>\n<class 'tuple'>\n<class 'list'>\n<class 'tuple'>\n<class 'tuple'>\n"
    }
   ],
   "source": [
    "x = (1)\n",
    "print(type(x))  # <class 'int'>\n",
    "x = 2, 3, 4, 5\n",
    "print(type(x))  # <class 'tuple'>\n",
    "x = []\n",
    "print(type(x))  # <class 'list'>\n",
    "x = ()\n",
    "print(type(x))  # <class 'tuple'>\n",
    "x = (1,)\n",
    "print(type(x))  # <class 'tuple'>"
   ]
  },
  {
   "cell_type": "code",
   "execution_count": 77,
   "metadata": {},
   "outputs": [
    {
     "output_type": "stream",
     "name": "stdout",
     "text": "64\n(8, 8, 8, 8, 8, 8, 8, 8)\n((1, 10.31, 'python'), ('data', 11))\n(1, 10.31, 'python')\n1 10.31 python\n(1, 10.31)\n"
    }
   ],
   "source": [
    "print(8 * (8))  # 64\n",
    "print(8 * (8,))  # (8, 8, 8, 8, 8, 8, 8, 8)\n",
    "\n",
    "x = (1, 10.31, 'python'), ('data', 11)\n",
    "print(x)\n",
    "# ((1, 10.31, 'python'), ('data', 11))\n",
    "\n",
    "print(x[0])\n",
    "# (1, 10.31, 'python')\n",
    "print(x[0][0], x[0][1], x[0][2])\n",
    "# 1 10.31 python\n",
    "\n",
    "print(x[0][0:2])\n",
    "# (1, 10.31)"
   ]
  },
  {
   "cell_type": "markdown",
   "metadata": {},
   "source": [
    "## 2.更新和删除一个元组"
   ]
  },
  {
   "cell_type": "code",
   "execution_count": 78,
   "metadata": {},
   "outputs": [
    {
     "output_type": "stream",
     "name": "stdout",
     "text": "('Monday', 'Tuesday', 'Wednesday', 'Thursday', 'Friday')\n"
    }
   ],
   "source": [
    "week = ('Monday', 'Tuesday', 'Thursday', 'Friday')\n",
    "week = week[:2] + ('Wednesday',) + week[2:]\n",
    "print(week)  # ('Monday', 'Tuesday', 'Wednesday', 'Thursday', 'Friday')"
   ]
  },
  {
   "cell_type": "code",
   "execution_count": null,
   "metadata": {},
   "outputs": [],
   "source": [
    "元组有不可更改 (immutable) 的性质，因此不能直接给元组的元素赋值，但是只要元组中的元素可更改 (mutable)，那么我们可以直接更改其元素，注意这跟赋值其元素不同。"
   ]
  },
  {
   "cell_type": "code",
   "execution_count": 79,
   "metadata": {},
   "outputs": [
    {
     "output_type": "stream",
     "name": "stdout",
     "text": "(1, 2, 3, [4, 5, 6])\n(1, 2, 3, [9, 5, 6])\n"
    }
   ],
   "source": [
    "t1 = (1, 2, 3, [4, 5, 6])\n",
    "print(t1)  # (1, 2, 3, [4, 5, 6])\n",
    "\n",
    "t1[3][0] = 9\n",
    "print(t1)  # (1, 2, 3, [9, 5, 6])"
   ]
  },
  {
   "cell_type": "markdown",
   "metadata": {},
   "source": [
    "## 3.元组相关的操作符"
   ]
  },
  {
   "cell_type": "code",
   "execution_count": null,
   "metadata": {},
   "outputs": [],
   "source": [
    "等号操作符：==\n",
    "连接操作符 +\n",
    "重复操作符 *\n",
    "成员关系操作符 in、not in\n",
    "「等号 ==」，只有成员、成员位置都相同时才返回True。\n",
    "\n",
    "元组拼接有两种方式，用「加号 +」和「乘号 *」，前者首尾拼接，后者复制拼接。"
   ]
  },
  {
   "cell_type": "code",
   "execution_count": 80,
   "metadata": {},
   "outputs": [
    {
     "output_type": "stream",
     "name": "stdout",
     "text": "False\nTrue\n(123, 456, 456, 123)\n(123, 456, 123, 456, 123, 456)\n(123, 456, 123, 456, 123, 456)\nTrue\nFalse\n"
    }
   ],
   "source": [
    "t1 = (123, 456)\n",
    "t2 = (456, 123)\n",
    "t3 = (123, 456)\n",
    "\n",
    "print(t1 == t2)  # False\n",
    "print(t1 == t3)  # True\n",
    "\n",
    "t4 = t1 + t2\n",
    "print(t4)  # (123, 456, 456, 123)\n",
    "\n",
    "t5 = t3 * 3\n",
    "print(t5)  # (123, 456, 123, 456, 123, 456)\n",
    "\n",
    "t3 *= 3\n",
    "print(t3)  # (123, 456, 123, 456, 123, 456)\n",
    "\n",
    "print(123 in t3)  # True\n",
    "print(456 not in t3)  # False"
   ]
  },
  {
   "cell_type": "markdown",
   "metadata": {},
   "source": [
    "## 4.内置方法\n",
    "元组大小和内容都不可更改，因此只有 count 和 index 两种方法。"
   ]
  },
  {
   "cell_type": "code",
   "execution_count": 82,
   "metadata": {},
   "outputs": [
    {
     "output_type": "stream",
     "name": "stdout",
     "text": "2\n1\n"
    }
   ],
   "source": [
    "t = (1, 10.31, 'python','python')\n",
    "print(t.count('python'))  # 2\n",
    "print(t.index(10.31))  # 1"
   ]
  },
  {
   "cell_type": "markdown",
   "metadata": {},
   "source": [
    "* count('python') 是记录在元组 t 中该元素出现几次，显然是 2 次\n",
    "* index(10.31) 是找到该元素在元组 t 的索引，显然是 1"
   ]
  },
  {
   "cell_type": "markdown",
   "metadata": {},
   "source": [
    "## 5.解压元组\n",
    "【例子】解压（unpack）一维元组（有几个元素左边括号定义几个变量）"
   ]
  },
  {
   "cell_type": "code",
   "execution_count": 83,
   "metadata": {},
   "outputs": [
    {
     "output_type": "stream",
     "name": "stdout",
     "text": "1 10.31 python\n"
    }
   ],
   "source": [
    "t = (1, 10.31, 'python')\n",
    "(a, b, c) = t\n",
    "print(a, b, c)\n",
    "# 1 10.31 python"
   ]
  },
  {
   "cell_type": "code",
   "execution_count": null,
   "metadata": {},
   "outputs": [],
   "source": [
    "解压二维元组（按照元组里的元组结构来定义变量）\n",
    "\n"
   ]
  },
  {
   "cell_type": "code",
   "execution_count": 84,
   "metadata": {},
   "outputs": [
    {
     "output_type": "stream",
     "name": "stdout",
     "text": "1 10.31 OK python\n"
    }
   ],
   "source": [
    "t = (1, 10.31, ('OK', 'python'))\n",
    "(a, b, (c, d)) = t\n",
    "print(a, b, c, d)\n",
    "# 1 10.31 OK python"
   ]
  },
  {
   "cell_type": "code",
   "execution_count": null,
   "metadata": {},
   "outputs": [],
   "source": [
    "如果你只想要元组其中几个元素，用通配符「*」，英文叫 wildcard，在计算机语言中代表一个或多个元素。下例就是把多个元素丢给了 rest 变量。"
   ]
  },
  {
   "cell_type": "code",
   "execution_count": 85,
   "metadata": {},
   "outputs": [
    {
     "output_type": "stream",
     "name": "stdout",
     "text": "1 2 5\n[3, 4]\n"
    }
   ],
   "source": [
    "t = 1, 2, 3, 4, 5\n",
    "a, b, *rest, c = t\n",
    "print(a, b, c)  # 1 2 5\n",
    "print(rest)  # [3, 4]"
   ]
  },
  {
   "cell_type": "code",
   "execution_count": null,
   "metadata": {},
   "outputs": [],
   "source": [
    "如果你根本不在乎 rest 变量，那么就用通配符「*」加上下划线「_」。"
   ]
  },
  {
   "cell_type": "code",
   "execution_count": 86,
   "metadata": {},
   "outputs": [
    {
     "output_type": "stream",
     "name": "stdout",
     "text": "1 2\n"
    }
   ],
   "source": [
    "t = 1, 2, 3, 4, 5\n",
    "a, b, *_ = t\n",
    "print(a, b)  # 1 2"
   ]
  },
  {
   "cell_type": "markdown",
   "metadata": {},
   "source": [
    "# 练习"
   ]
  },
  {
   "cell_type": "code",
   "execution_count": null,
   "metadata": {},
   "outputs": [],
   "source": [
    "1、元组概念\n",
    "\n",
    "写出下面代码的执行结果和最终结果的类型\n",
    "\n",
    "(1, 2)*2\n",
    "(1, )*2\n",
    "(1)*2\n",
    "\n",
    "分析为什么会出现这样的结果."
   ]
  },
  {
   "cell_type": "code",
   "execution_count": null,
   "metadata": {},
   "outputs": [],
   "source": [
    "(1, 2)*2 -> (1,2,1,2)\n",
    "(1, )*2 ->  (1,1)  #  # 错误(1, ,1, )\n",
    "(1)*2 ->    (1)  #元组中只包含一个元素时，需要在元素后面添加逗号，否则括号会被当作运算符使用。 #错误 (1,1)"
   ]
  },
  {
   "cell_type": "code",
   "execution_count": 91,
   "metadata": {},
   "outputs": [],
   "source": [
    "2、拆包过程是什么？\n",
    "a, b = 1, 2\n",
    "\n",
    "上述过程属于拆包吗？\n",
    "\n",
    "可迭代对象拆包时，怎么赋值给占位符？"
   ]
  },
  {
   "cell_type": "code",
   "execution_count": null,
   "metadata": {},
   "outputs": [],
   "source": [
    "属于拆包， 1，2 会默认转化为tuple元组(1,2)\n",
    "有几个元素左边括号定义几个变量\n"
   ]
  },
  {
   "cell_type": "markdown",
   "metadata": {},
   "source": [
    "# 字符串"
   ]
  },
  {
   "cell_type": "markdown",
   "metadata": {},
   "source": [
    "## 1.字符串的定义\n",
    "* Python 中字符串被定义为引号之间的字符集合。\n",
    "* Python 支持使用成对的 单引号 或 双引号。"
   ]
  },
  {
   "cell_type": "code",
   "execution_count": 92,
   "metadata": {},
   "outputs": [
    {
     "output_type": "stream",
     "name": "stdout",
     "text": "i love Python! <class 'str'>\nI love Python! <class 'str'>\n13\n58\n"
    }
   ],
   "source": [
    "t1 = 'i love Python!'\n",
    "print(t1, type(t1))\n",
    "# i love Python! <class 'str'>\n",
    "\n",
    "t2 = \"I love Python!\"\n",
    "print(t2, type(t2))\n",
    "# I love Python! <class 'str'>\n",
    "\n",
    "print(5 + 8)  # 13\n",
    "print('5' + '8')  # 58"
   ]
  },
  {
   "cell_type": "code",
   "execution_count": null,
   "metadata": {},
   "outputs": [],
   "source": [
    "Python 的常用转义字符\n",
    "转义字符\t描述\n",
    "\\\\\t反斜杠符号\n",
    "\\'\t单引号\n",
    "\\\"\t双引号\n",
    "\\n\t换行\n",
    "\\t\t横向制表符(TAB)\n",
    "\\r\t回车"
   ]
  },
  {
   "cell_type": "markdown",
   "metadata": {},
   "source": [
    "如果字符串中需要出现单引号或双引号，可以使用转义符号`\\`对字符串中的符号进行转义。"
   ]
  },
  {
   "cell_type": "code",
   "execution_count": 93,
   "metadata": {},
   "outputs": [
    {
     "output_type": "stream",
     "name": "stdout",
     "text": "let's go\nlet's go\nC:\\now\nC:\\Program Files\\Intel\\Wifi\\Help\n"
    }
   ],
   "source": [
    "print('let\\'s go')  # let's go\n",
    "print(\"let's go\")  # let's go\n",
    "print('C:\\\\now')  # C:\\now\n",
    "print(\"C:\\\\Program Files\\\\Intel\\\\Wifi\\\\Help\")\n",
    "# C:\\Program Files\\Intel\\Wifi\\Help"
   ]
  },
  {
   "cell_type": "code",
   "execution_count": null,
   "metadata": {},
   "outputs": [],
   "source": [
    "原始字符串只需要在字符串前边加一个英文字母 r 即可。"
   ]
  },
  {
   "cell_type": "code",
   "execution_count": 94,
   "metadata": {},
   "outputs": [
    {
     "output_type": "stream",
     "name": "stdout",
     "text": "C:\\Program Files\\Intel\\Wifi\\Help\n"
    }
   ],
   "source": [
    "print(r'C:\\Program Files\\Intel\\Wifi\\Help')  \n",
    "# C:\\Program Files\\Intel\\Wifi\\Help"
   ]
  },
  {
   "cell_type": "code",
   "execution_count": null,
   "metadata": {},
   "outputs": [],
   "source": [
    "三引号允许一个字符串跨多行，字符串中可以包含换行符、制表符以及其他特殊字符。"
   ]
  },
  {
   "cell_type": "code",
   "execution_count": 95,
   "metadata": {},
   "outputs": [
    {
     "output_type": "stream",
     "name": "stdout",
     "text": "这是一个多行字符串的实例\n多行字符串可以使用制表符\nTAB ( \t )。\n也可以使用换行符 [ \n ]。\n\n这是一个多行字符串的实例\n多行字符串可以使用制表符\nTAB ( \t )。\n也可以使用换行符 [ \n ]。\n\n"
    }
   ],
   "source": [
    "para_str = \"\"\"这是一个多行字符串的实例\n",
    "多行字符串可以使用制表符\n",
    "TAB ( \\t )。\n",
    "也可以使用换行符 [ \\n ]。\n",
    "\"\"\"\n",
    "print(para_str)\n",
    "# 这是一个多行字符串的实例\n",
    "# 多行字符串可以使用制表符\n",
    "# TAB (    )。\n",
    "# 也可以使用换行符 [\n",
    "#  ]。\n",
    "\n",
    "para_str = '''这是一个多行字符串的实例\n",
    "多行字符串可以使用制表符\n",
    "TAB ( \\t )。\n",
    "也可以使用换行符 [ \\n ]。\n",
    "'''\n",
    "print(para_str)\n",
    "# 这是一个多行字符串的实例\n",
    "# 多行字符串可以使用制表符\n",
    "# TAB ( \t )。\n",
    "# 也可以使用换行符 [ \n",
    "#  ]。"
   ]
  },
  {
   "cell_type": "markdown",
   "metadata": {},
   "source": [
    "## 2.字符串的切片与拼接\n",
    "* 类似于元组具有不可修改性\n",
    "* 从 0 开始 (和 Java 一样)\n",
    "* 切片通常写成 start:end 这种形式，包括「start 索引」对应的元素，不包括「end索引」对应的元素。\n",
    "* 索引值可正可负，正索引从 0 开始，从左往右；负索引从 -1 开始，从右往左。使用负数索引时，会从最后一个元素开始计数。最后一个元素的位置编号是 -1。"
   ]
  },
  {
   "cell_type": "code",
   "execution_count": 96,
   "metadata": {},
   "outputs": [
    {
     "output_type": "stream",
     "name": "stdout",
     "text": "I Love\ne\nI Love 插入的字符串  LsgoGroup\nPython\nth\nyth\nt\nn\n"
    }
   ],
   "source": [
    "str1 = 'I Love LsgoGroup'\n",
    "print(str1[:6])  # I Love\n",
    "print(str1[5])  # e\n",
    "print(str1[:6] + \" 插入的字符串 \" + str1[6:])  \n",
    "# I Love 插入的字符串  LsgoGroup\n",
    "\n",
    "s = 'Python'\n",
    "print(s)  # Python\n",
    "print(s[2:4])  # th\n",
    "print(s[-5:-2])  # yth\n",
    "print(s[2])  # t\n",
    "print(s[-1])  # n"
   ]
  },
  {
   "cell_type": "markdown",
   "metadata": {},
   "source": [
    "## 3.字符串的常用内置方法\n",
    "capitalize() 将字符串的第一个字符转换为大写。"
   ]
  },
  {
   "cell_type": "code",
   "execution_count": 97,
   "metadata": {},
   "outputs": [
    {
     "output_type": "stream",
     "name": "stdout",
     "text": "Xiaoxie\n"
    }
   ],
   "source": [
    "str2 = 'xiaoxie'\n",
    "print(str2.capitalize())  # Xiaoxie"
   ]
  },
  {
   "cell_type": "markdown",
   "metadata": {},
   "source": [
    "* lower() 转换字符串中所有大写字符为小写。\n",
    "* upper() 转换字符串中的小写字母为大写。\n",
    "* swapcase() 将字符串中大写转换为小写，小写转换为大写。"
   ]
  },
  {
   "cell_type": "code",
   "execution_count": 98,
   "metadata": {},
   "outputs": [
    {
     "output_type": "stream",
     "name": "stdout",
     "text": "daxiexiaoxie\nDAXIEXIAOXIE\ndaxieXIAOXIE\n"
    }
   ],
   "source": [
    "str2 = \"DAXIExiaoxie\"\n",
    "print(str2.lower())  # daxiexiaoxie\n",
    "print(str2.upper())  # DAXIEXIAOXIE\n",
    "print(str2.swapcase())  # daxieXIAOXIE"
   ]
  },
  {
   "cell_type": "markdown",
   "metadata": {},
   "source": [
    "* count(str, beg= 0,end=len(string)) 返回str在 string 里面出现的次数，如果beg或者end指定则返回指定范围内str出现的次数。"
   ]
  },
  {
   "cell_type": "code",
   "execution_count": 99,
   "metadata": {},
   "outputs": [
    {
     "output_type": "stream",
     "name": "stdout",
     "text": "2\n"
    }
   ],
   "source": [
    "str2 = \"DAXIExiaoxie\"\n",
    "print(str2.count('xi'))  # 2"
   ]
  },
  {
   "cell_type": "markdown",
   "metadata": {},
   "source": [
    "* endswith(suffix, beg=0, end=len(string)) 检查字符串是否以指定子字符串 suffix 结束，如果是，返回 True，否则返回 False。如果 beg 和 end 指定值，则在指定范围内检查。\n",
    "* startswith(substr, beg=0,end=len(string)) 检查字符串是否以指定子字符串 substr 开头，如果是，返回 True，否则返回 False。如果 beg 和 end 指定值，则在指定范围内检查。"
   ]
  },
  {
   "cell_type": "code",
   "execution_count": 100,
   "metadata": {},
   "outputs": [
    {
     "output_type": "stream",
     "name": "stdout",
     "text": "True\nFalse\nFalse\nTrue\n"
    }
   ],
   "source": [
    "str2 = \"DAXIExiaoxie\"\n",
    "print(str2.endswith('ie'))  # True\n",
    "print(str2.endswith('xi'))  # False\n",
    "print(str2.startswith('Da'))  # False\n",
    "print(str2.startswith('DA'))  # True"
   ]
  },
  {
   "cell_type": "markdown",
   "metadata": {},
   "source": [
    "* find(str, beg=0, end=len(string)) 检测 str 是否包含在字符串中，如果指定范围 beg 和 end，则检查是否包含在指定范围内，如果包含，返回开始的索引值，否则返回 -1。\n",
    "* rfind(str, beg=0,end=len(string)) 类似于 find() 函数，不过是从右边开始查找。"
   ]
  },
  {
   "cell_type": "code",
   "execution_count": 101,
   "metadata": {},
   "outputs": [
    {
     "output_type": "stream",
     "name": "stdout",
     "text": "5\n-1\n9\n"
    }
   ],
   "source": [
    "str2 = \"DAXIExiaoxie\"\n",
    "print(str2.find('xi'))  # 5\n",
    "print(str2.find('ix'))  # -1\n",
    "print(str2.rfind('xi'))  # 9"
   ]
  },
  {
   "cell_type": "markdown",
   "metadata": {},
   "source": [
    "* isnumeric() 如果字符串中只包含数字字符，则返回 True，否则返回 False。"
   ]
  },
  {
   "cell_type": "code",
   "execution_count": 102,
   "metadata": {},
   "outputs": [
    {
     "output_type": "stream",
     "name": "stdout",
     "text": "True\nFalse\n"
    }
   ],
   "source": [
    "str3 = '12345'\n",
    "print(str3.isnumeric())  # True\n",
    "str3 += 'a'\n",
    "print(str3.isnumeric())  # False"
   ]
  },
  {
   "cell_type": "markdown",
   "metadata": {},
   "source": [
    "* `ljust(width\\[, fillchar\\])`返回一个原字符串左对齐，并使用fillchar（默认空格）填充至长度width的新字符串。\n",
    "* `rjust(width\\[, fillchar\\])`返回一个原字符串右对齐，并使用fillchar（默认空格）填充至长度width的新字符串。"
   ]
  },
  {
   "cell_type": "code",
   "execution_count": 104,
   "metadata": {},
   "outputs": [
    {
     "output_type": "stream",
     "name": "stdout",
     "text": "11010000\n00001101\n"
    }
   ],
   "source": [
    "str4 = '1101'\n",
    "print(str4.ljust(8, '0'))  # 11010000\n",
    "print(str4.rjust(8, '0'))  # 00001101"
   ]
  },
  {
   "cell_type": "markdown",
   "metadata": {},
   "source": [
    "* lstrip([chars]) 截掉字符串左边的空格或指定字符。\n",
    "* rstrip([chars]) 删除字符串末尾的空格或指定字符。\n",
    "* strip([chars]) 在字符串上执行lstrip()和rstrip()。"
   ]
  },
  {
   "cell_type": "code",
   "execution_count": 105,
   "metadata": {},
   "outputs": [
    {
     "output_type": "stream",
     "name": "stdout",
     "text": "I Love LsgoGroup \n Love LsgoGroup \n I Love LsgoGroup\nI Love LsgoGroup\nI Love LsgoGrou\n"
    }
   ],
   "source": [
    "str5 = ' I Love LsgoGroup '\n",
    "print(str5.lstrip())  # 'I Love LsgoGroup '\n",
    "print(str5.lstrip().strip('I'))  # ' Love LsgoGroup '\n",
    "print(str5.rstrip())  # ' I Love LsgoGroup'\n",
    "print(str5.strip())  # 'I Love LsgoGroup'\n",
    "print(str5.strip().strip('p'))  # 'I Love LsgoGrou'"
   ]
  },
  {
   "cell_type": "markdown",
   "metadata": {},
   "source": [
    "* partition(sub) 找到子字符串sub，把字符串分为一个三元组(pre_sub,sub,fol_sub)，如果字符串中不包含sub则返回('原字符串','','')。\n",
    "* rpartition(sub)类似于partition()方法，不过是从右边开始查找"
   ]
  },
  {
   "cell_type": "code",
   "execution_count": 106,
   "metadata": {},
   "outputs": [
    {
     "output_type": "stream",
     "name": "stdout",
     "text": "('I L', 'o', 've LsgoGroup')\n('I Love LsgoGroup', '', '')\n('I Love LsgoGr', 'o', 'up')\n"
    }
   ],
   "source": [
    "str5 = ' I Love LsgoGroup '\n",
    "print(str5.strip().partition('o'))  # ('I L', 'o', 've LsgoGroup')\n",
    "print(str5.strip().partition('m'))  # ('I Love LsgoGroup', '', '')\n",
    "print(str5.strip().rpartition('o'))  # ('I Love LsgoGr', 'o', 'up')"
   ]
  },
  {
   "cell_type": "markdown",
   "metadata": {},
   "source": [
    "* replace(old, new \\[, max\\]) 把 将字符串中的old替换成new，如果max指定，则替换不超过max次。"
   ]
  },
  {
   "cell_type": "code",
   "execution_count": 107,
   "metadata": {},
   "outputs": [
    {
     "output_type": "stream",
     "name": "stdout",
     "text": "We Love LsgoGroup\n"
    }
   ],
   "source": [
    "str5 = ' I Love LsgoGroup '\n",
    "print(str5.strip().replace('I', 'We'))  # We Love LsgoGroup"
   ]
  },
  {
   "cell_type": "code",
   "execution_count": null,
   "metadata": {},
   "outputs": [],
   "source": [
    "split(str=\"\", num) 不带参数默认是以空格为分隔符切片字符串，如果num参数有设置，则仅分隔num个子字符串，返回切片后的子字符串拼接的列表。"
   ]
  },
  {
   "cell_type": "code",
   "execution_count": 108,
   "metadata": {},
   "outputs": [
    {
     "output_type": "stream",
     "name": "stdout",
     "text": "['I', 'Love', 'LsgoGroup']\n['I L', 've Lsg', 'Gr', 'up']\n"
    }
   ],
   "source": [
    "str5 = ' I Love LsgoGroup '\n",
    "print(str5.strip().split())  # ['I', 'Love', 'LsgoGroup']\n",
    "print(str5.strip().split('o'))  # ['I L', 've Lsg', 'Gr', 'up']"
   ]
  },
  {
   "cell_type": "code",
   "execution_count": 109,
   "metadata": {},
   "outputs": [
    {
     "output_type": "stream",
     "name": "stdout",
     "text": "['www.baidu.com.cn']\n['www', 'baidu', 'com', 'cn']\n['www.baidu.com.cn']\n['www', 'baidu.com.cn']\n['www', 'baidu', 'com.cn']\nbaidu\nwww\nbaidu\ncom.cn\n"
    }
   ],
   "source": [
    "u = \"www.baidu.com.cn\"\n",
    "# 使用默认分隔符\n",
    "print(u.split())  # ['www.baidu.com.cn']\n",
    "\n",
    "# 以\".\"为分隔符\n",
    "print((u.split('.')))  # ['www', 'baidu', 'com', 'cn']\n",
    "\n",
    "# 分割0次\n",
    "print((u.split(\".\", 0)))  # ['www.baidu.com.cn']\n",
    "\n",
    "# 分割一次\n",
    "print((u.split(\".\", 1)))  # ['www', 'baidu.com.cn']\n",
    "\n",
    "# 分割两次\n",
    "print(u.split(\".\", 2))  # ['www', 'baidu', 'com.cn']\n",
    "\n",
    "# 分割两次，并取序列为1的项\n",
    "print((u.split(\".\", 2)[1]))  # baidu\n",
    "\n",
    "# 分割两次，并把分割后的三个部分保存到三个变量\n",
    "u1, u2, u3 = u.split(\".\", 2)\n",
    "print(u1)  # www\n",
    "print(u2)  # baidu\n",
    "print(u3)  # com.cn"
   ]
  },
  {
   "cell_type": "code",
   "execution_count": null,
   "metadata": {},
   "outputs": [],
   "source": [
    "去掉换行符"
   ]
  },
  {
   "cell_type": "code",
   "execution_count": 110,
   "metadata": {},
   "outputs": [
    {
     "output_type": "stream",
     "name": "stdout",
     "text": "say\nhello\nbaby\n['say', 'hello', 'baby']\n"
    }
   ],
   "source": [
    "c = '''say\n",
    "hello\n",
    "baby'''\n",
    "\n",
    "print(c)\n",
    "# say\n",
    "# hello\n",
    "# baby\n",
    "\n",
    "print(c.split('\\n'))  # ['say', 'hello', 'baby']"
   ]
  },
  {
   "cell_type": "code",
   "execution_count": 111,
   "metadata": {},
   "outputs": [
    {
     "output_type": "stream",
     "name": "stdout",
     "text": "www.baidu.com\n['www', 'baidu', 'com']\n"
    }
   ],
   "source": [
    "string = \"hello boy<[www.baidu.com]>byebye\"\n",
    "print(string.split('[')[1].split(']')[0])  # www.baidu.com\n",
    "print(string.split('[')[1].split(']')[0].split('.'))  # ['www', 'baidu', 'com']"
   ]
  },
  {
   "cell_type": "markdown",
   "metadata": {},
   "source": [
    "* splitlines([keepends]) 按照行('\\r', '\\r\\n', \\n')分隔，返回一个包含各行作为元素的列表，如果参数keepends为 False，不包含换行符，如果为 True，则保留换行符。"
   ]
  },
  {
   "cell_type": "code",
   "execution_count": 112,
   "metadata": {},
   "outputs": [
    {
     "output_type": "stream",
     "name": "stdout",
     "text": "['I ', ' Love ', ' LsgoGroup']\n['I \\n', ' Love \\n', ' LsgoGroup']\n"
    }
   ],
   "source": [
    "str6 = 'I \\n Love \\n LsgoGroup'\n",
    "print(str6.splitlines())  # ['I ', ' Love ', ' LsgoGroup']\n",
    "print(str6.splitlines(True))  # ['I \\n', ' Love \\n', ' LsgoGroup']"
   ]
  },
  {
   "cell_type": "code",
   "execution_count": null,
   "metadata": {},
   "outputs": [],
   "source": [
    "maketrans(intab, outtab) 创建字符映射的转换表，第一个参数是字符串，表示需要转换的字符，第二个参数也是字符串表示转换的目标。\n",
    "translate(table, deletechars=\"\") 根据参数table给出的表，转换字符串的字符，要过滤掉的字符放到deletechars参数中。"
   ]
  },
  {
   "cell_type": "code",
   "execution_count": 113,
   "metadata": {},
   "outputs": [
    {
     "output_type": "stream",
     "name": "stdout",
     "text": "{97: 49, 101: 50, 105: 51, 111: 52, 117: 53}\nth3s 3s str3ng 2x1mpl2....w4w!!!\n"
    }
   ],
   "source": [
    "str7 = 'this is string example....wow!!!'\n",
    "intab = 'aeiou'\n",
    "outtab = '12345'\n",
    "trantab = str7.maketrans(intab, outtab)\n",
    "print(trantab)  # {97: 49, 111: 52, 117: 53, 101: 50, 105: 51}\n",
    "print(str7.translate(trantab))  # th3s 3s str3ng 2x1mpl2....w4w!!!"
   ]
  },
  {
   "cell_type": "markdown",
   "metadata": {},
   "source": [
    "## 4.字符串格式化\n",
    "format 格式化函数"
   ]
  },
  {
   "cell_type": "code",
   "execution_count": 114,
   "metadata": {},
   "outputs": [
    {
     "output_type": "stream",
     "name": "stdout",
     "text": "I Love Lsgogroup\nI Love Lsgogroup\nI Love Lsgogroup\n27.66GB\n"
    }
   ],
   "source": [
    "str8 = \"{0} Love {1}\".format('I', 'Lsgogroup')  # 位置参数\n",
    "print(str8)  # I Love Lsgogroup\n",
    "\n",
    "str8 = \"{a} Love {b}\".format(a='I', b='Lsgogroup')  # 关键字参数\n",
    "print(str8)  # I Love Lsgogroup\n",
    "\n",
    "str8 = \"{0} Love {b}\".format('I', b='Lsgogroup')  # 位置参数要在关键字参数之前\n",
    "print(str8)  # I Love Lsgogroup\n",
    "\n",
    "str8 = '{0:.2f}{1}'.format(27.658, 'GB')  # 保留小数点后两位\n",
    "print(str8)  # 27.66GB"
   ]
  },
  {
   "cell_type": "code",
   "execution_count": null,
   "metadata": {},
   "outputs": [],
   "source": [
    "Python 字符串格式化符号\n",
    "符 号\t描述\n",
    "%c\t格式化字符及其ASCII码\n",
    "%s\t格式化字符串，用str()方法处理对象\n",
    "%r\t格式化字符串，用rper()方法处理对象\n",
    "%d\t格式化整数\n",
    "%o\t格式化无符号八进制数\n",
    "%x\t格式化无符号十六进制数\n",
    "%X\t格式化无符号十六进制数（大写）\n",
    "%f\t格式化浮点数字，可指定小数点后的精度\n",
    "%e\t用科学计数法格式化浮点数\n",
    "%E\t作用同%e，用科学计数法格式化浮点数\n",
    "%g\t根据值的大小决定使用%f或%e\n",
    "%G\t作用同%g，根据值的大小决定使用%f或%E"
   ]
  },
  {
   "cell_type": "code",
   "execution_count": 115,
   "metadata": {},
   "outputs": [
    {
     "output_type": "stream",
     "name": "stdout",
     "text": "a\na b c\n4 + 5 = 9\n我叫 小明 今年 10 岁!\n12\na\nA\n27.658000\n2.765800e+01\n2.765800E+01\n27.658\nI said: I am 22 years old..\nI said: 'I am 22 years old.'.\n"
    }
   ],
   "source": [
    "print('%c' % 97)  # a\n",
    "print('%c %c %c' % (97, 98, 99))  # a b c\n",
    "print('%d + %d = %d' % (4, 5, 9))  # 4 + 5 = 9\n",
    "print(\"我叫 %s 今年 %d 岁!\" % ('小明', 10))  # 我叫 小明 今年 10 岁!\n",
    "print('%o' % 10)  # 12\n",
    "print('%x' % 10)  # a\n",
    "print('%X' % 10)  # A\n",
    "print('%f' % 27.658)  # 27.658000\n",
    "print('%e' % 27.658)  # 2.765800e+01\n",
    "print('%E' % 27.658)  # 2.765800E+01\n",
    "print('%g' % 27.658)  # 27.658\n",
    "text = \"I am %d years old.\" % 22\n",
    "print(\"I said: %s.\" % text)  # I said: I am 22 years old..\n",
    "print(\"I said: %r.\" % text)  # I said: 'I am 22 years old.'"
   ]
  },
  {
   "cell_type": "code",
   "execution_count": null,
   "metadata": {},
   "outputs": [],
   "source": [
    "格式化操作符辅助指令\n",
    "符号\t功能\n",
    "m.n\tm 是显示的最小总宽度,n 是小数点后的位数（如果可用的话）\n",
    "-\t用作左对齐\n",
    "+\t在正数前面显示加号( + )\n",
    "#\t在八进制数前面显示零('0')，在十六进制前面显示'0x'或者'0X'(取决于用的是'x'还是'X')\n",
    "0\t显示的数字前面填充'0'而不是默认的空格"
   ]
  },
  {
   "cell_type": "code",
   "execution_count": 116,
   "metadata": {},
   "outputs": [
    {
     "output_type": "stream",
     "name": "stdout",
     "text": "27.7\n2.77e+01\n        10\n10        \n+10\n0o12\n0x6c\n0000000005\n"
    }
   ],
   "source": [
    "print('%5.1f' % 27.658)  # ' 27.7'\n",
    "print('%.2e' % 27.658)  # 2.77e+01\n",
    "print('%10d' % 10)  # '        10'\n",
    "print('%-10d' % 10)  # '10        '\n",
    "print('%+d' % 10)  # +10\n",
    "print('%#o' % 10)  # 0o12\n",
    "print('%#x' % 108)  # 0x6c\n",
    "print('%010d' % 5)  # 0000000005"
   ]
  },
  {
   "cell_type": "markdown",
   "metadata": {},
   "source": [
    "# 练习题："
   ]
  },
  {
   "cell_type": "code",
   "execution_count": 118,
   "metadata": {},
   "outputs": [],
   "source": [
    "1、字符串函数回顾\n",
    "\n",
    "* 怎么批量替换字符串中的元素？\n",
    "\n",
    "x：原始字符串\n",
    "old：要替换的内容，可为str,list\n",
    "new：新内容，可为str,list,none\n",
    "strip：是否删除前后空格\n",
    "不传新内容new，则要替换的内容old被删掉\n",
    "\n",
    "* 怎么把字符串按照空格进⾏拆分？\n",
    "\n",
    "str=\"abd ck df\"\n",
    "res=str.split(\" \",t)\n",
    "print(res)\n",
    "\n",
    "* 怎么去除字符串⾸位的空格？\n",
    "\n",
    "strip：去掉字符串左右两边的空格\n",
    "lstrip：去掉左边的空格\n",
    "rstrip：去掉右边的空格\n",
    "\n",
    "2、实现isdigit函数\n",
    "\n",
    "题目要求\n",
    "\n",
    "实现函数isdigit， 判断字符串里是否只包含数字0~9\n",
    "\n",
    "def isdigit(string):\n",
    "    \"\"\"\n",
    "    判断字符串只包含数字\n",
    "    :param string:\n",
    "    :return:\n",
    "    \"\"\"\n",
    "    # your code here\n",
    "    # pass\n",
    "\n",
    "    for i in len(string):\n",
    "        if i<65 or i>75:\n",
    "            print(\"not digit!\")\n",
    "            break\n",
    "    print(\"is digit\")\n",
    "\n",
    "3、leetcode 5题 最长回文子串\n",
    "\n",
    "给定一个字符串 s，找到 s 中最长的回文子串。你可以假设 s 的最大长度为 1000。\n",
    "\n",
    "示例:\n",
    "\n",
    "输入: \"babad\"\n",
    "\n",
    "输出: \"bab\"\n",
    "\n",
    "输入: \"cbbd\"\n",
    "\n",
    "输出: \"bb\"\n",
    "\n",
    "class Solution:\n",
    "    def longestPalindrome(self, s: str) -> str:\n",
    "          \n",
    "        # your code here\n",
    "        n=len(s)\n",
    "        dp=[[False]*n for _ in range(n)]\n",
    "        ans=\"\"\n",
    "        for l in range(n):\n",
    "            j=i+1\n",
    "            if j>=len(s):\n",
    "                break\n",
    "            if l==0:\n",
    "                dp[i][j]=True\n",
    "            elif l==1:\n",
    "                dp[i][j]=(s[i]==s[j])\n",
    "            else:\n",
    "                dp[i][j]=(dp[i+1][j-1] and s[i]==s[j])\n",
    "                if dp[i][j] and l+1>len(ans):\n",
    "                    ans=s[i:j+1]\n",
    "                    return ans"
   ]
  },
  {
   "cell_type": "code",
   "execution_count": null,
   "metadata": {},
   "outputs": [],
   "source": []
  }
 ]
}