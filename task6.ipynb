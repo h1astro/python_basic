{
 "nbformat": 4,
 "nbformat_minor": 2,
 "metadata": {
  "language_info": {
   "name": "python",
   "codemirror_mode": {
    "name": "ipython",
    "version": 3
   },
   "version": "3.7.3-final"
  },
  "orig_nbformat": 2,
  "file_extension": ".py",
  "mimetype": "text/x-python",
  "name": "python",
  "npconvert_exporter": "python",
  "pygments_lexer": "ipython3",
  "version": 3,
  "kernelspec": {
   "name": "python37364bitanaconda3virtualenvac0e6e3c7f95495d9400d7ce75498235",
   "display_name": "Python 3.7.3 64-bit ('anaconda3': virtualenv)"
  }
 },
 "cells": [
  {
   "cell_type": "markdown",
   "metadata": {},
   "source": [
    "# 函数与Lambda表达式"
   ]
  },
  {
   "cell_type": "markdown",
   "metadata": {},
   "source": [
    "## 1. 函数\n",
    "还记得 Python 里面“万物皆对象”么？Python 把函数也当成对象，可以从另一个函数中返回出来而去构建高阶函数，比如：\n",
    "\n",
    "* 参数是函数\n",
    "* 返回值是函数\n",
    "## 函数的定义\n",
    "* 函数以def关键词开头，后接函数名和圆括号()。\n",
    "* 函数执行的代码以冒号起始，并且缩进。\n",
    "* return \\[表达式\\] 结束函数，选择性地返回一个值给调用方。不带表达式的return相当于返回None。"
   ]
  },
  {
   "cell_type": "code",
   "execution_count": null,
   "metadata": {},
   "outputs": [],
   "source": [
    "def functionname(parameters):\n",
    "    \"函数_文档字符串\"\n",
    "    function_suite\n",
    "    return [expression]"
   ]
  },
  {
   "cell_type": "markdown",
   "metadata": {},
   "source": [
    "## 函数的调用"
   ]
  },
  {
   "cell_type": "code",
   "execution_count": 1,
   "metadata": {},
   "outputs": [
    {
     "output_type": "stream",
     "name": "stdout",
     "text": "我要调用用户自定义函数!\n再次调用同一函数\nhello\nNone\n"
    }
   ],
   "source": [
    "def printme(str):\n",
    "    print(str)\n",
    "\n",
    "\n",
    "printme(\"我要调用用户自定义函数!\")  # 我要调用用户自定义函数!\n",
    "printme(\"再次调用同一函数\")  # 再次调用同一函数\n",
    "temp = printme('hello') # hello\n",
    "print(temp)  # None"
   ]
  },
  {
   "cell_type": "markdown",
   "metadata": {},
   "source": [
    "## 函数文档"
   ]
  },
  {
   "cell_type": "code",
   "execution_count": 2,
   "metadata": {},
   "outputs": [
    {
     "output_type": "stream",
     "name": "stdout",
     "text": "传递进来的老马的程序人生叫做实参，因为Ta是具体的参数值！\n函数定义过程中name是形参\nHelp on function MyFirstFunction in module __main__:\n\nMyFirstFunction(name)\n    函数定义过程中name是形参\n\n"
    }
   ],
   "source": [
    "def MyFirstFunction(name):\n",
    "    \"函数定义过程中name是形参\"\n",
    "    # 因为Ta只是一个形式，表示占据一个参数位置\n",
    "    print('传递进来的{0}叫做实参，因为Ta是具体的参数值！'.format(name))\n",
    "\n",
    "\n",
    "MyFirstFunction('老马的程序人生')  \n",
    "# 传递进来的老马的程序人生叫做实参，因为Ta是具体的参数值！\n",
    "\n",
    "print(MyFirstFunction.__doc__)  \n",
    "# 函数定义过程中name是形参\n",
    "\n",
    "help(MyFirstFunction)\n",
    "# Help on function MyFirstFunction in module __main__:\n",
    "# MyFirstFunction(name)\n",
    "#    函数定义过程中name是形参"
   ]
  },
  {
   "cell_type": "markdown",
   "metadata": {},
   "source": [
    "## 函数参数\n",
    "Python 的函数具有非常灵活多样的参数形态，既可以实现简单的调用，又可以传入非常复杂的参数。从简到繁的参数形态如下：\n",
    "\n",
    "* 位置参数 (positional argument)\n",
    "* 默认参数 (default argument)\n",
    "* 可变参数 (variable argument)\n",
    "* 关键字参数 (keyword argument)\n",
    "* 命名关键字参数 (name keyword argument)\n",
    "* 参数组合\n",
    "\n",
    "![](https://mmbiz.qpic.cn/mmbiz_png/e4kxNicDVcCFUHnwqqgOPAqeibNEAnMia8JicnZt6FyVfD0uxSJtibVU8BbE7CCicZQ6j7m3ukgWdtYMYMdjibWqREicCA/640?wx_fmt=png&tp=webp&wxfrom=5&wx_lazy=1&wx_co=1)\n",
    "\n",
    "### 1. 位置参数"
   ]
  },
  {
   "cell_type": "code",
   "execution_count": 3,
   "metadata": {},
   "outputs": [],
   "source": [
    "def functionname(arg1):\n",
    "    \"函数_文档字符串\"\n",
    "    function_suite\n",
    "    return [expression]"
   ]
  },
  {
   "cell_type": "markdown",
   "metadata": {},
   "source": [
    "* arg1 - 位置参数 ，这些参数在调用函数 (call function) 时位置要固定。\n",
    "### 2. 默认参数"
   ]
  },
  {
   "cell_type": "code",
   "execution_count": 4,
   "metadata": {},
   "outputs": [
    {
     "output_type": "error",
     "ename": "NameError",
     "evalue": "name 'v' is not defined",
     "traceback": [
      "\u001b[0;31m---------------------------------------------------------------------------\u001b[0m",
      "\u001b[0;31mNameError\u001b[0m                                 Traceback (most recent call last)",
      "\u001b[0;32m<ipython-input-4-596bb7c15f85>\u001b[0m in \u001b[0;36m<module>\u001b[0;34m\u001b[0m\n\u001b[0;32m----> 1\u001b[0;31m \u001b[0;32mdef\u001b[0m \u001b[0mfunctionname\u001b[0m\u001b[0;34m(\u001b[0m\u001b[0marg1\u001b[0m\u001b[0;34m,\u001b[0m \u001b[0marg2\u001b[0m\u001b[0;34m=\u001b[0m\u001b[0mv\u001b[0m\u001b[0;34m)\u001b[0m\u001b[0;34m:\u001b[0m\u001b[0;34m\u001b[0m\u001b[0;34m\u001b[0m\u001b[0m\n\u001b[0m\u001b[1;32m      2\u001b[0m     \u001b[0;34m\"函数_文档字符串\"\u001b[0m\u001b[0;34m\u001b[0m\u001b[0;34m\u001b[0m\u001b[0m\n\u001b[1;32m      3\u001b[0m     \u001b[0mfunction_suite\u001b[0m\u001b[0;34m\u001b[0m\u001b[0;34m\u001b[0m\u001b[0m\n\u001b[1;32m      4\u001b[0m     \u001b[0;32mreturn\u001b[0m \u001b[0;34m[\u001b[0m\u001b[0mexpression\u001b[0m\u001b[0;34m]\u001b[0m\u001b[0;34m\u001b[0m\u001b[0;34m\u001b[0m\u001b[0m\n",
      "\u001b[0;31mNameError\u001b[0m: name 'v' is not defined"
     ]
    }
   ],
   "source": [
    "def functionname(arg1, arg2=v):\n",
    "    \"函数_文档字符串\"\n",
    "    function_suite\n",
    "    return [expression]"
   ]
  },
  {
   "cell_type": "markdown",
   "metadata": {},
   "source": [
    "* `arg2 = v` - 默认参数 = 默认值，调用函数时，默认参数的值如果没有传入，则被认为是默认值。\n",
    "* 默认参数一定要放在位置参数 `后面`，不然程序会报错。"
   ]
  },
  {
   "cell_type": "code",
   "execution_count": null,
   "metadata": {},
   "outputs": [],
   "source": [
    "def printinfo(name, age=8):\n",
    "    print('Name:{0},Age:{1}'.format(name, age))\n",
    "\n",
    "\n",
    "printinfo('小马')  # Name:小马,Age:8\n",
    "printinfo('小马', 10)  # Name:小马,Age:10"
   ]
  },
  {
   "cell_type": "code",
   "execution_count": null,
   "metadata": {},
   "outputs": [],
   "source": [
    "Python 允许函数调用时参数的顺序与声明时不一致，因为 Python 解释器能够用参数名匹配参数值。"
   ]
  },
  {
   "cell_type": "code",
   "execution_count": 5,
   "metadata": {},
   "outputs": [
    {
     "output_type": "stream",
     "name": "stdout",
     "text": "Name:小马,Age:8\n"
    }
   ],
   "source": [
    "def printinfo(name, age):\n",
    "    print('Name:{0},Age:{1}'.format(name, age))\n",
    "\n",
    "\n",
    "printinfo(age=8, name='小马')  # Name:小马,Age:8"
   ]
  },
  {
   "cell_type": "markdown",
   "metadata": {},
   "source": [
    "### 3. 可变参数\n",
    "\n",
    "顾名思义，可变参数就是传入的参数个数是可变的，可以是 0, 1, 2 到任意个，是不定长的参数。"
   ]
  },
  {
   "cell_type": "code",
   "execution_count": null,
   "metadata": {},
   "outputs": [],
   "source": [
    "def functionname(arg1, arg2=v, *args):\n",
    "    \"函数_文档字符串\"\n",
    "    function_suite\n",
    "    return [expression]"
   ]
  },
  {
   "cell_type": "markdown",
   "metadata": {},
   "source": [
    "* *args - 可变参数，可以是从零个到任意个，自动组装成元组。\n",
    "* 加了星号（*）的变量名会存放所有未命名的变量参数。"
   ]
  },
  {
   "cell_type": "code",
   "execution_count": 7,
   "metadata": {},
   "outputs": [
    {
     "output_type": "stream",
     "name": "stdout",
     "text": "10\n70\n60\n50\n"
    }
   ],
   "source": [
    "def printinfo(arg1, *args):\n",
    "    print(arg1)\n",
    "    for var in args:\n",
    "        print(var)\n",
    "\n",
    "\n",
    "printinfo(10)  # 10\n",
    "printinfo(70, 60, 50)\n",
    "\n",
    "# 70\n",
    "# 60\n",
    "# 50"
   ]
  },
  {
   "cell_type": "markdown",
   "metadata": {},
   "source": [
    "### 4. 关键字参数"
   ]
  },
  {
   "cell_type": "code",
   "execution_count": null,
   "metadata": {},
   "outputs": [],
   "source": [
    "def functionname(arg1, arg2=v, *args, **kw):\n",
    "    \"函数_文档字符串\"\n",
    "    function_suite\n",
    "    return [expression]"
   ]
  },
  {
   "cell_type": "markdown",
   "metadata": {},
   "source": [
    "* **kw - 关键字参数，可以是从零个到任意个，自动组装成字典。"
   ]
  },
  {
   "cell_type": "code",
   "execution_count": 8,
   "metadata": {},
   "outputs": [
    {
     "output_type": "stream",
     "name": "stdout",
     "text": "70\n(60, 50)\n{}\n70\n(60, 50)\n{'a': 1, 'b': 2}\n"
    }
   ],
   "source": [
    "def printinfo(arg1, *args, **kwargs):\n",
    "    print(arg1)\n",
    "    print(args)\n",
    "    print(kwargs)\n",
    "\n",
    "\n",
    "printinfo(70, 60, 50)\n",
    "# 70\n",
    "# (60, 50)\n",
    "# {}\n",
    "printinfo(70, 60, 50, a=1, b=2)\n",
    "# 70\n",
    "# (60, 50)\n",
    "# {'a': 1, 'b': 2}"
   ]
  },
  {
   "cell_type": "code",
   "execution_count": null,
   "metadata": {},
   "outputs": [],
   "source": [
    "可变参数」和「关键字参数」的同异总结如下：\n",
    "\n",
    "可变参数允许传入零个到任意个参数，它们在函数调用时自动组装为一个元组 (tuple)。\n",
    "关键字参数允许传入零个到任意个参数，它们在函数内部自动组装为一个字典 (dict)。"
   ]
  },
  {
   "cell_type": "markdown",
   "metadata": {},
   "source": [
    "### 5. 命名关键字参数"
   ]
  },
  {
   "cell_type": "code",
   "execution_count": null,
   "metadata": {},
   "outputs": [],
   "source": [
    "def functionname(arg1, arg2=v, *args, *, nkw, **kw):\n",
    "    \"函数_文档字符串\"\n",
    "    function_suite\n",
    "    return [expression]"
   ]
  },
  {
   "cell_type": "code",
   "execution_count": null,
   "metadata": {},
   "outputs": [],
   "source": [
    "*, nkw - 命名关键字参数，用户想要输入的关键字参数，定义方式是在nkw 前面加个分隔符 *。\n",
    "如果要限制关键字参数的名字，就可以用「命名关键字参数」\n",
    "使用命名关键字参数时，要特别注意不能缺少参数名。"
   ]
  },
  {
   "cell_type": "code",
   "execution_count": 9,
   "metadata": {},
   "outputs": [
    {
     "output_type": "stream",
     "name": "stdout",
     "text": "70\n10\n{'a': 1, 'b': 2}\n"
    },
    {
     "output_type": "error",
     "ename": "TypeError",
     "evalue": "printinfo() takes 1 positional argument but 2 were given",
     "traceback": [
      "\u001b[0;31m---------------------------------------------------------------------------\u001b[0m",
      "\u001b[0;31mTypeError\u001b[0m                                 Traceback (most recent call last)",
      "\u001b[0;32m<ipython-input-9-9267de888e52>\u001b[0m in \u001b[0;36m<module>\u001b[0;34m\u001b[0m\n\u001b[1;32m     10\u001b[0m \u001b[0;31m# {'a': 1, 'b': 2}\u001b[0m\u001b[0;34m\u001b[0m\u001b[0;34m\u001b[0m\u001b[0;34m\u001b[0m\u001b[0m\n\u001b[1;32m     11\u001b[0m \u001b[0;34m\u001b[0m\u001b[0m\n\u001b[0;32m---> 12\u001b[0;31m \u001b[0mprintinfo\u001b[0m\u001b[0;34m(\u001b[0m\u001b[0;36m70\u001b[0m\u001b[0;34m,\u001b[0m \u001b[0;36m10\u001b[0m\u001b[0;34m,\u001b[0m \u001b[0ma\u001b[0m\u001b[0;34m=\u001b[0m\u001b[0;36m1\u001b[0m\u001b[0;34m,\u001b[0m \u001b[0mb\u001b[0m\u001b[0;34m=\u001b[0m\u001b[0;36m2\u001b[0m\u001b[0;34m)\u001b[0m\u001b[0;34m\u001b[0m\u001b[0;34m\u001b[0m\u001b[0m\n\u001b[0m\u001b[1;32m     13\u001b[0m \u001b[0;31m# TypeError: printinfo() takes 1 positional argument but 2 were given\u001b[0m\u001b[0;34m\u001b[0m\u001b[0;34m\u001b[0m\u001b[0;34m\u001b[0m\u001b[0m\n",
      "\u001b[0;31mTypeError\u001b[0m: printinfo() takes 1 positional argument but 2 were given"
     ]
    }
   ],
   "source": [
    "def printinfo(arg1, *, nkw, **kwargs):\n",
    "    print(arg1)\n",
    "    print(nkw)\n",
    "    print(kwargs)\n",
    "\n",
    "\n",
    "printinfo(70, nkw=10, a=1, b=2)\n",
    "# 70\n",
    "# 10\n",
    "# {'a': 1, 'b': 2}\n",
    "\n",
    "printinfo(70, 10, a=1, b=2)\n",
    "# TypeError: printinfo() takes 1 positional argument but 2 were given"
   ]
  },
  {
   "cell_type": "markdown",
   "metadata": {},
   "source": [
    "* 没有写参数名nwk，因此 10 被当成「位置参数」，而原函数只有 1 个位置函数，现在调用了 2 个，因此程序会报错。"
   ]
  },
  {
   "cell_type": "markdown",
   "metadata": {},
   "source": [
    "### 6. 参数组合\n",
    "\n",
    "在 Python 中定义函数，可以用位置参数、默认参数、可变参数、命名关键字参数和关键字参数，这 5 种参数中的 4 个都可以一起使用，但是注意，参数定义的顺序必须是：\n",
    "\n",
    "* 位置参数、默认参数、可变参数和关键字参数。\n",
    "* 位置参数、默认参数、命名关键字参数和关键字参数。\n",
    "\n",
    "要注意定义可变参数和关键字参数的语法：\n",
    "\n",
    "* *args 是可变参数，args 接收的是一个 tuple\n",
    "* **kw 是关键字参数，kw 接收的是一个 dict\n",
    "命名关键字参数是为了限制调用者可以传入的参数名，同时可以提供默认值。定义命名关键字参数不要忘了写分隔符 *，否则定义的是位置参数。\n",
    "\n",
    "警告：虽然可以组合多达 5 种参数，但不要同时使用太多的组合，否则函数很难懂。\n",
    "\n",
    "## 函数的返回值"
   ]
  },
  {
   "cell_type": "code",
   "execution_count": 10,
   "metadata": {},
   "outputs": [
    {
     "output_type": "stream",
     "name": "stdout",
     "text": "3\n[1, 2, 3, 4, 5, 6]\n"
    }
   ],
   "source": [
    "def add(a, b):\n",
    "    return a + b\n",
    "\n",
    "\n",
    "print(add(1, 2))  # 3\n",
    "print(add([1, 2, 3], [4, 5, 6]))  # [1, 2, 3, 4, 5, 6]"
   ]
  },
  {
   "cell_type": "code",
   "execution_count": 11,
   "metadata": {},
   "outputs": [
    {
     "output_type": "stream",
     "name": "stdout",
     "text": "[1, '小马的程序人生', 3.14]\n"
    }
   ],
   "source": [
    "def back():\n",
    "    return [1, '小马的程序人生', 3.14]\n",
    "\n",
    "\n",
    "print(back())  # [1, '小马的程序人生', 3.14]"
   ]
  },
  {
   "cell_type": "code",
   "execution_count": 12,
   "metadata": {},
   "outputs": [
    {
     "output_type": "stream",
     "name": "stdout",
     "text": "(1, '小马的程序人生', 3.14)\n"
    }
   ],
   "source": [
    "def back():\n",
    "    return 1, '小马的程序人生', 3.14\n",
    "\n",
    "\n",
    "print(back())  # (1, '小马的程序人生', 3.14)"
   ]
  },
  {
   "cell_type": "code",
   "execution_count": 13,
   "metadata": {},
   "outputs": [
    {
     "output_type": "stream",
     "name": "stdout",
     "text": "hello\nNone\n<class 'NoneType'>\n"
    }
   ],
   "source": [
    "def printme(str):\n",
    "    print(str)\n",
    "\n",
    "temp = printme('hello') # hello\n",
    "print(temp) # None\n",
    "print(type(temp))  # <class 'NoneType'>"
   ]
  },
  {
   "cell_type": "markdown",
   "metadata": {},
   "source": [
    "## 变量作用域\n",
    "* Python 中，程序的变量并不是在哪个位置都可以访问的，访问权限决定于这个变量是在哪里赋值的。\n",
    "* 定义在函数内部的变量拥有局部作用域，该变量称为局部变量。\n",
    "* 定义在函数外部的变量拥有全局作用域，该变量称为全局变量。\n",
    "* 局部变量只能在其被声明的函数内部访问，而全局变量可以在整个程序范围内访问。"
   ]
  },
  {
   "cell_type": "code",
   "execution_count": 17,
   "metadata": {},
   "outputs": [
    {
     "output_type": "stream",
     "name": "stdout",
     "text": "打折后价格是:88.20\n"
    }
   ],
   "source": [
    "def discounts(price, rate):\n",
    "    final_price = price * rate\n",
    "    return final_price\n",
    "\n",
    "\n",
    "old_price = float(input('请输入原价:'))  # 98\n",
    "rate = float(input('请输入折扣率:'))  # 0.9\n",
    "new_price = discounts(old_price, rate)\n",
    "print('打折后价格是:%.2f' % new_price)  # 88.20"
   ]
  },
  {
   "cell_type": "code",
   "execution_count": null,
   "metadata": {},
   "outputs": [],
   "source": [
    "当内部作用域想修改外部作用域的变量时，就要用到global和nonlocal关键字了。"
   ]
  },
  {
   "cell_type": "code",
   "execution_count": 18,
   "metadata": {},
   "outputs": [
    {
     "output_type": "stream",
     "name": "stdout",
     "text": "1\n123\n123\n"
    }
   ],
   "source": [
    "num = 1\n",
    "\n",
    "\n",
    "def fun1():\n",
    "    global num  # 需要使用 global 关键字声明\n",
    "    print(num)  # 1\n",
    "    num = 123\n",
    "    print(num)  # 123\n",
    "\n",
    "\n",
    "fun1()\n",
    "print(num)  # 123"
   ]
  },
  {
   "cell_type": "markdown",
   "metadata": {},
   "source": [
    "## 内嵌函数"
   ]
  },
  {
   "cell_type": "code",
   "execution_count": 19,
   "metadata": {},
   "outputs": [
    {
     "output_type": "stream",
     "name": "stdout",
     "text": "outer函数在这被调用\ninner函数在这被调用\n"
    }
   ],
   "source": [
    "def outer():\n",
    "    print('outer函数在这被调用')\n",
    "\n",
    "    def inner():\n",
    "        print('inner函数在这被调用')\n",
    "\n",
    "    inner()  # 该函数只能在outer函数内部被调用\n",
    "\n",
    "\n",
    "outer()\n",
    "# outer函数在这被调用\n",
    "# inner函数在这被调用"
   ]
  },
  {
   "cell_type": "markdown",
   "metadata": {},
   "source": [
    "## 闭包\n",
    "\n",
    "* 是函数式编程的一个重要的语法结构，是一种特殊的内嵌函数。\n",
    "* 如果在一个内部函数里对外层非全局作用域的变量进行引用，那么内部函数就被认为是闭包。\n",
    "* 通过闭包可以访问外层非全局作用域的变量，这个作用域称为 闭包作用域。"
   ]
  },
  {
   "cell_type": "code",
   "execution_count": 20,
   "metadata": {},
   "outputs": [
    {
     "output_type": "stream",
     "name": "stdout",
     "text": "<class 'function'>\n40\n"
    }
   ],
   "source": [
    "def funX(x):\n",
    "    def funY(y):\n",
    "        return x * y\n",
    "\n",
    "    return funY\n",
    "\n",
    "\n",
    "i = funX(8)\n",
    "print(type(i))  # <class 'function'>\n",
    "print(i(5))  # 40"
   ]
  },
  {
   "cell_type": "code",
   "execution_count": null,
   "metadata": {},
   "outputs": [],
   "source": [
    "闭包的返回值通常是函数。"
   ]
  },
  {
   "cell_type": "code",
   "execution_count": 21,
   "metadata": {},
   "outputs": [
    {
     "output_type": "stream",
     "name": "stdout",
     "text": "3\n2\n0\n"
    }
   ],
   "source": [
    "def make_counter(init):\n",
    "    counter = [init]\n",
    "\n",
    "    def inc(): counter[0] += 1\n",
    "\n",
    "    def dec(): counter[0] -= 1\n",
    "\n",
    "    def get(): return counter[0]\n",
    "\n",
    "    def reset(): counter[0] = init\n",
    "\n",
    "    return inc, dec, get, reset\n",
    "\n",
    "\n",
    "inc, dec, get, reset = make_counter(0)\n",
    "inc()\n",
    "inc()\n",
    "inc()\n",
    "print(get())  # 3\n",
    "dec()\n",
    "print(get())  # 2\n",
    "reset()\n",
    "print(get())  # 0"
   ]
  },
  {
   "cell_type": "markdown",
   "metadata": {},
   "source": [
    "如果要修改闭包作用域中的变量则需要 `nonlocal` 关键字"
   ]
  },
  {
   "cell_type": "code",
   "execution_count": 24,
   "metadata": {},
   "outputs": [
    {
     "output_type": "stream",
     "name": "stdout",
     "text": "10\n100\n100\n"
    }
   ],
   "source": [
    "def outer():\n",
    "    num = 10\n",
    "    print(num)\n",
    "    def inner():\n",
    "        nonlocal num  # nonlocal关键字声明\n",
    "        num = 100\n",
    "        print(num)\n",
    "\n",
    "    inner()\n",
    "    print(num)\n",
    "\n",
    "\n",
    "outer()\n",
    "# 10\n",
    "# 100\n",
    "# 100"
   ]
  },
  {
   "cell_type": "markdown",
   "metadata": {},
   "source": [
    "## 递归\n",
    "\n",
    "如果一个函数在内部调用自身本身，这个函数就是递归函数。\n",
    "\n",
    "【例子】n! = 1 x 2 x 3 x ... x n"
   ]
  },
  {
   "cell_type": "code",
   "execution_count": 26,
   "metadata": {},
   "outputs": [
    {
     "output_type": "stream",
     "name": "stdout",
     "text": "120\n120\n"
    }
   ],
   "source": [
    "# 利用循环\n",
    "n = 5\n",
    "for k in range(1, 5):\n",
    "    n = n * k\n",
    "print(n)  # 120\n",
    "\n",
    "# 利用递归\n",
    "def factorial(n):\n",
    "    if n==1:\n",
    "        return n\n",
    "    else:\n",
    "        return n * factorial(n-1)\n",
    "\n",
    "\n",
    "\n",
    "print(factorial(5)) # 120"
   ]
  },
  {
   "cell_type": "code",
   "execution_count": null,
   "metadata": {},
   "outputs": [],
   "source": [
    "斐波那契数列 f(n)=f(n-1)+f(n-2), f(0)=0 f(1)=1"
   ]
  },
  {
   "cell_type": "code",
   "execution_count": 27,
   "metadata": {},
   "outputs": [
    {
     "output_type": "stream",
     "name": "stdout",
     "text": "[0, 1, 1, 2, 3, 5, 8, 13, 21, 34, 55]\n[0, 1, 1, 2, 3, 5, 8, 13, 21, 34, 55]\n"
    }
   ],
   "source": [
    "# 利用循环\n",
    "i = 0\n",
    "j = 1\n",
    "lst = list([i, j])\n",
    "for k in range(2, 11):\n",
    "    k = i + j\n",
    "    lst.append(k)\n",
    "    i = j\n",
    "    j = k\n",
    "print(lst)  \n",
    "# [0, 1, 1, 2, 3, 5, 8, 13, 21, 34, 55]\n",
    "\n",
    "# 利用递归\n",
    "def recur_fibo(n):\n",
    "    if n <= 1:\n",
    "        return n\n",
    "    return recur_fibo(n - 1) + recur_fibo(n - 2)\n",
    "\n",
    "\n",
    "lst = list()\n",
    "for k in range(11):\n",
    "    lst.append(recur_fibo(k))\n",
    "print(lst)  \n",
    "# [0, 1, 1, 2, 3, 5, 8, 13, 21, 34, 55]"
   ]
  },
  {
   "cell_type": "code",
   "execution_count": null,
   "metadata": {},
   "outputs": [],
   "source": [
    "设置递归的层数，Python默认递归层数为 100"
   ]
  },
  {
   "cell_type": "code",
   "execution_count": 28,
   "metadata": {},
   "outputs": [],
   "source": [
    "import sys\n",
    "\n",
    "sys.setrecursionlimit(1000)"
   ]
  },
  {
   "cell_type": "markdown",
   "metadata": {},
   "source": [
    "# 2. Lambda 表达式\n",
    "## 匿名函数的定义\n",
    "在 Python 里有两类函数：\n",
    "\n",
    "* 第一类：用 def 关键词定义的正规函数\n",
    "* 第二类：用 lambda 关键词定义的匿名函数\n",
    "\n",
    "python 使用 lambda 关键词来创建匿名函数，而非def关键词，它没有函数名，其语法结构如下："
   ]
  },
  {
   "cell_type": "code",
   "execution_count": null,
   "metadata": {},
   "outputs": [],
   "source": [
    "lambda argument_list: expression"
   ]
  },
  {
   "cell_type": "markdown",
   "metadata": {},
   "source": [
    "* lambda - 定义匿名函数的关键词。\n",
    "* argument_list - 函数参数，它们可以是位置参数、默认参数、关键字参数，和正规函数里的参数类型一样。\n",
    "* :- 冒号，在函数参数和表达式中间要加个冒号。\n",
    "* expression - 只是一个表达式，输入函数参数，输出一些值。\n",
    "\n",
    "注意：\n",
    "\n",
    "* expression 中没有 return 语句，因为 lambda 不需要它来返回，表达式本身结果就是返回值。\n",
    "* 匿名函数拥有自己的命名空间，且不能访问自己参数列表之外或全局命名空间里的参数。"
   ]
  },
  {
   "cell_type": "code",
   "execution_count": 29,
   "metadata": {},
   "outputs": [
    {
     "output_type": "stream",
     "name": "stdout",
     "text": "<function sqr at 0x7fec2cae98c8>\n[0, 1, 4, 9, 16, 25, 36, 49, 64, 81]\n<function <lambda> at 0x7fec2c990488>\n[0, 1, 4, 9, 16, 25, 36, 49, 64, 81]\n30\n15\n"
    }
   ],
   "source": [
    "def sqr(x):\n",
    "    return x ** 2\n",
    "\n",
    "\n",
    "print(sqr)\n",
    "# <function sqr at 0x000000BABD3A4400>\n",
    "\n",
    "y = [sqr(x) for x in range(10)]\n",
    "print(y)\n",
    "# [0, 1, 4, 9, 16, 25, 36, 49, 64, 81]\n",
    "\n",
    "lbd_sqr = lambda x: x ** 2\n",
    "print(lbd_sqr)\n",
    "# <function <lambda> at 0x000000BABB6AC1E0>\n",
    "\n",
    "y = [lbd_sqr(x) for x in range(10)]\n",
    "print(y)\n",
    "# [0, 1, 4, 9, 16, 25, 36, 49, 64, 81]\n",
    "\n",
    "\n",
    "sumary = lambda arg1, arg2: arg1 + arg2\n",
    "print(sumary(10, 20))  # 30\n",
    "\n",
    "func = lambda *args: sum(args)\n",
    "print(func(1, 2, 3, 4, 5))  # 15"
   ]
  },
  {
   "cell_type": "markdown",
   "metadata": {},
   "source": [
    "## 匿名函数的应用\n",
    "函数式编程 是指代码中每一块都是不可变的，都由纯函数的形式组成。这里的纯函数，是指函数本身相互独立、互不影响，对于相同的输入，总会有相同的输出，没有任何副作用。\n",
    "\n"
   ]
  },
  {
   "cell_type": "code",
   "execution_count": null,
   "metadata": {},
   "outputs": [],
   "source": [
    "【例子】非函数式编程"
   ]
  },
  {
   "cell_type": "code",
   "execution_count": 30,
   "metadata": {},
   "outputs": [
    {
     "output_type": "stream",
     "name": "stdout",
     "text": "[11, 12, 13]\n"
    }
   ],
   "source": [
    "def f(x):\n",
    "    for i in range(0, len(x)):\n",
    "        x[i] += 10\n",
    "    return x\n",
    "\n",
    "\n",
    "x = [1, 2, 3]\n",
    "f(x)\n",
    "print(x)\n",
    "# [11, 12, 13]"
   ]
  },
  {
   "cell_type": "code",
   "execution_count": null,
   "metadata": {},
   "outputs": [],
   "source": [
    "函数式编程"
   ]
  },
  {
   "cell_type": "code",
   "execution_count": 39,
   "metadata": {},
   "outputs": [
    {
     "output_type": "stream",
     "name": "stdout",
     "text": "[1, 2, 3]\n[11, 12, 13]\n[11, 12, 13]\n"
    }
   ],
   "source": [
    "def f(x):\n",
    "    y = []\n",
    "    for item in x:\n",
    "        # print(type(item))\n",
    "        y.append(item + 10)\n",
    "    # print(y)\n",
    "    return y\n",
    "\n",
    "\n",
    "x = [1, 2, 3]\n",
    "\n",
    "print(x)\n",
    "print(f(x))\n",
    "# [1, 2, 3]"
   ]
  },
  {
   "cell_type": "markdown",
   "metadata": {},
   "source": [
    "匿名函数 常常应用于函数式编程的高阶函数 (high-order function)中，主要有两种形式：\n",
    "\n",
    "* 参数是函数 (filter, map)\n",
    "* 返回值是函数 (closure)\n",
    "\n",
    "如，在 `filter`和`map`函数中的应用：\n",
    "\n",
    "* filter(function, iterable) 过滤序列，过滤掉不符合条件的元素，返回一个迭代器对象，如果要转换为列表，可以使用 list() 来转换。"
   ]
  },
  {
   "cell_type": "code",
   "execution_count": 43,
   "metadata": {},
   "outputs": [
    {
     "output_type": "stream",
     "name": "stdout",
     "text": "[1, 3, 5, 7, 9]\n"
    }
   ],
   "source": [
    "odd = lambda x: x % 2 == 1\n",
    "templist = filter(odd, [1, 2, 3, 4, 5, 6, 7, 8, 9])\n",
    "print(list(templist))  # [1, 3, 5, 7, 9]"
   ]
  },
  {
   "cell_type": "markdown",
   "metadata": {},
   "source": [
    "* map(function, *iterables) 根据提供的函数对指定序列做映射。"
   ]
  },
  {
   "cell_type": "code",
   "execution_count": 45,
   "metadata": {},
   "outputs": [
    {
     "output_type": "stream",
     "name": "stdout",
     "text": "[1, 4, 9, 16, 25]\n<map object at 0x7fec2cc287b8>\n[3, 7, 11, 15, 19]\n"
    }
   ],
   "source": [
    "m1 = map(lambda x: x ** 2, [1, 2, 3, 4, 5])\n",
    "print(list(m1))  \n",
    "# [1, 4, 9, 16, 25]\n",
    "\n",
    "m2 = map(lambda x, y: x + y, [1, 3, 5, 7, 9], [2, 4, 6, 8, 10])\n",
    "print(m2)\n",
    "print(list(m2))  \n",
    "# [3, 7, 11, 15, 19]"
   ]
  },
  {
   "cell_type": "code",
   "execution_count": null,
   "metadata": {},
   "outputs": [],
   "source": [
    "除了 Python 这些内置函数，我们也可以自己定义高阶函数。"
   ]
  },
  {
   "cell_type": "code",
   "execution_count": 46,
   "metadata": {},
   "outputs": [
    {
     "output_type": "stream",
     "name": "stdout",
     "text": "15\n5\n3.0\n"
    }
   ],
   "source": [
    "def apply_to_list(fun, some_list):\n",
    "    return fun(some_list)\n",
    "\n",
    "lst = [1, 2, 3, 4, 5]\n",
    "print(apply_to_list(sum, lst))\n",
    "# 15\n",
    "\n",
    "print(apply_to_list(len, lst))\n",
    "# 5\n",
    "\n",
    "print(apply_to_list(lambda x: sum(x) / len(x), lst))\n",
    "# 3.0"
   ]
  },
  {
   "cell_type": "code",
   "execution_count": null,
   "metadata": {},
   "outputs": [],
   "source": [
    "参考文献：\n",
    "\n",
    "https://www.runoob.com/python3/python3-tutorial.html\n",
    "https://www.bilibili.com/video/av4050443\n",
    "https://mp.weixin.qq.com/s/gKhXS8JVU8dZBHJF7sIFsw"
   ]
  },
  {
   "cell_type": "markdown",
   "metadata": {},
   "source": [
    "# 练习题："
   ]
  },
  {
   "cell_type": "markdown",
   "metadata": {},
   "source": [
    "* 1.怎么给函数编写⽂档？\n"
   ]
  },
  {
   "cell_type": "code",
   "execution_count": null,
   "metadata": {},
   "outputs": [],
   "source": [
    "在函数中利用双引号“”编写文档，\n",
    "利用__doc__、__name__等关键字获取函数的注释、名称等或者利用help(MyFirstFunction)函数可以获得函数相关文档"
   ]
  },
  {
   "cell_type": "markdown",
   "metadata": {},
   "source": [
    "* 2.怎么给函数参数和返回值注解？"
   ]
  },
  {
   "cell_type": "code",
   "execution_count": null,
   "metadata": {},
   "outputs": [],
   "source": [
    "在函数对应形参后面冒号说明类型，在def的括号后面箭头说明返回值类型，例如\n",
    "def func(x: int, y: int) -> int:"
   ]
  },
  {
   "cell_type": "markdown",
   "metadata": {},
   "source": [
    "* 3.闭包中，怎么对数字、字符串、元组等不可变元素更新。"
   ]
  },
  {
   "cell_type": "code",
   "execution_count": null,
   "metadata": {},
   "outputs": [],
   "source": [
    "声明 nonlocal关键字"
   ]
  },
  {
   "cell_type": "markdown",
   "metadata": {},
   "source": [
    "* 4.分别根据每一行的首元素和尾元素大小对二维列表 a = \\[\\[6, 5\\], \\[3, 7\\], \\[2, 8\\]\\] 排序。(利用lambda表达式)"
   ]
  },
  {
   "cell_type": "markdown",
   "metadata": {},
   "source": [
    "> 使用sorted()函数实现 sorted(iterable, cmp=None, key=None, reverse=False)\n",
    "\n",
    "* iterable – 可迭代对象。\n",
    "* cmp – 比较的函数，这个具有两个参数，参数的值都是从可迭代对象中取出，此函数必须遵守的规则为，大于则返回1，小于则返回-1，等于则返回0。\n",
    "* key – 主要是用来进行比较的元素，只有一个参数，具体的函数的参数就是取自于可迭代对象中，指定可迭代对象中的一个元素来进行排序。\n",
    "* reverse – 排序规则，reverse = True 降序 ， reverse = False 升序（默认）。\n",
    "* 参考https://www.runoob.com/python/python-func-sorted.html"
   ]
  },
  {
   "cell_type": "code",
   "execution_count": 53,
   "metadata": {},
   "outputs": [
    {
     "output_type": "stream",
     "name": "stdout",
     "text": "[[2, 8], [3, 7], [6, 5]]\n[[6, 5], [3, 7], [2, 8]]\n"
    }
   ],
   "source": [
    "a = [[6, 5], [3, 7], [2, 8]]\n",
    "print(sorted(a,key=lambda x:x[0]))\n",
    "\n",
    "print(sorted(a,key=lambda x:x[1]))\n",
    ""
   ]
  },
  {
   "cell_type": "markdown",
   "metadata": {},
   "source": [
    "* 5.利用python解决汉诺塔问题？\n",
    "\n",
    "有a、b、c三根柱子，在a柱子上从下往上按照大小顺序摞着64片圆盘，把圆盘从下面开始按大小顺序重新摆放在c柱子上，尝试用函数来模拟解决的过程。（提示：将问题简化为已经成功地将a柱上面的63个盘子移到了b柱）"
   ]
  },
  {
   "cell_type": "code",
   "execution_count": 63,
   "metadata": {},
   "outputs": [
    {
     "output_type": "stream",
     "name": "stdout",
     "text": "将1号盘子从b移动到c\n将2号盘子从a移动到c\n将1号盘子从c移动到a\n"
    }
   ],
   "source": [
    "# def move(n,a,b,c):\n",
    "#     print('将%d号盘子从%s移动到%s'%(n,a,c))\n",
    "# def hanno(n,a,b,c):\n",
    "#     if n==0:\n",
    "#         return 1        \n",
    "#     hanno(n-1,b,a,c)\n",
    "\n",
    "#     move(n,a,b,c)\n",
    "\n",
    "#     hanno(n-1,c,b,a)\n",
    "#         # return hannuo(a-1,b,c+1)\n",
    "# hanno(2,'a','b','c')\n"
   ]
  },
  {
   "cell_type": "code",
   "execution_count": 58,
   "metadata": {},
   "outputs": [
    {
     "output_type": "stream",
     "name": "stdout",
     "text": "将1号盘子从a移动到b\n将2号盘子从a移动到c\n将1号盘子从b移动到c\n"
    }
   ],
   "source": [
    "def move(n,a,c):\n",
    "    print('将%d号盘子从%s移动到%s'%(n,a,c))\n",
    "def hanno(n,a,b,c):\n",
    "    if n==0:\n",
    "        return\n",
    "    #如果n>1，a就要把n-1个盘子移动到b（可以经过c）\n",
    "    hanno(n-1,a,c,b)\n",
    "    #然后将剩下的n号盘子从a移动到c\n",
    "    move(n,a,c)\n",
    "    \n",
    "    #最后将b上的n-1号盘子移动到c上\n",
    "    hanno(n-1,b,a,c)\n",
    "hanno(2,'a','b','c')"
   ]
  }
 ]
}